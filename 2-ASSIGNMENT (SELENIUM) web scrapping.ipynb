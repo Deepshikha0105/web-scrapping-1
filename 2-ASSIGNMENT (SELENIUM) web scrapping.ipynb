{
 "cells": [
  {
   "cell_type": "markdown",
   "id": "8aca5c65",
   "metadata": {},
   "source": [
    " <div style=\"background-color: cyan; \">\n",
    "    <p style=\"font-size: 24px; font-weight: bold; color: blue;text-align: center;\">ASSINGEMENT 2</p>\n",
    "</div>"
   ]
  },
  {
   "cell_type": "markdown",
   "id": "7d42c3bc",
   "metadata": {},
   "source": [
    "## <font color='deeppink'>Q1: Write a python program to scrape data for “Data Analyst” Job position in “Bangalore” location. You have to scrape the job-title, job-location, company_name, experience_required. You have to scrape first 10 jobs data.</font>\n",
    "#### <font color='blue'>This task will be done in following steps:</font>\n",
    "#### <font color='blue'>1. First get the webpage https://www.naukri.com/</font>\n",
    "#### <font color='blue'>2. Enter “Data Analyst” in “Skill, Designations, Companies” field and enter “Bangalore” in “enter the location” field.</font>\n",
    "#### <font color='blue'>3. Then click the search button.</font>\n",
    "#### <font color='blue'>4. Then scrape the data for the first 10 jobs results you get.</font>\n",
    "#### <font color='blue'>5. Finally create a dataframe of the scraped data</font>"
   ]
  },
  {
   "cell_type": "code",
   "execution_count": 1,
   "id": "9a1eeeb8",
   "metadata": {},
   "outputs": [],
   "source": [
    "import selenium\n",
    "import pandas as pd\n",
    "from selenium import webdriver\n",
    "import time\n",
    "from selenium.webdriver.common.by import By"
   ]
  },
  {
   "cell_type": "code",
   "execution_count": 13,
   "id": "63ab1dde",
   "metadata": {},
   "outputs": [
    {
     "name": "stderr",
     "output_type": "stream",
     "text": [
      "C:\\Users\\Deepshika\\AppData\\Local\\Temp\\ipykernel_12608\\681551397.py:2: DeprecationWarning: executable_path has been deprecated, please pass in a Service object\n",
      "  driver= webdriver.Chrome(r'C:\\Users\\Deepshika\\Downloads\\deep_chromedriver\\chromedriver.exe')\n"
     ]
    }
   ],
   "source": [
    "#first connect to the driver\n",
    "driver= webdriver.Chrome(r'C:\\Users\\Deepshika\\Downloads\\deep_chromedriver\\chromedriver.exe') \n"
   ]
  },
  {
   "cell_type": "code",
   "execution_count": 104,
   "id": "20075fe0",
   "metadata": {},
   "outputs": [],
   "source": [
    "#opening the naukari page on automated chrome browser\n",
    "driver.get('https://www.naukri.com/') "
   ]
  },
  {
   "cell_type": "code",
   "execution_count": 105,
   "id": "a4447d75",
   "metadata": {},
   "outputs": [],
   "source": [
    "#entering job title by using CLASS\n",
    "\n",
    "designation= driver.find_element(By.CLASS_NAME,'suggestor-input ') \n",
    "#write element for single and elements will use for multiple\n",
    "designation.send_keys('Data Analyst')"
   ]
  },
  {
   "cell_type": "code",
   "execution_count": 107,
   "id": "4d7bbc94",
   "metadata": {},
   "outputs": [],
   "source": [
    "location=driver.find_element(By.XPATH,'/html/body/div[1]/div[6]/div/div/div[5]/div/div/div/input') #absolute xpath : started with single slash\n",
    "location.send_keys('Bangalore')"
   ]
  },
  {
   "cell_type": "code",
   "execution_count": 108,
   "id": "be89f594",
   "metadata": {},
   "outputs": [],
   "source": [
    "search=driver.find_element(By.CLASS_NAME,'qsbSubmit')\n",
    "search.click()"
   ]
  },
  {
   "cell_type": "code",
   "execution_count": 109,
   "id": "d83849be",
   "metadata": {},
   "outputs": [
    {
     "data": {
      "text/plain": [
       "['Data Analyst',\n",
       " 'Data Analyst',\n",
       " 'Data Analyst Job Opportunity - Tavant Offshore',\n",
       " 'Data Analyst',\n",
       " 'Tech Data Analyst',\n",
       " 'Data Analyst',\n",
       " 'Data Analyst',\n",
       " 'Optimal Cost - Data Analyst || Bangalore',\n",
       " 'Data Analyst',\n",
       " 'K12 Techno Services - Data Analyst - IIM/ISB/MDI/FMS/SP Jain']"
      ]
     },
     "execution_count": 109,
     "metadata": {},
     "output_type": "execute_result"
    }
   ],
   "source": [
    "job_title=[]\n",
    "\n",
    "title_tags=driver.find_elements(By.XPATH,'//a[@class=\"title ellipsis\"]')\n",
    "for i in title_tags[0:10]:\n",
    "    title=i.text\n",
    "    job_title.append(title)\n",
    "job_title"
   ]
  },
  {
   "cell_type": "code",
   "execution_count": 110,
   "id": "69b23d37",
   "metadata": {},
   "outputs": [
    {
     "data": {
      "text/plain": [
       "['Bangalore/Bengaluru',\n",
       " 'Bangalore/Bengaluru',\n",
       " 'Bangalore/Bengaluru',\n",
       " 'Bangalore/Bengaluru',\n",
       " 'Hybrid - Bangalore/Bengaluru, Gurgaon/Gurugram',\n",
       " 'Hybrid - Bangalore/Bengaluru',\n",
       " 'Hybrid - Bangalore/Bengaluru, Chennai',\n",
       " 'Bangalore/Bengaluru, Bangalore North',\n",
       " 'Bangalore/Bengaluru',\n",
       " 'Bangalore/Bengaluru']"
      ]
     },
     "execution_count": 110,
     "metadata": {},
     "output_type": "execute_result"
    }
   ],
   "source": [
    "job_location=[]\n",
    "\n",
    "\n",
    "loc_tags=driver.find_elements(By.XPATH,'//span[@class=\"ellipsis fleft locWdth\"]') #relative XPATH\n",
    "for i in loc_tags[0:10]:\n",
    "    job_location.append(i.text)\n",
    "job_location"
   ]
  },
  {
   "cell_type": "code",
   "execution_count": 111,
   "id": "d8c4f7a3",
   "metadata": {},
   "outputs": [
    {
     "data": {
      "text/plain": [
       "['Spectrum Talent Management',\n",
       " 'Trigent Software',\n",
       " 'Tavant Technologies',\n",
       " 'Target',\n",
       " 'Wipro',\n",
       " 'Aon',\n",
       " 'Capco',\n",
       " '2coms',\n",
       " 'Novel Office',\n",
       " 'K12 Techno Services']"
      ]
     },
     "execution_count": 111,
     "metadata": {},
     "output_type": "execute_result"
    }
   ],
   "source": [
    "company_name=[]\n",
    "\n",
    "company_tags=driver.find_elements(By.XPATH,'//a[@class=\"subTitle ellipsis fleft\"]')\n",
    "for i in company_tags[0:10]:\n",
    "    company_name.append(i.text)\n",
    "company_name"
   ]
  },
  {
   "cell_type": "code",
   "execution_count": 112,
   "id": "755f3cc8",
   "metadata": {},
   "outputs": [
    {
     "data": {
      "text/plain": [
       "['2-4 Yrs',\n",
       " '2-5 Yrs',\n",
       " '4-9 Yrs',\n",
       " '2-4 Yrs',\n",
       " '4-7 Yrs',\n",
       " '3-6 Yrs',\n",
       " '6-10 Yrs',\n",
       " '2-7 Yrs',\n",
       " '0-2 Yrs',\n",
       " '4-9 Yrs']"
      ]
     },
     "execution_count": 112,
     "metadata": {},
     "output_type": "execute_result"
    }
   ],
   "source": [
    "exp_required=[]\n",
    "exp_tags=driver.find_elements(By.XPATH,'//span[@class=\"ellipsis fleft expwdth\"]')\n",
    "for i in exp_tags[0:10]:\n",
    "    exp_required.append(i.text)\n",
    "exp_required"
   ]
  },
  {
   "cell_type": "code",
   "execution_count": 113,
   "id": "2869b7c0",
   "metadata": {},
   "outputs": [
    {
     "name": "stdout",
     "output_type": "stream",
     "text": [
      "10\n"
     ]
    },
    {
     "data": {
      "text/plain": [
       "['1 Day Ago',\n",
       " '6 Days Ago',\n",
       " '1 Day Ago',\n",
       " '4 Days Ago',\n",
       " '14 Days Ago',\n",
       " '7 Days Ago',\n",
       " '1 Day Ago',\n",
       " '1 Day Ago',\n",
       " '1 Day Ago',\n",
       " '14 Days Ago']"
      ]
     },
     "execution_count": 113,
     "metadata": {},
     "output_type": "execute_result"
    }
   ],
   "source": [
    "posted_date=[]\n",
    "date=driver.find_elements(By.XPATH,'//span[@class=\"fleft postedDate\"]')\n",
    "for i in date[0:10]:\n",
    "    posted_date.append(i.text)\n",
    "print(len(posted_date))\n",
    "posted_date\n"
   ]
  },
  {
   "cell_type": "code",
   "execution_count": 114,
   "id": "ae8439bf",
   "metadata": {},
   "outputs": [
    {
     "name": "stdout",
     "output_type": "stream",
     "text": [
      "10\n"
     ]
    }
   ],
   "source": [
    "salary=[]\n",
    "sal=driver.find_elements(By.XPATH,'//span[@class=\"ellipsis fleft \"]')\n",
    "for i in sal[0:10]:\n",
    "    salary.append(i.text)\n",
    "print(len(salary))\n",
    "#salary"
   ]
  },
  {
   "cell_type": "code",
   "execution_count": 115,
   "id": "7b91305c",
   "metadata": {
    "scrolled": true
   },
   "outputs": [
    {
     "data": {
      "text/html": [
       "<div>\n",
       "<style scoped>\n",
       "    .dataframe tbody tr th:only-of-type {\n",
       "        vertical-align: middle;\n",
       "    }\n",
       "\n",
       "    .dataframe tbody tr th {\n",
       "        vertical-align: top;\n",
       "    }\n",
       "\n",
       "    .dataframe thead th {\n",
       "        text-align: right;\n",
       "    }\n",
       "</style>\n",
       "<table border=\"1\" class=\"dataframe\">\n",
       "  <thead>\n",
       "    <tr style=\"text-align: right;\">\n",
       "      <th></th>\n",
       "      <th>Job titles</th>\n",
       "      <th>Job Location</th>\n",
       "      <th>Company name</th>\n",
       "      <th>Experience required</th>\n",
       "      <th>Posted date</th>\n",
       "      <th>Salary</th>\n",
       "    </tr>\n",
       "  </thead>\n",
       "  <tbody>\n",
       "    <tr>\n",
       "      <th>0</th>\n",
       "      <td>Data Analyst</td>\n",
       "      <td>Bangalore/Bengaluru</td>\n",
       "      <td>Spectrum Talent Management</td>\n",
       "      <td>2-4 Yrs</td>\n",
       "      <td>1 Day Ago</td>\n",
       "      <td>Not disclosed</td>\n",
       "    </tr>\n",
       "    <tr>\n",
       "      <th>1</th>\n",
       "      <td>Data Analyst</td>\n",
       "      <td>Bangalore/Bengaluru</td>\n",
       "      <td>Trigent Software</td>\n",
       "      <td>2-5 Yrs</td>\n",
       "      <td>6 Days Ago</td>\n",
       "      <td>Not disclosed</td>\n",
       "    </tr>\n",
       "    <tr>\n",
       "      <th>2</th>\n",
       "      <td>Data Analyst Job Opportunity - Tavant Offshore</td>\n",
       "      <td>Bangalore/Bengaluru</td>\n",
       "      <td>Tavant Technologies</td>\n",
       "      <td>4-9 Yrs</td>\n",
       "      <td>1 Day Ago</td>\n",
       "      <td>5-15 Lacs PA</td>\n",
       "    </tr>\n",
       "    <tr>\n",
       "      <th>3</th>\n",
       "      <td>Data Analyst</td>\n",
       "      <td>Bangalore/Bengaluru</td>\n",
       "      <td>Target</td>\n",
       "      <td>2-4 Yrs</td>\n",
       "      <td>4 Days Ago</td>\n",
       "      <td>Not disclosed</td>\n",
       "    </tr>\n",
       "    <tr>\n",
       "      <th>4</th>\n",
       "      <td>Tech Data Analyst</td>\n",
       "      <td>Hybrid - Bangalore/Bengaluru, Gurgaon/Gurugram</td>\n",
       "      <td>Wipro</td>\n",
       "      <td>4-7 Yrs</td>\n",
       "      <td>14 Days Ago</td>\n",
       "      <td>14-19 Lacs PA</td>\n",
       "    </tr>\n",
       "    <tr>\n",
       "      <th>5</th>\n",
       "      <td>Data Analyst</td>\n",
       "      <td>Hybrid - Bangalore/Bengaluru</td>\n",
       "      <td>Aon</td>\n",
       "      <td>3-6 Yrs</td>\n",
       "      <td>7 Days Ago</td>\n",
       "      <td>Not disclosed</td>\n",
       "    </tr>\n",
       "    <tr>\n",
       "      <th>6</th>\n",
       "      <td>Data Analyst</td>\n",
       "      <td>Hybrid - Bangalore/Bengaluru, Chennai</td>\n",
       "      <td>Capco</td>\n",
       "      <td>6-10 Yrs</td>\n",
       "      <td>1 Day Ago</td>\n",
       "      <td>Not disclosed</td>\n",
       "    </tr>\n",
       "    <tr>\n",
       "      <th>7</th>\n",
       "      <td>Optimal Cost - Data Analyst || Bangalore</td>\n",
       "      <td>Bangalore/Bengaluru, Bangalore North</td>\n",
       "      <td>2coms</td>\n",
       "      <td>2-7 Yrs</td>\n",
       "      <td>1 Day Ago</td>\n",
       "      <td>90,000-3 Lacs PA</td>\n",
       "    </tr>\n",
       "    <tr>\n",
       "      <th>8</th>\n",
       "      <td>Data Analyst</td>\n",
       "      <td>Bangalore/Bengaluru</td>\n",
       "      <td>Novel Office</td>\n",
       "      <td>0-2 Yrs</td>\n",
       "      <td>1 Day Ago</td>\n",
       "      <td>Not disclosed</td>\n",
       "    </tr>\n",
       "    <tr>\n",
       "      <th>9</th>\n",
       "      <td>K12 Techno Services - Data Analyst - IIM/ISB/M...</td>\n",
       "      <td>Bangalore/Bengaluru</td>\n",
       "      <td>K12 Techno Services</td>\n",
       "      <td>4-9 Yrs</td>\n",
       "      <td>14 Days Ago</td>\n",
       "      <td>Not disclosed</td>\n",
       "    </tr>\n",
       "  </tbody>\n",
       "</table>\n",
       "</div>"
      ],
      "text/plain": [
       "                                          Job titles  \\\n",
       "0                                       Data Analyst   \n",
       "1                                       Data Analyst   \n",
       "2     Data Analyst Job Opportunity - Tavant Offshore   \n",
       "3                                       Data Analyst   \n",
       "4                                  Tech Data Analyst   \n",
       "5                                       Data Analyst   \n",
       "6                                       Data Analyst   \n",
       "7           Optimal Cost - Data Analyst || Bangalore   \n",
       "8                                       Data Analyst   \n",
       "9  K12 Techno Services - Data Analyst - IIM/ISB/M...   \n",
       "\n",
       "                                     Job Location                Company name  \\\n",
       "0                             Bangalore/Bengaluru  Spectrum Talent Management   \n",
       "1                             Bangalore/Bengaluru            Trigent Software   \n",
       "2                             Bangalore/Bengaluru         Tavant Technologies   \n",
       "3                             Bangalore/Bengaluru                      Target   \n",
       "4  Hybrid - Bangalore/Bengaluru, Gurgaon/Gurugram                       Wipro   \n",
       "5                    Hybrid - Bangalore/Bengaluru                         Aon   \n",
       "6           Hybrid - Bangalore/Bengaluru, Chennai                       Capco   \n",
       "7            Bangalore/Bengaluru, Bangalore North                       2coms   \n",
       "8                             Bangalore/Bengaluru                Novel Office   \n",
       "9                             Bangalore/Bengaluru         K12 Techno Services   \n",
       "\n",
       "  Experience required  Posted date            Salary  \n",
       "0             2-4 Yrs    1 Day Ago     Not disclosed  \n",
       "1             2-5 Yrs   6 Days Ago     Not disclosed  \n",
       "2             4-9 Yrs    1 Day Ago      5-15 Lacs PA  \n",
       "3             2-4 Yrs   4 Days Ago     Not disclosed  \n",
       "4             4-7 Yrs  14 Days Ago     14-19 Lacs PA  \n",
       "5             3-6 Yrs   7 Days Ago     Not disclosed  \n",
       "6            6-10 Yrs    1 Day Ago     Not disclosed  \n",
       "7             2-7 Yrs    1 Day Ago  90,000-3 Lacs PA  \n",
       "8             0-2 Yrs    1 Day Ago     Not disclosed  \n",
       "9             4-9 Yrs  14 Days Ago     Not disclosed  "
      ]
     },
     "execution_count": 115,
     "metadata": {},
     "output_type": "execute_result"
    }
   ],
   "source": [
    "df= pd.DataFrame({\n",
    "                'Job titles':job_title,\n",
    "                'Job Location': job_location,\n",
    "                'Company name': company_name,\n",
    "                'Experience required':exp_required,\n",
    "                'Posted date': posted_date,\n",
    "                'Salary':salary\n",
    "})\n",
    "df"
   ]
  },
  {
   "cell_type": "code",
   "execution_count": 116,
   "id": "544dbcf6",
   "metadata": {},
   "outputs": [],
   "source": [
    "driver.close()"
   ]
  },
  {
   "cell_type": "markdown",
   "id": "e18ed544",
   "metadata": {},
   "source": [
    "# <font color='cyan'>--------------------------------------------------------------------------------------------------------------</font>"
   ]
  },
  {
   "cell_type": "markdown",
   "id": "d01c1e35",
   "metadata": {},
   "source": [
    "## <font color='deeppink'>Q2:Write a python program to scrape data for “Data Scientist” Job position in “Bangalore” location. You have to scrape the job-title, job-location, company_name. You have to scrape first 10 jobs data.</font>\n",
    "#### <font color='blue'>This task will be done in following steps:</font>\n",
    "#### <font color='blue'>1. First get the webpage https://www.naukri.com/</font>\n",
    "#### <font color='blue'>2. Enter “Data Scientist” in “Skill, Designations, Companies” field and enter “Bangalore” in “enter the location” field.</font>\n",
    "#### <font color='blue'>3. Then click the searchbutton.</font>\n",
    "#### <font color='blue'>4. Then scrape the data for the first 10 jobs results you get.</font>\n",
    "#### <font color='blue'>5. Finally create a dataframe of the scraped data</font>"
   ]
  },
  {
   "cell_type": "code",
   "execution_count": 118,
   "id": "be7e3a8b",
   "metadata": {},
   "outputs": [
    {
     "name": "stderr",
     "output_type": "stream",
     "text": [
      "C:\\Users\\Deepshika\\AppData\\Local\\Temp\\ipykernel_19292\\4009094376.py:1: DeprecationWarning: executable_path has been deprecated, please pass in a Service object\n",
      "  driver= webdriver.Chrome(r'C:\\Users\\Deepshika\\Downloads\\chromedriver\\chromedriver.exe')\n"
     ]
    }
   ],
   "source": [
    "driver= webdriver.Chrome(r'C:\\Users\\Deepshika\\Downloads\\chromedriver\\chromedriver.exe')"
   ]
  },
  {
   "cell_type": "code",
   "execution_count": 119,
   "id": "2c452fcb",
   "metadata": {},
   "outputs": [],
   "source": [
    "driver.get('https://www.naukri.com/') "
   ]
  },
  {
   "cell_type": "code",
   "execution_count": 120,
   "id": "123b9fa4",
   "metadata": {},
   "outputs": [],
   "source": [
    "#entering job title by using CLASS\n",
    "\n",
    "designation= driver.find_element(By.CLASS_NAME,'suggestor-input ') \n",
    "designation.send_keys('Data Scientist')"
   ]
  },
  {
   "cell_type": "code",
   "execution_count": 121,
   "id": "baa50568",
   "metadata": {},
   "outputs": [],
   "source": [
    "location=driver.find_element(By.XPATH,'/html/body/div[1]/div[6]/div/div/div[5]/div/div/div/input') #absolute xpath : started with single slash\n",
    "location.send_keys('Bangalore')"
   ]
  },
  {
   "cell_type": "code",
   "execution_count": 122,
   "id": "03c826cb",
   "metadata": {},
   "outputs": [],
   "source": [
    "search=driver.find_element(By.CLASS_NAME,'qsbSubmit')\n",
    "search.click()"
   ]
  },
  {
   "cell_type": "code",
   "execution_count": 123,
   "id": "5cb1cf29",
   "metadata": {},
   "outputs": [],
   "source": [
    "job_title=[]\n",
    "\n",
    "title_tags=driver.find_elements(By.XPATH,'//a[@class=\"title ellipsis\"]')\n",
    "for i in title_tags[0:10]:\n",
    "    title=i.text\n",
    "    job_title.append(title)\n",
    "#job_title"
   ]
  },
  {
   "cell_type": "code",
   "execution_count": 124,
   "id": "14f12257",
   "metadata": {},
   "outputs": [
    {
     "data": {
      "text/plain": [
       "10"
      ]
     },
     "execution_count": 124,
     "metadata": {},
     "output_type": "execute_result"
    }
   ],
   "source": [
    "job_location=[]\n",
    "\n",
    "\n",
    "loc_tags=driver.find_elements(By.XPATH,'//span[@class=\"ellipsis fleft locWdth\"]') #relative XPATH\n",
    "for i in loc_tags[0:10]:\n",
    "    job_location.append(i.text)\n",
    "len(job_location)"
   ]
  },
  {
   "cell_type": "code",
   "execution_count": 125,
   "id": "3dfe4942",
   "metadata": {},
   "outputs": [
    {
     "data": {
      "text/plain": [
       "['Persistent',\n",
       " 'PwC',\n",
       " 'Accenture',\n",
       " 'Accenture',\n",
       " 'BYJUS',\n",
       " 'Fractal Protocol',\n",
       " 'Fractal Protocol',\n",
       " 'Fractal Protocol',\n",
       " 'Citicorp Finance',\n",
       " 'Tata Consultancy Services (TCS)']"
      ]
     },
     "execution_count": 125,
     "metadata": {},
     "output_type": "execute_result"
    }
   ],
   "source": [
    "company_name=[]\n",
    "\n",
    "company_tags=driver.find_elements(By.XPATH,'//a[@class=\"subTitle ellipsis fleft\"]')\n",
    "for i in company_tags[0:10]:\n",
    "    company_name.append(i.text)\n",
    "company_name"
   ]
  },
  {
   "cell_type": "code",
   "execution_count": 126,
   "id": "0a546c9c",
   "metadata": {},
   "outputs": [
    {
     "data": {
      "text/plain": [
       "['5-12 Yrs',\n",
       " '7-9 Yrs',\n",
       " '2-4 Yrs',\n",
       " '6-8 Yrs',\n",
       " '0-1 Yrs',\n",
       " '4-8 Yrs',\n",
       " '5-11 Yrs',\n",
       " '3-7 Yrs',\n",
       " '7-12 Yrs',\n",
       " '7-12 Yrs']"
      ]
     },
     "execution_count": 126,
     "metadata": {},
     "output_type": "execute_result"
    }
   ],
   "source": [
    "exp_required=[]\n",
    "\n",
    "exp_tags=driver.find_elements(By.XPATH,'//span[@class=\"ellipsis fleft expwdth\"]')\n",
    "for i in exp_tags[0:10]:\n",
    "    exp_required.append(i.text)\n",
    "exp_required"
   ]
  },
  {
   "cell_type": "code",
   "execution_count": 127,
   "id": "7d52305a",
   "metadata": {},
   "outputs": [
    {
     "name": "stdout",
     "output_type": "stream",
     "text": [
      "10\n"
     ]
    },
    {
     "data": {
      "text/plain": [
       "['4 Days Ago',\n",
       " '3 Days Ago',\n",
       " '29 Days Ago',\n",
       " '29 Days Ago',\n",
       " '1 Day Ago',\n",
       " '18 Days Ago',\n",
       " '18 Days Ago',\n",
       " '18 Days Ago',\n",
       " '4 Days Ago',\n",
       " '29 Days Ago']"
      ]
     },
     "execution_count": 127,
     "metadata": {},
     "output_type": "execute_result"
    }
   ],
   "source": [
    "posted_date=[]\n",
    "date=driver.find_elements(By.XPATH,'//span[@class=\"fleft postedDate\"]')\n",
    "for i in date[0:10]:\n",
    "    posted_date.append(i.text)\n",
    "print(len(posted_date))\n",
    "posted_date\n"
   ]
  },
  {
   "cell_type": "code",
   "execution_count": 129,
   "id": "746dc57b",
   "metadata": {},
   "outputs": [
    {
     "name": "stdout",
     "output_type": "stream",
     "text": [
      "10\n"
     ]
    },
    {
     "data": {
      "text/plain": [
       "['Not disclosed',\n",
       " 'Not disclosed',\n",
       " 'Not disclosed',\n",
       " 'Not disclosed',\n",
       " 'Not disclosed',\n",
       " 'Not disclosed',\n",
       " 'Not disclosed',\n",
       " 'Not disclosed',\n",
       " 'Not disclosed',\n",
       " 'Not disclosed']"
      ]
     },
     "execution_count": 129,
     "metadata": {},
     "output_type": "execute_result"
    }
   ],
   "source": [
    "salary=[]\n",
    "sal=driver.find_elements(By.XPATH,'//span[@class=\"ellipsis fleft \"]')\n",
    "for i in sal[0:10]:\n",
    "    salary.append(i.text)\n",
    "print(len(salary))\n",
    "salary"
   ]
  },
  {
   "cell_type": "code",
   "execution_count": 130,
   "id": "fa443b80",
   "metadata": {
    "scrolled": true
   },
   "outputs": [
    {
     "data": {
      "text/html": [
       "<div>\n",
       "<style scoped>\n",
       "    .dataframe tbody tr th:only-of-type {\n",
       "        vertical-align: middle;\n",
       "    }\n",
       "\n",
       "    .dataframe tbody tr th {\n",
       "        vertical-align: top;\n",
       "    }\n",
       "\n",
       "    .dataframe thead th {\n",
       "        text-align: right;\n",
       "    }\n",
       "</style>\n",
       "<table border=\"1\" class=\"dataframe\">\n",
       "  <thead>\n",
       "    <tr style=\"text-align: right;\">\n",
       "      <th></th>\n",
       "      <th>Job titles</th>\n",
       "      <th>Job Location</th>\n",
       "      <th>Company name</th>\n",
       "      <th>Experience required</th>\n",
       "      <th>Posted date</th>\n",
       "      <th>Salary</th>\n",
       "    </tr>\n",
       "  </thead>\n",
       "  <tbody>\n",
       "    <tr>\n",
       "      <th>0</th>\n",
       "      <td>Machine Learning (AI) Architect</td>\n",
       "      <td>Bangalore/Bengaluru, Kolkata, Mumbai, New Delh...</td>\n",
       "      <td>Persistent</td>\n",
       "      <td>5-12 Yrs</td>\n",
       "      <td>4 Days Ago</td>\n",
       "      <td>Not disclosed</td>\n",
       "    </tr>\n",
       "    <tr>\n",
       "      <th>1</th>\n",
       "      <td>Manager - Innovations Hub - Machine Learning</td>\n",
       "      <td>Bangalore/Bengaluru, Mumbai, Hyderabad/Secunde...</td>\n",
       "      <td>PwC</td>\n",
       "      <td>7-9 Yrs</td>\n",
       "      <td>3 Days Ago</td>\n",
       "      <td>Not disclosed</td>\n",
       "    </tr>\n",
       "    <tr>\n",
       "      <th>2</th>\n",
       "      <td>Data Science Specialist</td>\n",
       "      <td>Bangalore/Bengaluru, Kolkata, Mumbai, Hyderaba...</td>\n",
       "      <td>Accenture</td>\n",
       "      <td>2-4 Yrs</td>\n",
       "      <td>29 Days Ago</td>\n",
       "      <td>Not disclosed</td>\n",
       "    </tr>\n",
       "    <tr>\n",
       "      <th>3</th>\n",
       "      <td>Analystics &amp; Modeling Specialist</td>\n",
       "      <td>Bangalore/Bengaluru, Kolkata, Mumbai, Hyderaba...</td>\n",
       "      <td>Accenture</td>\n",
       "      <td>6-8 Yrs</td>\n",
       "      <td>29 Days Ago</td>\n",
       "      <td>Not disclosed</td>\n",
       "    </tr>\n",
       "    <tr>\n",
       "      <th>4</th>\n",
       "      <td>Data Scientist Intern</td>\n",
       "      <td>Permanent Remote</td>\n",
       "      <td>BYJUS</td>\n",
       "      <td>0-1 Yrs</td>\n",
       "      <td>1 Day Ago</td>\n",
       "      <td>Not disclosed</td>\n",
       "    </tr>\n",
       "    <tr>\n",
       "      <th>5</th>\n",
       "      <td>Senior data scientist</td>\n",
       "      <td>Bangalore/Bengaluru, Mumbai, Pune, Chennai, Gu...</td>\n",
       "      <td>Fractal Protocol</td>\n",
       "      <td>4-8 Yrs</td>\n",
       "      <td>18 Days Ago</td>\n",
       "      <td>Not disclosed</td>\n",
       "    </tr>\n",
       "    <tr>\n",
       "      <th>6</th>\n",
       "      <td>Data Scientist_NLP</td>\n",
       "      <td>Bangalore/Bengaluru, Mumbai, Pune, Chennai, Gu...</td>\n",
       "      <td>Fractal Protocol</td>\n",
       "      <td>5-11 Yrs</td>\n",
       "      <td>18 Days Ago</td>\n",
       "      <td>Not disclosed</td>\n",
       "    </tr>\n",
       "    <tr>\n",
       "      <th>7</th>\n",
       "      <td>Data Scientist</td>\n",
       "      <td>Bangalore/Bengaluru, Mumbai, Pune, Chennai, Gu...</td>\n",
       "      <td>Fractal Protocol</td>\n",
       "      <td>3-7 Yrs</td>\n",
       "      <td>18 Days Ago</td>\n",
       "      <td>Not disclosed</td>\n",
       "    </tr>\n",
       "    <tr>\n",
       "      <th>8</th>\n",
       "      <td>Data Scientist</td>\n",
       "      <td>Hybrid - Bangalore/Bengaluru, Pune</td>\n",
       "      <td>Citicorp Finance</td>\n",
       "      <td>7-12 Yrs</td>\n",
       "      <td>4 Days Ago</td>\n",
       "      <td>Not disclosed</td>\n",
       "    </tr>\n",
       "    <tr>\n",
       "      <th>9</th>\n",
       "      <td>Sr. Data scientist</td>\n",
       "      <td>Bangalore/Bengaluru, Hyderabad/Secunderabad, M...</td>\n",
       "      <td>Tata Consultancy Services (TCS)</td>\n",
       "      <td>7-12 Yrs</td>\n",
       "      <td>29 Days Ago</td>\n",
       "      <td>Not disclosed</td>\n",
       "    </tr>\n",
       "  </tbody>\n",
       "</table>\n",
       "</div>"
      ],
      "text/plain": [
       "                                     Job titles  \\\n",
       "0               Machine Learning (AI) Architect   \n",
       "1  Manager - Innovations Hub - Machine Learning   \n",
       "2                       Data Science Specialist   \n",
       "3              Analystics & Modeling Specialist   \n",
       "4                         Data Scientist Intern   \n",
       "5                         Senior data scientist   \n",
       "6                            Data Scientist_NLP   \n",
       "7                                Data Scientist   \n",
       "8                                Data Scientist   \n",
       "9                            Sr. Data scientist   \n",
       "\n",
       "                                        Job Location  \\\n",
       "0  Bangalore/Bengaluru, Kolkata, Mumbai, New Delh...   \n",
       "1  Bangalore/Bengaluru, Mumbai, Hyderabad/Secunde...   \n",
       "2  Bangalore/Bengaluru, Kolkata, Mumbai, Hyderaba...   \n",
       "3  Bangalore/Bengaluru, Kolkata, Mumbai, Hyderaba...   \n",
       "4                                   Permanent Remote   \n",
       "5  Bangalore/Bengaluru, Mumbai, Pune, Chennai, Gu...   \n",
       "6  Bangalore/Bengaluru, Mumbai, Pune, Chennai, Gu...   \n",
       "7  Bangalore/Bengaluru, Mumbai, Pune, Chennai, Gu...   \n",
       "8                 Hybrid - Bangalore/Bengaluru, Pune   \n",
       "9  Bangalore/Bengaluru, Hyderabad/Secunderabad, M...   \n",
       "\n",
       "                      Company name Experience required  Posted date  \\\n",
       "0                       Persistent            5-12 Yrs   4 Days Ago   \n",
       "1                              PwC             7-9 Yrs   3 Days Ago   \n",
       "2                        Accenture             2-4 Yrs  29 Days Ago   \n",
       "3                        Accenture             6-8 Yrs  29 Days Ago   \n",
       "4                            BYJUS             0-1 Yrs    1 Day Ago   \n",
       "5                 Fractal Protocol             4-8 Yrs  18 Days Ago   \n",
       "6                 Fractal Protocol            5-11 Yrs  18 Days Ago   \n",
       "7                 Fractal Protocol             3-7 Yrs  18 Days Ago   \n",
       "8                 Citicorp Finance            7-12 Yrs   4 Days Ago   \n",
       "9  Tata Consultancy Services (TCS)            7-12 Yrs  29 Days Ago   \n",
       "\n",
       "          Salary  \n",
       "0  Not disclosed  \n",
       "1  Not disclosed  \n",
       "2  Not disclosed  \n",
       "3  Not disclosed  \n",
       "4  Not disclosed  \n",
       "5  Not disclosed  \n",
       "6  Not disclosed  \n",
       "7  Not disclosed  \n",
       "8  Not disclosed  \n",
       "9  Not disclosed  "
      ]
     },
     "execution_count": 130,
     "metadata": {},
     "output_type": "execute_result"
    }
   ],
   "source": [
    "df= pd.DataFrame({\n",
    "                'Job titles':job_title,\n",
    "                'Job Location': job_location,\n",
    "                'Company name': company_name,\n",
    "                'Experience required':exp_required,\n",
    "                'Posted date': posted_date,\n",
    "                'Salary':salary\n",
    "})\n",
    "df"
   ]
  },
  {
   "cell_type": "markdown",
   "id": "a589fe2e",
   "metadata": {},
   "source": [
    "# <font color='cyan'>--------------------------------------------------------------------------------------------------------------</font>"
   ]
  },
  {
   "cell_type": "markdown",
   "id": "d913bb27",
   "metadata": {},
   "source": [
    "## <font color='deeppink'>Q3: In this question you have to scrape data using the filters available on the webpage as shown below:</font>\n",
    "### <font color='red'>You have to use the location and salary filter.</font>\n",
    "### <font color='red'>You have to scrape data for “Data Scientist” designation for first 10 job results.</font>\n",
    "### <font color='red'>You have to scrape the job-title, job-location, company name, experience required. </font>\n",
    "### <font color='red'>The location filter to be used is “Delhi/NCR”. The salary filter to be used is “3-6” lakhs</font>\n",
    "#### <font color='blue'>The task will be done as shown in the below steps:</font>\n",
    "> #### <font color='blue'>1. first get the webpage https://www.naukri.com/</font>\n",
    "> #### <font color='blue'>2. Enter “Data Scientist” in “Skill, Designations, and Companies” field.</font>\n",
    "> #### <font color='blue'>3. Then click the searchbutton.</font>\n",
    "> #### <font color='blue'>4. Then apply the location filter and salary filter by checking the respective boxes</font>\n",
    "> #### <font color='blue'>5. Then scrape the data for the first 10 jobs results youget.</font>\n",
    "> #### <font color='blue'>6. Finally create a dataframe of the scraped data.</font>\n",
    "\n",
    "    "
   ]
  },
  {
   "cell_type": "code",
   "execution_count": 131,
   "id": "244a259d",
   "metadata": {},
   "outputs": [],
   "source": [
    "\n",
    "driver.get('https://www.naukri.com/')"
   ]
  },
  {
   "cell_type": "code",
   "execution_count": 132,
   "id": "9f38b28b",
   "metadata": {},
   "outputs": [],
   "source": [
    "\n",
    "designation= driver.find_element(By.CLASS_NAME,'suggestor-input ') \n",
    "designation.send_keys('Data Scientist')"
   ]
  },
  {
   "cell_type": "code",
   "execution_count": 134,
   "id": "150c747f",
   "metadata": {},
   "outputs": [],
   "source": [
    "search=driver.find_element(By.XPATH,'/html/body/div[1]/div[4]/div/div/section[1]/div[2]/div[5]/div[2]/div[2]/label/i')\n",
    "search.click()"
   ]
  },
  {
   "cell_type": "code",
   "execution_count": 136,
   "id": "96a639e8",
   "metadata": {},
   "outputs": [],
   "source": [
    "search_sal=driver.find_element(By.XPATH,'/html/body/div[1]/div[4]/div/div/section[1]/div[2]/div[6]/div[2]/div[2]/label/i')\n",
    "search_sal.click()"
   ]
  },
  {
   "cell_type": "code",
   "execution_count": 137,
   "id": "290d77f9",
   "metadata": {},
   "outputs": [
    {
     "data": {
      "text/plain": [
       "['Data Scientist',\n",
       " 'Analyst-Data Science',\n",
       " 'Analyst-Data Science',\n",
       " 'Senior Data Scientist',\n",
       " 'Engineer/Assistant Manager - Data Scientist',\n",
       " 'Data Scientist',\n",
       " 'Business Development Manager For Recruitment Firm || 5 Days || 40 LPA',\n",
       " 'Data Science & AI Specialist',\n",
       " 'Associate Data Scientist - ML & NLP',\n",
       " 'Data Scientist']"
      ]
     },
     "execution_count": 137,
     "metadata": {},
     "output_type": "execute_result"
    }
   ],
   "source": [
    "job_title=[]\n",
    "\n",
    "title_tags=driver.find_elements(By.XPATH,'//a[@class=\"title ellipsis\"]')\n",
    "for i in title_tags[0:10]:\n",
    "    title=i.text\n",
    "    job_title.append(title)\n",
    "job_title"
   ]
  },
  {
   "cell_type": "code",
   "execution_count": 138,
   "id": "e696797d",
   "metadata": {},
   "outputs": [
    {
     "data": {
      "text/plain": [
       "10"
      ]
     },
     "execution_count": 138,
     "metadata": {},
     "output_type": "execute_result"
    }
   ],
   "source": [
    "job_location=[]\n",
    "\n",
    "\n",
    "loc_tags=driver.find_elements(By.XPATH,'//span[@class=\"ellipsis fleft locWdth\"]') #relative XPATH\n",
    "for i in loc_tags[0:10]:\n",
    "    job_location.append(i.text)\n",
    "len(job_location)"
   ]
  },
  {
   "cell_type": "code",
   "execution_count": 139,
   "id": "5cf37dd5",
   "metadata": {},
   "outputs": [
    {
     "data": {
      "text/plain": [
       "['Tabsquare',\n",
       " 'AMERICAN EXPRESS',\n",
       " 'AMERICAN EXPRESS',\n",
       " 'RecruitEForU',\n",
       " 'Goods and Services Tax Network (GSTN)',\n",
       " 'Gartner India Research &amp; Advisory Services Pvt Ltd',\n",
       " 'Rimpac Hr Services Llp',\n",
       " 'BT',\n",
       " 'Gartner India Research &amp; Advisory Services Pvt Ltd',\n",
       " 'Gujarat Fluorochemicals']"
      ]
     },
     "execution_count": 139,
     "metadata": {},
     "output_type": "execute_result"
    }
   ],
   "source": [
    "company_name=[]\n",
    "\n",
    "company_tags=driver.find_elements(By.XPATH,'//a[@class=\"subTitle ellipsis fleft\"]')\n",
    "for i in company_tags[0:10]:\n",
    "    company_name.append(i.text)\n",
    "company_name"
   ]
  },
  {
   "cell_type": "code",
   "execution_count": 140,
   "id": "c0d614ae",
   "metadata": {},
   "outputs": [
    {
     "data": {
      "text/plain": [
       "['1-3 Yrs',\n",
       " '0-3 Yrs',\n",
       " '0-3 Yrs',\n",
       " '3-8 Yrs',\n",
       " '2-7 Yrs',\n",
       " '2-7 Yrs',\n",
       " '1-6 Yrs',\n",
       " '3-5 Yrs',\n",
       " '2-4 Yrs',\n",
       " '1-2 Yrs']"
      ]
     },
     "execution_count": 140,
     "metadata": {},
     "output_type": "execute_result"
    }
   ],
   "source": [
    "exp_required=[]\n",
    "\n",
    "exp_tags=driver.find_elements(By.XPATH,'//span[@class=\"ellipsis fleft expwdth\"]')\n",
    "for i in exp_tags[0:10]:\n",
    "    exp_required.append(i.text)\n",
    "exp_required"
   ]
  },
  {
   "cell_type": "code",
   "execution_count": 141,
   "id": "03b6d4fa",
   "metadata": {
    "scrolled": true
   },
   "outputs": [
    {
     "data": {
      "text/html": [
       "<div>\n",
       "<style scoped>\n",
       "    .dataframe tbody tr th:only-of-type {\n",
       "        vertical-align: middle;\n",
       "    }\n",
       "\n",
       "    .dataframe tbody tr th {\n",
       "        vertical-align: top;\n",
       "    }\n",
       "\n",
       "    .dataframe thead th {\n",
       "        text-align: right;\n",
       "    }\n",
       "</style>\n",
       "<table border=\"1\" class=\"dataframe\">\n",
       "  <thead>\n",
       "    <tr style=\"text-align: right;\">\n",
       "      <th></th>\n",
       "      <th>Job titles</th>\n",
       "      <th>Job Location</th>\n",
       "      <th>Company name</th>\n",
       "      <th>Experience required</th>\n",
       "    </tr>\n",
       "  </thead>\n",
       "  <tbody>\n",
       "    <tr>\n",
       "      <th>0</th>\n",
       "      <td>Data Scientist</td>\n",
       "      <td>Kolkata, Mumbai, New Delhi, Hyderabad/Secunder...</td>\n",
       "      <td>Tabsquare</td>\n",
       "      <td>1-3 Yrs</td>\n",
       "    </tr>\n",
       "    <tr>\n",
       "      <th>1</th>\n",
       "      <td>Analyst-Data Science</td>\n",
       "      <td>Gurgaon/Gurugram</td>\n",
       "      <td>AMERICAN EXPRESS</td>\n",
       "      <td>0-3 Yrs</td>\n",
       "    </tr>\n",
       "    <tr>\n",
       "      <th>2</th>\n",
       "      <td>Analyst-Data Science</td>\n",
       "      <td>Gurgaon/Gurugram</td>\n",
       "      <td>AMERICAN EXPRESS</td>\n",
       "      <td>0-3 Yrs</td>\n",
       "    </tr>\n",
       "    <tr>\n",
       "      <th>3</th>\n",
       "      <td>Senior Data Scientist</td>\n",
       "      <td>Hyderabad/Secunderabad, Chenani, Gurgaon/Gurug...</td>\n",
       "      <td>RecruitEForU</td>\n",
       "      <td>3-8 Yrs</td>\n",
       "    </tr>\n",
       "    <tr>\n",
       "      <th>4</th>\n",
       "      <td>Engineer/Assistant Manager - Data Scientist</td>\n",
       "      <td>Delhi / NCR</td>\n",
       "      <td>Goods and Services Tax Network (GSTN)</td>\n",
       "      <td>2-7 Yrs</td>\n",
       "    </tr>\n",
       "    <tr>\n",
       "      <th>5</th>\n",
       "      <td>Data Scientist</td>\n",
       "      <td>Gurgaon/Gurugram</td>\n",
       "      <td>Gartner India Research &amp;amp; Advisory Services...</td>\n",
       "      <td>2-7 Yrs</td>\n",
       "    </tr>\n",
       "    <tr>\n",
       "      <th>6</th>\n",
       "      <td>Business Development Manager For Recruitment F...</td>\n",
       "      <td>Gurgaon/Gurugram</td>\n",
       "      <td>Rimpac Hr Services Llp</td>\n",
       "      <td>1-6 Yrs</td>\n",
       "    </tr>\n",
       "    <tr>\n",
       "      <th>7</th>\n",
       "      <td>Data Science &amp; AI Specialist</td>\n",
       "      <td>Gurgaon/Gurugram</td>\n",
       "      <td>BT</td>\n",
       "      <td>3-5 Yrs</td>\n",
       "    </tr>\n",
       "    <tr>\n",
       "      <th>8</th>\n",
       "      <td>Associate Data Scientist - ML &amp; NLP</td>\n",
       "      <td>Gurgaon/Gurugram</td>\n",
       "      <td>Gartner India Research &amp;amp; Advisory Services...</td>\n",
       "      <td>2-4 Yrs</td>\n",
       "    </tr>\n",
       "    <tr>\n",
       "      <th>9</th>\n",
       "      <td>Data Scientist</td>\n",
       "      <td>Noida</td>\n",
       "      <td>Gujarat Fluorochemicals</td>\n",
       "      <td>1-2 Yrs</td>\n",
       "    </tr>\n",
       "  </tbody>\n",
       "</table>\n",
       "</div>"
      ],
      "text/plain": [
       "                                          Job titles  \\\n",
       "0                                     Data Scientist   \n",
       "1                               Analyst-Data Science   \n",
       "2                               Analyst-Data Science   \n",
       "3                              Senior Data Scientist   \n",
       "4        Engineer/Assistant Manager - Data Scientist   \n",
       "5                                     Data Scientist   \n",
       "6  Business Development Manager For Recruitment F...   \n",
       "7                       Data Science & AI Specialist   \n",
       "8                Associate Data Scientist - ML & NLP   \n",
       "9                                     Data Scientist   \n",
       "\n",
       "                                        Job Location  \\\n",
       "0  Kolkata, Mumbai, New Delhi, Hyderabad/Secunder...   \n",
       "1                                   Gurgaon/Gurugram   \n",
       "2                                   Gurgaon/Gurugram   \n",
       "3  Hyderabad/Secunderabad, Chenani, Gurgaon/Gurug...   \n",
       "4                                        Delhi / NCR   \n",
       "5                                   Gurgaon/Gurugram   \n",
       "6                                   Gurgaon/Gurugram   \n",
       "7                                   Gurgaon/Gurugram   \n",
       "8                                   Gurgaon/Gurugram   \n",
       "9                                              Noida   \n",
       "\n",
       "                                        Company name Experience required  \n",
       "0                                          Tabsquare             1-3 Yrs  \n",
       "1                                   AMERICAN EXPRESS             0-3 Yrs  \n",
       "2                                   AMERICAN EXPRESS             0-3 Yrs  \n",
       "3                                       RecruitEForU             3-8 Yrs  \n",
       "4              Goods and Services Tax Network (GSTN)             2-7 Yrs  \n",
       "5  Gartner India Research &amp; Advisory Services...             2-7 Yrs  \n",
       "6                             Rimpac Hr Services Llp             1-6 Yrs  \n",
       "7                                                 BT             3-5 Yrs  \n",
       "8  Gartner India Research &amp; Advisory Services...             2-4 Yrs  \n",
       "9                            Gujarat Fluorochemicals             1-2 Yrs  "
      ]
     },
     "execution_count": 141,
     "metadata": {},
     "output_type": "execute_result"
    }
   ],
   "source": [
    "df= pd.DataFrame({\n",
    "                'Job titles':job_title,\n",
    "                'Job Location': job_location,\n",
    "                'Company name': company_name,\n",
    "                'Experience required':exp_required\n",
    "})\n",
    "df"
   ]
  },
  {
   "cell_type": "markdown",
   "id": "f11c51ed",
   "metadata": {},
   "source": [
    "# <font color='cyan'>--------------------------------------------------------------------------------------------------------------</font>"
   ]
  },
  {
   "cell_type": "markdown",
   "id": "8fd59f7a",
   "metadata": {},
   "source": [
    "## <font color='deeppink'>Q4: Scrape data of first 100 sunglasses listings on flipkart.com. You have to scrape four attributes:</font>\n",
    "### <font color='red'>1. Brand</font>\n",
    "### <font color='red'>2. ProductDescription</font>\n",
    "### <font color='red'>3. Price</font>\n",
    "### <font color='red'>4. Discount</font>\n",
    "#### <font color='blue'>To scrape the data you have to go through following steps:</font>\n",
    "> #### <font color='blue'>1. Go to Flipkart webpage by url :https://www.flipkart.com/</font>\n",
    "> #### <font color='blue'>2. Enter “sunglasses” in the search field where “search for products, brands and more” is written and click the search icon</font>\n",
    "> #### <font color='blue'>3. After that you will reach to the page having a lot of sunglasses. From this page you can scrap the required data asusual.</font>\n",
    "> #### <font color='blue'>4. After scraping data from the first page, go to the “Next” Button at the bottom other page , thenclick on it.</font>\n",
    "> #### <font color='blue'>5. Now scrape data from this page asusual</font>\n",
    "> #### <font color='blue'>6. Repeat this until you get data for 100 sunglasses.</font>\n"
   ]
  },
  {
   "cell_type": "code",
   "execution_count": 143,
   "id": "eff7bca1",
   "metadata": {},
   "outputs": [],
   "source": [
    "driver.get('https://www.flipkart.com/')"
   ]
  },
  {
   "cell_type": "code",
   "execution_count": 144,
   "id": "28839c7f",
   "metadata": {},
   "outputs": [],
   "source": [
    "\n",
    "search= driver.find_element(By.CLASS_NAME,'_3704LK') \n",
    "search.send_keys('sunglasses')\n"
   ]
  },
  {
   "cell_type": "code",
   "execution_count": 145,
   "id": "c5d31a9f",
   "metadata": {},
   "outputs": [],
   "source": [
    "search_button=driver.find_element(By.CLASS_NAME,'L0Z3Pu') #choose class from button\n",
    "search_button.click()\n",
    "time.sleep(4)"
   ]
  },
  {
   "cell_type": "code",
   "execution_count": 197,
   "id": "3984eb88",
   "metadata": {},
   "outputs": [
    {
     "name": "stdout",
     "output_type": "stream",
     "text": [
      "100\n"
     ]
    }
   ],
   "source": [
    "#to get 100 brands name\n",
    "brand=[]\n",
    "\n",
    "title_tags=driver.find_elements(By.XPATH,'//div[@class=\"_2WkVRV\"]')\n",
    "c=1\n",
    "while c<100: # loop works if c is lower than 100\n",
    "    for i in (title_tags): \n",
    "        if c>100: #if c is 100, no further tags will analyse\n",
    "            break\n",
    "        else:\n",
    "            brand.append(i.text)\n",
    "            c=c+1\n",
    "        \n",
    "\n",
    "    next_button=driver.find_element(By.XPATH,'//a[@class=\"_1LKTO3\"]') #to get the next page\n",
    "\n",
    "\n",
    "print(len(brand))\n",
    "#brand"
   ]
  },
  {
   "cell_type": "code",
   "execution_count": 196,
   "id": "cadff4ac",
   "metadata": {},
   "outputs": [
    {
     "name": "stdout",
     "output_type": "stream",
     "text": [
      "100\n"
     ]
    }
   ],
   "source": [
    "product_desc=[]\n",
    "\n",
    "p_desc=driver.find_elements(By.XPATH,'//a[@class=\"IRpwTa\"]')\n",
    "c=1\n",
    "while c<100: # loop works if c is lower than 100\n",
    "    for i in (p_desc): \n",
    "        if c>100: \n",
    "            break\n",
    "        else:\n",
    "            product_desc.append(i.text)\n",
    "            c=c+1\n",
    "        \n",
    "\n",
    "    next_button=driver.find_element(By.XPATH,'//a[@class=\"_1LKTO3\"]') #to get the next page\n",
    "\n",
    "\n",
    "print(len(product_desc))\n",
    "#product_desc"
   ]
  },
  {
   "cell_type": "code",
   "execution_count": 199,
   "id": "37cfea12",
   "metadata": {},
   "outputs": [
    {
     "name": "stdout",
     "output_type": "stream",
     "text": [
      "100\n"
     ]
    }
   ],
   "source": [
    "price=[]\n",
    "\n",
    "price_tag=driver.find_elements(By.XPATH,'//div[@class=\"_30jeq3\"]')\n",
    "c=1\n",
    "while c<100: \n",
    "    for i in (price_tag): \n",
    "        if c>100: \n",
    "            break\n",
    "        else:\n",
    "            price.append(i.text)\n",
    "            c=c+1\n",
    "        \n",
    "\n",
    "    next_button=driver.find_element(By.XPATH,'//a[@class=\"_1LKTO3\"]') #to get the next page\n",
    "\n",
    "\n",
    "print(len(price))\n",
    "#price"
   ]
  },
  {
   "cell_type": "code",
   "execution_count": 203,
   "id": "8cc6a19e",
   "metadata": {},
   "outputs": [
    {
     "name": "stdout",
     "output_type": "stream",
     "text": [
      "100\n"
     ]
    }
   ],
   "source": [
    "discount=[]\n",
    "\n",
    "discount_tag=driver.find_elements(By.XPATH,'//div[@class=\"_3Ay6Sb\"]')\n",
    "c=1\n",
    "while c<100: \n",
    "    for i in (discount_tag): \n",
    "        if c>100: \n",
    "            break\n",
    "        else:\n",
    "            discount.append(i.text)\n",
    "            c=c+1\n",
    "        \n",
    "\n",
    "    next_button=driver.find_element(By.XPATH,'//a[@class=\"_1LKTO3\"]') #to get the next page\n",
    "\n",
    "\n",
    "print(len(discount))\n",
    "#discount"
   ]
  },
  {
   "cell_type": "code",
   "execution_count": 204,
   "id": "e4512e24",
   "metadata": {
    "scrolled": true
   },
   "outputs": [
    {
     "data": {
      "text/html": [
       "<div>\n",
       "<style scoped>\n",
       "    .dataframe tbody tr th:only-of-type {\n",
       "        vertical-align: middle;\n",
       "    }\n",
       "\n",
       "    .dataframe tbody tr th {\n",
       "        vertical-align: top;\n",
       "    }\n",
       "\n",
       "    .dataframe thead th {\n",
       "        text-align: right;\n",
       "    }\n",
       "</style>\n",
       "<table border=\"1\" class=\"dataframe\">\n",
       "  <thead>\n",
       "    <tr style=\"text-align: right;\">\n",
       "      <th></th>\n",
       "      <th>Brand</th>\n",
       "      <th>Product Description</th>\n",
       "      <th>Price</th>\n",
       "      <th>Discount</th>\n",
       "    </tr>\n",
       "  </thead>\n",
       "  <tbody>\n",
       "    <tr>\n",
       "      <th>0</th>\n",
       "      <td>ROZZETTA CRAFT</td>\n",
       "      <td>UV Protection, Gradient Round Sunglasses (Free...</td>\n",
       "      <td>₹391</td>\n",
       "      <td>80% off</td>\n",
       "    </tr>\n",
       "    <tr>\n",
       "      <th>1</th>\n",
       "      <td>ROZZETTA CRAFT</td>\n",
       "      <td>UV Protection, Gradient Rectangular Sunglasses...</td>\n",
       "      <td>₹423</td>\n",
       "      <td>78% off</td>\n",
       "    </tr>\n",
       "    <tr>\n",
       "      <th>2</th>\n",
       "      <td>SRPM</td>\n",
       "      <td>UV Protection Wayfarer Sunglasses (50)</td>\n",
       "      <td>₹149</td>\n",
       "      <td>88% off</td>\n",
       "    </tr>\n",
       "    <tr>\n",
       "      <th>3</th>\n",
       "      <td>Elligator</td>\n",
       "      <td>UV Protection Cat-eye, Retro Square, Oval, Rou...</td>\n",
       "      <td>₹149</td>\n",
       "      <td>75% off</td>\n",
       "    </tr>\n",
       "    <tr>\n",
       "      <th>4</th>\n",
       "      <td>Fastrack</td>\n",
       "      <td>UV Protection Rectangular Sunglasses (Free Size)</td>\n",
       "      <td>₹479</td>\n",
       "      <td>40% off</td>\n",
       "    </tr>\n",
       "    <tr>\n",
       "      <th>...</th>\n",
       "      <td>...</td>\n",
       "      <td>...</td>\n",
       "      <td>...</td>\n",
       "      <td>...</td>\n",
       "    </tr>\n",
       "    <tr>\n",
       "      <th>95</th>\n",
       "      <td>ROZZETTA CRAFT</td>\n",
       "      <td>UV Protection Aviator Sunglasses (58)</td>\n",
       "      <td>₹649</td>\n",
       "      <td>74% off</td>\n",
       "    </tr>\n",
       "    <tr>\n",
       "      <th>96</th>\n",
       "      <td>Fastrack</td>\n",
       "      <td>UV Protection Wayfarer Sunglasses (Free Size)</td>\n",
       "      <td>₹599</td>\n",
       "      <td>40% off</td>\n",
       "    </tr>\n",
       "    <tr>\n",
       "      <th>97</th>\n",
       "      <td>PIRASO</td>\n",
       "      <td>UV Protection, Riding Glasses Rectangular Sung...</td>\n",
       "      <td>₹294</td>\n",
       "      <td>88% off</td>\n",
       "    </tr>\n",
       "    <tr>\n",
       "      <th>98</th>\n",
       "      <td>Fastrack</td>\n",
       "      <td>UV Protection Wayfarer Sunglasses (56)</td>\n",
       "      <td>₹599</td>\n",
       "      <td>40% off</td>\n",
       "    </tr>\n",
       "    <tr>\n",
       "      <th>99</th>\n",
       "      <td>Singco India</td>\n",
       "      <td>UV Protection Aviator, Wayfarer Sunglasses (54)</td>\n",
       "      <td>₹502</td>\n",
       "      <td>74% off</td>\n",
       "    </tr>\n",
       "  </tbody>\n",
       "</table>\n",
       "<p>100 rows × 4 columns</p>\n",
       "</div>"
      ],
      "text/plain": [
       "             Brand                                Product Description Price  \\\n",
       "0   ROZZETTA CRAFT  UV Protection, Gradient Round Sunglasses (Free...  ₹391   \n",
       "1   ROZZETTA CRAFT  UV Protection, Gradient Rectangular Sunglasses...  ₹423   \n",
       "2             SRPM             UV Protection Wayfarer Sunglasses (50)  ₹149   \n",
       "3        Elligator  UV Protection Cat-eye, Retro Square, Oval, Rou...  ₹149   \n",
       "4         Fastrack   UV Protection Rectangular Sunglasses (Free Size)  ₹479   \n",
       "..             ...                                                ...   ...   \n",
       "95  ROZZETTA CRAFT              UV Protection Aviator Sunglasses (58)  ₹649   \n",
       "96        Fastrack      UV Protection Wayfarer Sunglasses (Free Size)  ₹599   \n",
       "97          PIRASO  UV Protection, Riding Glasses Rectangular Sung...  ₹294   \n",
       "98        Fastrack             UV Protection Wayfarer Sunglasses (56)  ₹599   \n",
       "99    Singco India    UV Protection Aviator, Wayfarer Sunglasses (54)  ₹502   \n",
       "\n",
       "   Discount  \n",
       "0   80% off  \n",
       "1   78% off  \n",
       "2   88% off  \n",
       "3   75% off  \n",
       "4   40% off  \n",
       "..      ...  \n",
       "95  74% off  \n",
       "96  40% off  \n",
       "97  88% off  \n",
       "98  40% off  \n",
       "99  74% off  \n",
       "\n",
       "[100 rows x 4 columns]"
      ]
     },
     "execution_count": 204,
     "metadata": {},
     "output_type": "execute_result"
    }
   ],
   "source": [
    "df= pd.DataFrame({\n",
    "                'Brand':brand,\n",
    "                'Product Description': product_desc,\n",
    "                'Price':price,\n",
    "                'Discount':discount\n",
    "})\n",
    "df"
   ]
  },
  {
   "cell_type": "markdown",
   "id": "a8270e25",
   "metadata": {},
   "source": [
    "# <font color='cyan'>--------------------------------------------------------------------------------------------------------------</font>"
   ]
  },
  {
   "cell_type": "markdown",
   "id": "d4b5642b",
   "metadata": {},
   "source": [
    "## <font color='deeppink'>Q5: Scrape 100 reviews data from flipkart.com for iphone11 phone. You have to go the link: https://www.flipkart.com/apple-iphone-11-black-64-gb/product\u0002reviews/itm4e5041ba101fd?pid=MOBFWQ6BXGJCEYNY&lid=LSTMOBFWQ6BXGJCEYNYZXSHRJ&marketplace=FLIPKART </font>\n",
    "> ### <font color='red'>1. Rating</font>\n",
    "> ### <font color='red'>2. Review summary</font>\n",
    "> ### <font color='red'>3. Full review</font>\n",
    "> ### <font color='red'>4. You have to scrape this data for first 100reviews.</font>\n"
   ]
  },
  {
   "cell_type": "code",
   "execution_count": 14,
   "id": "c0bbdf72",
   "metadata": {},
   "outputs": [],
   "source": [
    "driver.get('https://www.flipkart.com/apple-iphone-11-black-64-gb/product-reviews/itm4e5041ba101fd?pid=MOBFWQ6BXGJCEYNY&lid=LSTMOBFWQ6BXGJCEYNYZXSHRJ&market')"
   ]
  },
  {
   "cell_type": "code",
   "execution_count": 17,
   "id": "05395530",
   "metadata": {},
   "outputs": [
    {
     "name": "stdout",
     "output_type": "stream",
     "text": [
      "100\n"
     ]
    }
   ],
   "source": [
    "rating=[]\n",
    "\n",
    "rating_tag=driver.find_elements(By.XPATH,'//div[@class=\"_3LWZlK _1BLPMq\"]')\n",
    "c=1\n",
    "while c<100: \n",
    "    for i in (rating_tag): \n",
    "        if c>100: \n",
    "            break\n",
    "        else:\n",
    "            rating.append(i.text)\n",
    "            c=c+1\n",
    "        \n",
    "\n",
    "\n",
    "print(len(rating))\n",
    "#rating"
   ]
  },
  {
   "cell_type": "code",
   "execution_count": 18,
   "id": "0e746ad2",
   "metadata": {},
   "outputs": [
    {
     "name": "stdout",
     "output_type": "stream",
     "text": [
      "100\n"
     ]
    }
   ],
   "source": [
    "\n",
    "review=[]\n",
    "\n",
    "review_tag=driver.find_elements(By.XPATH,'//p[@class=\"_2-N8zT\"]')\n",
    "c=1\n",
    "while c<100: \n",
    "    for i in (review_tag): \n",
    "        if c>100: \n",
    "            break\n",
    "        else:\n",
    "            review.append(i.text)\n",
    "            c=c+1\n",
    "        \n",
    "\n",
    "print(len(review))\n",
    "#review"
   ]
  },
  {
   "cell_type": "code",
   "execution_count": 23,
   "id": "7f2bc408",
   "metadata": {},
   "outputs": [
    {
     "name": "stdout",
     "output_type": "stream",
     "text": [
      "100\n"
     ]
    },
    {
     "data": {
      "text/plain": [
       "['Really satisfied with the Product I received... It’s totally genuine and the packaging was also really good so if ur planning to buy just go for it.',\n",
       " 'Amazing phone with great cameras and better battery which gives you the best performance. I just love the camera .',\n",
       " 'Great iPhone very snappy experience as apple kind. Upgraded from iPhone 7. Pros -Camera top class - Battery top performed -Chipset no need to say as apple kind -Security as you expect from apple - Display super bright industry leading colour accuracy and super responsive -Build quality as expect from apple sturdy premium durable beautiful stylish. -Os most stable os in smartphone industry  Cons -No 5G -Display is not based on OLED technology -Charger headphones and 1 apple stic... READ MORE',\n",
       " \"I'm Really happy with the product Delivery was fast as well ..it was a gift for my sister and she loved it so much.\",\n",
       " \"It's my first time to use iOS phone and I am loving my upgradation 😍😍 I love the color, I love the assebility of the phone....I need to learn more about its functionality, but as far as I have seen, it's quite easy and it has a lot of functions to work on, specially if you are a content writer or a blogger you get a lot of content creation platforms and they are really amazing.  This phone not only for good quality photography but a lot of other task too.😍💯\",\n",
       " 'Previously I was using one plus 3t it was a great phone And then I decided to upgrade I am stuck between Samsung s10 plus or iPhone 11 I have seen the specs and everything were good except the display it’s somewhere between 720-1080 and it’s not even an amoled it’s an LCD display But I decided to go with iPhone because I have never used an IOS device I have Been an android user from the past 9 years I ordered IPhone 11 (128gb) product red My experience after using 3 weeks 1. The delivery ... READ MORE',\n",
       " 'Value for money 5 star rating Excellent camera Battery backup full day in single charge.  Tougher and water resistant design, glossy back. The screen has excellent brightness and contrast. Apple A13 Bionic is the fastest smartphone chip on the planet. Excellent battery life, fast charging support. Stereo speakers with great quality.',\n",
       " 'What a camera .....just awesome ..you can feel this iPhone just awesome . Good for gaming also ...try pubg in hd it’s just wow',\n",
       " 'I was using Iphone 6s and also Oneplus 6t. Both mobiles were perfectly alright in Photos, gaming, and smooth interface . My 6s mobile getting battery issue. thought upgrade to 11. Really like this mobile of its Internal storage (compare to 6s) , camera and its touch feeling. Its a worth buying mobile for me.',\n",
       " 'Amazing Powerful and Durable Gadget.  I’m am very happy with the camera picture quality, Amazing face id unlocked in dark room, Strong battery with perfect screen size as you can carry easily in pocket. This is my third iPhone.  I shifted from android Samsung Note series to iPhone because of the strong build quality and peace of mind for next 3-4 years.  Don’t think to much just go for it and I suggest you to go for minimum 128gb variant or more 256gb.  I’ve attached my puppy pics and no fi... READ MORE',\n",
       " 'Really satisfied with the Product I received... It’s totally genuine and the packaging was also really good so if ur planning to buy just go for it.',\n",
       " 'Amazing phone with great cameras and better battery which gives you the best performance. I just love the camera .',\n",
       " 'Great iPhone very snappy experience as apple kind. Upgraded from iPhone 7. Pros -Camera top class - Battery top performed -Chipset no need to say as apple kind -Security as you expect from apple - Display super bright industry leading colour accuracy and super responsive -Build quality as expect from apple sturdy premium durable beautiful stylish. -Os most stable os in smartphone industry  Cons -No 5G -Display is not based on OLED technology -Charger headphones and 1 apple stic... READ MORE',\n",
       " \"I'm Really happy with the product Delivery was fast as well ..it was a gift for my sister and she loved it so much.\",\n",
       " \"It's my first time to use iOS phone and I am loving my upgradation 😍😍 I love the color, I love the assebility of the phone....I need to learn more about its functionality, but as far as I have seen, it's quite easy and it has a lot of functions to work on, specially if you are a content writer or a blogger you get a lot of content creation platforms and they are really amazing.  This phone not only for good quality photography but a lot of other task too.😍💯\",\n",
       " 'Previously I was using one plus 3t it was a great phone And then I decided to upgrade I am stuck between Samsung s10 plus or iPhone 11 I have seen the specs and everything were good except the display it’s somewhere between 720-1080 and it’s not even an amoled it’s an LCD display But I decided to go with iPhone because I have never used an IOS device I have Been an android user from the past 9 years I ordered IPhone 11 (128gb) product red My experience after using 3 weeks 1. The delivery ... READ MORE',\n",
       " 'Value for money 5 star rating Excellent camera Battery backup full day in single charge.  Tougher and water resistant design, glossy back. The screen has excellent brightness and contrast. Apple A13 Bionic is the fastest smartphone chip on the planet. Excellent battery life, fast charging support. Stereo speakers with great quality.',\n",
       " 'What a camera .....just awesome ..you can feel this iPhone just awesome . Good for gaming also ...try pubg in hd it’s just wow',\n",
       " 'I was using Iphone 6s and also Oneplus 6t. Both mobiles were perfectly alright in Photos, gaming, and smooth interface . My 6s mobile getting battery issue. thought upgrade to 11. Really like this mobile of its Internal storage (compare to 6s) , camera and its touch feeling. Its a worth buying mobile for me.',\n",
       " 'Amazing Powerful and Durable Gadget.  I’m am very happy with the camera picture quality, Amazing face id unlocked in dark room, Strong battery with perfect screen size as you can carry easily in pocket. This is my third iPhone.  I shifted from android Samsung Note series to iPhone because of the strong build quality and peace of mind for next 3-4 years.  Don’t think to much just go for it and I suggest you to go for minimum 128gb variant or more 256gb.  I’ve attached my puppy pics and no fi... READ MORE',\n",
       " 'Really satisfied with the Product I received... It’s totally genuine and the packaging was also really good so if ur planning to buy just go for it.',\n",
       " 'Amazing phone with great cameras and better battery which gives you the best performance. I just love the camera .',\n",
       " 'Great iPhone very snappy experience as apple kind. Upgraded from iPhone 7. Pros -Camera top class - Battery top performed -Chipset no need to say as apple kind -Security as you expect from apple - Display super bright industry leading colour accuracy and super responsive -Build quality as expect from apple sturdy premium durable beautiful stylish. -Os most stable os in smartphone industry  Cons -No 5G -Display is not based on OLED technology -Charger headphones and 1 apple stic... READ MORE',\n",
       " \"I'm Really happy with the product Delivery was fast as well ..it was a gift for my sister and she loved it so much.\",\n",
       " \"It's my first time to use iOS phone and I am loving my upgradation 😍😍 I love the color, I love the assebility of the phone....I need to learn more about its functionality, but as far as I have seen, it's quite easy and it has a lot of functions to work on, specially if you are a content writer or a blogger you get a lot of content creation platforms and they are really amazing.  This phone not only for good quality photography but a lot of other task too.😍💯\",\n",
       " 'Previously I was using one plus 3t it was a great phone And then I decided to upgrade I am stuck between Samsung s10 plus or iPhone 11 I have seen the specs and everything were good except the display it’s somewhere between 720-1080 and it’s not even an amoled it’s an LCD display But I decided to go with iPhone because I have never used an IOS device I have Been an android user from the past 9 years I ordered IPhone 11 (128gb) product red My experience after using 3 weeks 1. The delivery ... READ MORE',\n",
       " 'Value for money 5 star rating Excellent camera Battery backup full day in single charge.  Tougher and water resistant design, glossy back. The screen has excellent brightness and contrast. Apple A13 Bionic is the fastest smartphone chip on the planet. Excellent battery life, fast charging support. Stereo speakers with great quality.',\n",
       " 'What a camera .....just awesome ..you can feel this iPhone just awesome . Good for gaming also ...try pubg in hd it’s just wow',\n",
       " 'I was using Iphone 6s and also Oneplus 6t. Both mobiles were perfectly alright in Photos, gaming, and smooth interface . My 6s mobile getting battery issue. thought upgrade to 11. Really like this mobile of its Internal storage (compare to 6s) , camera and its touch feeling. Its a worth buying mobile for me.',\n",
       " 'Amazing Powerful and Durable Gadget.  I’m am very happy with the camera picture quality, Amazing face id unlocked in dark room, Strong battery with perfect screen size as you can carry easily in pocket. This is my third iPhone.  I shifted from android Samsung Note series to iPhone because of the strong build quality and peace of mind for next 3-4 years.  Don’t think to much just go for it and I suggest you to go for minimum 128gb variant or more 256gb.  I’ve attached my puppy pics and no fi... READ MORE',\n",
       " 'Really satisfied with the Product I received... It’s totally genuine and the packaging was also really good so if ur planning to buy just go for it.',\n",
       " 'Amazing phone with great cameras and better battery which gives you the best performance. I just love the camera .',\n",
       " 'Great iPhone very snappy experience as apple kind. Upgraded from iPhone 7. Pros -Camera top class - Battery top performed -Chipset no need to say as apple kind -Security as you expect from apple - Display super bright industry leading colour accuracy and super responsive -Build quality as expect from apple sturdy premium durable beautiful stylish. -Os most stable os in smartphone industry  Cons -No 5G -Display is not based on OLED technology -Charger headphones and 1 apple stic... READ MORE',\n",
       " \"I'm Really happy with the product Delivery was fast as well ..it was a gift for my sister and she loved it so much.\",\n",
       " \"It's my first time to use iOS phone and I am loving my upgradation 😍😍 I love the color, I love the assebility of the phone....I need to learn more about its functionality, but as far as I have seen, it's quite easy and it has a lot of functions to work on, specially if you are a content writer or a blogger you get a lot of content creation platforms and they are really amazing.  This phone not only for good quality photography but a lot of other task too.😍💯\",\n",
       " 'Previously I was using one plus 3t it was a great phone And then I decided to upgrade I am stuck between Samsung s10 plus or iPhone 11 I have seen the specs and everything were good except the display it’s somewhere between 720-1080 and it’s not even an amoled it’s an LCD display But I decided to go with iPhone because I have never used an IOS device I have Been an android user from the past 9 years I ordered IPhone 11 (128gb) product red My experience after using 3 weeks 1. The delivery ... READ MORE',\n",
       " 'Value for money 5 star rating Excellent camera Battery backup full day in single charge.  Tougher and water resistant design, glossy back. The screen has excellent brightness and contrast. Apple A13 Bionic is the fastest smartphone chip on the planet. Excellent battery life, fast charging support. Stereo speakers with great quality.',\n",
       " 'What a camera .....just awesome ..you can feel this iPhone just awesome . Good for gaming also ...try pubg in hd it’s just wow',\n",
       " 'I was using Iphone 6s and also Oneplus 6t. Both mobiles were perfectly alright in Photos, gaming, and smooth interface . My 6s mobile getting battery issue. thought upgrade to 11. Really like this mobile of its Internal storage (compare to 6s) , camera and its touch feeling. Its a worth buying mobile for me.',\n",
       " 'Amazing Powerful and Durable Gadget.  I’m am very happy with the camera picture quality, Amazing face id unlocked in dark room, Strong battery with perfect screen size as you can carry easily in pocket. This is my third iPhone.  I shifted from android Samsung Note series to iPhone because of the strong build quality and peace of mind for next 3-4 years.  Don’t think to much just go for it and I suggest you to go for minimum 128gb variant or more 256gb.  I’ve attached my puppy pics and no fi... READ MORE',\n",
       " 'Really satisfied with the Product I received... It’s totally genuine and the packaging was also really good so if ur planning to buy just go for it.',\n",
       " 'Amazing phone with great cameras and better battery which gives you the best performance. I just love the camera .',\n",
       " 'Great iPhone very snappy experience as apple kind. Upgraded from iPhone 7. Pros -Camera top class - Battery top performed -Chipset no need to say as apple kind -Security as you expect from apple - Display super bright industry leading colour accuracy and super responsive -Build quality as expect from apple sturdy premium durable beautiful stylish. -Os most stable os in smartphone industry  Cons -No 5G -Display is not based on OLED technology -Charger headphones and 1 apple stic... READ MORE',\n",
       " \"I'm Really happy with the product Delivery was fast as well ..it was a gift for my sister and she loved it so much.\",\n",
       " \"It's my first time to use iOS phone and I am loving my upgradation 😍😍 I love the color, I love the assebility of the phone....I need to learn more about its functionality, but as far as I have seen, it's quite easy and it has a lot of functions to work on, specially if you are a content writer or a blogger you get a lot of content creation platforms and they are really amazing.  This phone not only for good quality photography but a lot of other task too.😍💯\",\n",
       " 'Previously I was using one plus 3t it was a great phone And then I decided to upgrade I am stuck between Samsung s10 plus or iPhone 11 I have seen the specs and everything were good except the display it’s somewhere between 720-1080 and it’s not even an amoled it’s an LCD display But I decided to go with iPhone because I have never used an IOS device I have Been an android user from the past 9 years I ordered IPhone 11 (128gb) product red My experience after using 3 weeks 1. The delivery ... READ MORE',\n",
       " 'Value for money 5 star rating Excellent camera Battery backup full day in single charge.  Tougher and water resistant design, glossy back. The screen has excellent brightness and contrast. Apple A13 Bionic is the fastest smartphone chip on the planet. Excellent battery life, fast charging support. Stereo speakers with great quality.',\n",
       " 'What a camera .....just awesome ..you can feel this iPhone just awesome . Good for gaming also ...try pubg in hd it’s just wow',\n",
       " 'I was using Iphone 6s and also Oneplus 6t. Both mobiles were perfectly alright in Photos, gaming, and smooth interface . My 6s mobile getting battery issue. thought upgrade to 11. Really like this mobile of its Internal storage (compare to 6s) , camera and its touch feeling. Its a worth buying mobile for me.',\n",
       " 'Amazing Powerful and Durable Gadget.  I’m am very happy with the camera picture quality, Amazing face id unlocked in dark room, Strong battery with perfect screen size as you can carry easily in pocket. This is my third iPhone.  I shifted from android Samsung Note series to iPhone because of the strong build quality and peace of mind for next 3-4 years.  Don’t think to much just go for it and I suggest you to go for minimum 128gb variant or more 256gb.  I’ve attached my puppy pics and no fi... READ MORE',\n",
       " 'Really satisfied with the Product I received... It’s totally genuine and the packaging was also really good so if ur planning to buy just go for it.',\n",
       " 'Amazing phone with great cameras and better battery which gives you the best performance. I just love the camera .',\n",
       " 'Great iPhone very snappy experience as apple kind. Upgraded from iPhone 7. Pros -Camera top class - Battery top performed -Chipset no need to say as apple kind -Security as you expect from apple - Display super bright industry leading colour accuracy and super responsive -Build quality as expect from apple sturdy premium durable beautiful stylish. -Os most stable os in smartphone industry  Cons -No 5G -Display is not based on OLED technology -Charger headphones and 1 apple stic... READ MORE',\n",
       " \"I'm Really happy with the product Delivery was fast as well ..it was a gift for my sister and she loved it so much.\",\n",
       " \"It's my first time to use iOS phone and I am loving my upgradation 😍😍 I love the color, I love the assebility of the phone....I need to learn more about its functionality, but as far as I have seen, it's quite easy and it has a lot of functions to work on, specially if you are a content writer or a blogger you get a lot of content creation platforms and they are really amazing.  This phone not only for good quality photography but a lot of other task too.😍💯\",\n",
       " 'Previously I was using one plus 3t it was a great phone And then I decided to upgrade I am stuck between Samsung s10 plus or iPhone 11 I have seen the specs and everything were good except the display it’s somewhere between 720-1080 and it’s not even an amoled it’s an LCD display But I decided to go with iPhone because I have never used an IOS device I have Been an android user from the past 9 years I ordered IPhone 11 (128gb) product red My experience after using 3 weeks 1. The delivery ... READ MORE',\n",
       " 'Value for money 5 star rating Excellent camera Battery backup full day in single charge.  Tougher and water resistant design, glossy back. The screen has excellent brightness and contrast. Apple A13 Bionic is the fastest smartphone chip on the planet. Excellent battery life, fast charging support. Stereo speakers with great quality.',\n",
       " 'What a camera .....just awesome ..you can feel this iPhone just awesome . Good for gaming also ...try pubg in hd it’s just wow',\n",
       " 'I was using Iphone 6s and also Oneplus 6t. Both mobiles were perfectly alright in Photos, gaming, and smooth interface . My 6s mobile getting battery issue. thought upgrade to 11. Really like this mobile of its Internal storage (compare to 6s) , camera and its touch feeling. Its a worth buying mobile for me.',\n",
       " 'Amazing Powerful and Durable Gadget.  I’m am very happy with the camera picture quality, Amazing face id unlocked in dark room, Strong battery with perfect screen size as you can carry easily in pocket. This is my third iPhone.  I shifted from android Samsung Note series to iPhone because of the strong build quality and peace of mind for next 3-4 years.  Don’t think to much just go for it and I suggest you to go for minimum 128gb variant or more 256gb.  I’ve attached my puppy pics and no fi... READ MORE',\n",
       " 'Really satisfied with the Product I received... It’s totally genuine and the packaging was also really good so if ur planning to buy just go for it.',\n",
       " 'Amazing phone with great cameras and better battery which gives you the best performance. I just love the camera .',\n",
       " 'Great iPhone very snappy experience as apple kind. Upgraded from iPhone 7. Pros -Camera top class - Battery top performed -Chipset no need to say as apple kind -Security as you expect from apple - Display super bright industry leading colour accuracy and super responsive -Build quality as expect from apple sturdy premium durable beautiful stylish. -Os most stable os in smartphone industry  Cons -No 5G -Display is not based on OLED technology -Charger headphones and 1 apple stic... READ MORE',\n",
       " \"I'm Really happy with the product Delivery was fast as well ..it was a gift for my sister and she loved it so much.\",\n",
       " \"It's my first time to use iOS phone and I am loving my upgradation 😍😍 I love the color, I love the assebility of the phone....I need to learn more about its functionality, but as far as I have seen, it's quite easy and it has a lot of functions to work on, specially if you are a content writer or a blogger you get a lot of content creation platforms and they are really amazing.  This phone not only for good quality photography but a lot of other task too.😍💯\",\n",
       " 'Previously I was using one plus 3t it was a great phone And then I decided to upgrade I am stuck between Samsung s10 plus or iPhone 11 I have seen the specs and everything were good except the display it’s somewhere between 720-1080 and it’s not even an amoled it’s an LCD display But I decided to go with iPhone because I have never used an IOS device I have Been an android user from the past 9 years I ordered IPhone 11 (128gb) product red My experience after using 3 weeks 1. The delivery ... READ MORE',\n",
       " 'Value for money 5 star rating Excellent camera Battery backup full day in single charge.  Tougher and water resistant design, glossy back. The screen has excellent brightness and contrast. Apple A13 Bionic is the fastest smartphone chip on the planet. Excellent battery life, fast charging support. Stereo speakers with great quality.',\n",
       " 'What a camera .....just awesome ..you can feel this iPhone just awesome . Good for gaming also ...try pubg in hd it’s just wow',\n",
       " 'I was using Iphone 6s and also Oneplus 6t. Both mobiles were perfectly alright in Photos, gaming, and smooth interface . My 6s mobile getting battery issue. thought upgrade to 11. Really like this mobile of its Internal storage (compare to 6s) , camera and its touch feeling. Its a worth buying mobile for me.',\n",
       " 'Amazing Powerful and Durable Gadget.  I’m am very happy with the camera picture quality, Amazing face id unlocked in dark room, Strong battery with perfect screen size as you can carry easily in pocket. This is my third iPhone.  I shifted from android Samsung Note series to iPhone because of the strong build quality and peace of mind for next 3-4 years.  Don’t think to much just go for it and I suggest you to go for minimum 128gb variant or more 256gb.  I’ve attached my puppy pics and no fi... READ MORE',\n",
       " 'Really satisfied with the Product I received... It’s totally genuine and the packaging was also really good so if ur planning to buy just go for it.',\n",
       " 'Amazing phone with great cameras and better battery which gives you the best performance. I just love the camera .',\n",
       " 'Great iPhone very snappy experience as apple kind. Upgraded from iPhone 7. Pros -Camera top class - Battery top performed -Chipset no need to say as apple kind -Security as you expect from apple - Display super bright industry leading colour accuracy and super responsive -Build quality as expect from apple sturdy premium durable beautiful stylish. -Os most stable os in smartphone industry  Cons -No 5G -Display is not based on OLED technology -Charger headphones and 1 apple stic... READ MORE',\n",
       " \"I'm Really happy with the product Delivery was fast as well ..it was a gift for my sister and she loved it so much.\",\n",
       " \"It's my first time to use iOS phone and I am loving my upgradation 😍😍 I love the color, I love the assebility of the phone....I need to learn more about its functionality, but as far as I have seen, it's quite easy and it has a lot of functions to work on, specially if you are a content writer or a blogger you get a lot of content creation platforms and they are really amazing.  This phone not only for good quality photography but a lot of other task too.😍💯\",\n",
       " 'Previously I was using one plus 3t it was a great phone And then I decided to upgrade I am stuck between Samsung s10 plus or iPhone 11 I have seen the specs and everything were good except the display it’s somewhere between 720-1080 and it’s not even an amoled it’s an LCD display But I decided to go with iPhone because I have never used an IOS device I have Been an android user from the past 9 years I ordered IPhone 11 (128gb) product red My experience after using 3 weeks 1. The delivery ... READ MORE',\n",
       " 'Value for money 5 star rating Excellent camera Battery backup full day in single charge.  Tougher and water resistant design, glossy back. The screen has excellent brightness and contrast. Apple A13 Bionic is the fastest smartphone chip on the planet. Excellent battery life, fast charging support. Stereo speakers with great quality.',\n",
       " 'What a camera .....just awesome ..you can feel this iPhone just awesome . Good for gaming also ...try pubg in hd it’s just wow',\n",
       " 'I was using Iphone 6s and also Oneplus 6t. Both mobiles were perfectly alright in Photos, gaming, and smooth interface . My 6s mobile getting battery issue. thought upgrade to 11. Really like this mobile of its Internal storage (compare to 6s) , camera and its touch feeling. Its a worth buying mobile for me.',\n",
       " 'Amazing Powerful and Durable Gadget.  I’m am very happy with the camera picture quality, Amazing face id unlocked in dark room, Strong battery with perfect screen size as you can carry easily in pocket. This is my third iPhone.  I shifted from android Samsung Note series to iPhone because of the strong build quality and peace of mind for next 3-4 years.  Don’t think to much just go for it and I suggest you to go for minimum 128gb variant or more 256gb.  I’ve attached my puppy pics and no fi... READ MORE',\n",
       " 'Really satisfied with the Product I received... It’s totally genuine and the packaging was also really good so if ur planning to buy just go for it.',\n",
       " 'Amazing phone with great cameras and better battery which gives you the best performance. I just love the camera .',\n",
       " 'Great iPhone very snappy experience as apple kind. Upgraded from iPhone 7. Pros -Camera top class - Battery top performed -Chipset no need to say as apple kind -Security as you expect from apple - Display super bright industry leading colour accuracy and super responsive -Build quality as expect from apple sturdy premium durable beautiful stylish. -Os most stable os in smartphone industry  Cons -No 5G -Display is not based on OLED technology -Charger headphones and 1 apple stic... READ MORE',\n",
       " \"I'm Really happy with the product Delivery was fast as well ..it was a gift for my sister and she loved it so much.\",\n",
       " \"It's my first time to use iOS phone and I am loving my upgradation 😍😍 I love the color, I love the assebility of the phone....I need to learn more about its functionality, but as far as I have seen, it's quite easy and it has a lot of functions to work on, specially if you are a content writer or a blogger you get a lot of content creation platforms and they are really amazing.  This phone not only for good quality photography but a lot of other task too.😍💯\",\n",
       " 'Previously I was using one plus 3t it was a great phone And then I decided to upgrade I am stuck between Samsung s10 plus or iPhone 11 I have seen the specs and everything were good except the display it’s somewhere between 720-1080 and it’s not even an amoled it’s an LCD display But I decided to go with iPhone because I have never used an IOS device I have Been an android user from the past 9 years I ordered IPhone 11 (128gb) product red My experience after using 3 weeks 1. The delivery ... READ MORE',\n",
       " 'Value for money 5 star rating Excellent camera Battery backup full day in single charge.  Tougher and water resistant design, glossy back. The screen has excellent brightness and contrast. Apple A13 Bionic is the fastest smartphone chip on the planet. Excellent battery life, fast charging support. Stereo speakers with great quality.',\n",
       " 'What a camera .....just awesome ..you can feel this iPhone just awesome . Good for gaming also ...try pubg in hd it’s just wow',\n",
       " 'I was using Iphone 6s and also Oneplus 6t. Both mobiles were perfectly alright in Photos, gaming, and smooth interface . My 6s mobile getting battery issue. thought upgrade to 11. Really like this mobile of its Internal storage (compare to 6s) , camera and its touch feeling. Its a worth buying mobile for me.',\n",
       " 'Amazing Powerful and Durable Gadget.  I’m am very happy with the camera picture quality, Amazing face id unlocked in dark room, Strong battery with perfect screen size as you can carry easily in pocket. This is my third iPhone.  I shifted from android Samsung Note series to iPhone because of the strong build quality and peace of mind for next 3-4 years.  Don’t think to much just go for it and I suggest you to go for minimum 128gb variant or more 256gb.  I’ve attached my puppy pics and no fi... READ MORE',\n",
       " 'Really satisfied with the Product I received... It’s totally genuine and the packaging was also really good so if ur planning to buy just go for it.',\n",
       " 'Amazing phone with great cameras and better battery which gives you the best performance. I just love the camera .',\n",
       " 'Great iPhone very snappy experience as apple kind. Upgraded from iPhone 7. Pros -Camera top class - Battery top performed -Chipset no need to say as apple kind -Security as you expect from apple - Display super bright industry leading colour accuracy and super responsive -Build quality as expect from apple sturdy premium durable beautiful stylish. -Os most stable os in smartphone industry  Cons -No 5G -Display is not based on OLED technology -Charger headphones and 1 apple stic... READ MORE',\n",
       " \"I'm Really happy with the product Delivery was fast as well ..it was a gift for my sister and she loved it so much.\",\n",
       " \"It's my first time to use iOS phone and I am loving my upgradation 😍😍 I love the color, I love the assebility of the phone....I need to learn more about its functionality, but as far as I have seen, it's quite easy and it has a lot of functions to work on, specially if you are a content writer or a blogger you get a lot of content creation platforms and they are really amazing.  This phone not only for good quality photography but a lot of other task too.😍💯\",\n",
       " 'Previously I was using one plus 3t it was a great phone And then I decided to upgrade I am stuck between Samsung s10 plus or iPhone 11 I have seen the specs and everything were good except the display it’s somewhere between 720-1080 and it’s not even an amoled it’s an LCD display But I decided to go with iPhone because I have never used an IOS device I have Been an android user from the past 9 years I ordered IPhone 11 (128gb) product red My experience after using 3 weeks 1. The delivery ... READ MORE',\n",
       " 'Value for money 5 star rating Excellent camera Battery backup full day in single charge.  Tougher and water resistant design, glossy back. The screen has excellent brightness and contrast. Apple A13 Bionic is the fastest smartphone chip on the planet. Excellent battery life, fast charging support. Stereo speakers with great quality.',\n",
       " 'What a camera .....just awesome ..you can feel this iPhone just awesome . Good for gaming also ...try pubg in hd it’s just wow',\n",
       " 'I was using Iphone 6s and also Oneplus 6t. Both mobiles were perfectly alright in Photos, gaming, and smooth interface . My 6s mobile getting battery issue. thought upgrade to 11. Really like this mobile of its Internal storage (compare to 6s) , camera and its touch feeling. Its a worth buying mobile for me.',\n",
       " 'Amazing Powerful and Durable Gadget.  I’m am very happy with the camera picture quality, Amazing face id unlocked in dark room, Strong battery with perfect screen size as you can carry easily in pocket. This is my third iPhone.  I shifted from android Samsung Note series to iPhone because of the strong build quality and peace of mind for next 3-4 years.  Don’t think to much just go for it and I suggest you to go for minimum 128gb variant or more 256gb.  I’ve attached my puppy pics and no fi... READ MORE']"
      ]
     },
     "execution_count": 23,
     "metadata": {},
     "output_type": "execute_result"
    }
   ],
   "source": [
    "full_review=[]\n",
    "\n",
    "review_tag=driver.find_elements(By.XPATH,'//div[@class=\"t-ZTKy\"]')\n",
    "c=1\n",
    "while c<100: \n",
    "    for i in (review_tag): \n",
    "        if c>100: \n",
    "            break\n",
    "        else:\n",
    "            l=i.text\n",
    "            l= l.replace('\\n',' ') #to remove \\n \n",
    "            full_review.append(l)\n",
    "            c=c+1\n",
    "        \n",
    "\n",
    "\n",
    "print(len(full_review))\n",
    "#full_review"
   ]
  },
  {
   "cell_type": "code",
   "execution_count": 24,
   "id": "9c545a48",
   "metadata": {
    "scrolled": true
   },
   "outputs": [
    {
     "data": {
      "text/html": [
       "<div>\n",
       "<style scoped>\n",
       "    .dataframe tbody tr th:only-of-type {\n",
       "        vertical-align: middle;\n",
       "    }\n",
       "\n",
       "    .dataframe tbody tr th {\n",
       "        vertical-align: top;\n",
       "    }\n",
       "\n",
       "    .dataframe thead th {\n",
       "        text-align: right;\n",
       "    }\n",
       "</style>\n",
       "<table border=\"1\" class=\"dataframe\">\n",
       "  <thead>\n",
       "    <tr style=\"text-align: right;\">\n",
       "      <th></th>\n",
       "      <th>Rating</th>\n",
       "      <th>Review summary</th>\n",
       "      <th>Full review</th>\n",
       "    </tr>\n",
       "  </thead>\n",
       "  <tbody>\n",
       "    <tr>\n",
       "      <th>0</th>\n",
       "      <td>5</td>\n",
       "      <td>Simply awesome</td>\n",
       "      <td>Really satisfied with the Product I received.....</td>\n",
       "    </tr>\n",
       "    <tr>\n",
       "      <th>1</th>\n",
       "      <td>5</td>\n",
       "      <td>Perfect product!</td>\n",
       "      <td>Amazing phone with great cameras and better ba...</td>\n",
       "    </tr>\n",
       "    <tr>\n",
       "      <th>2</th>\n",
       "      <td>5</td>\n",
       "      <td>Best in the market!</td>\n",
       "      <td>Great iPhone very snappy experience as apple k...</td>\n",
       "    </tr>\n",
       "    <tr>\n",
       "      <th>3</th>\n",
       "      <td>4</td>\n",
       "      <td>Value-for-money</td>\n",
       "      <td>I'm Really happy with the product Delivery was...</td>\n",
       "    </tr>\n",
       "    <tr>\n",
       "      <th>4</th>\n",
       "      <td>5</td>\n",
       "      <td>Highly recommended</td>\n",
       "      <td>It's my first time to use iOS phone and I am l...</td>\n",
       "    </tr>\n",
       "    <tr>\n",
       "      <th>...</th>\n",
       "      <td>...</td>\n",
       "      <td>...</td>\n",
       "      <td>...</td>\n",
       "    </tr>\n",
       "    <tr>\n",
       "      <th>95</th>\n",
       "      <td>5</td>\n",
       "      <td>Worth every penny</td>\n",
       "      <td>Previously I was using one plus 3t it was a gr...</td>\n",
       "    </tr>\n",
       "    <tr>\n",
       "      <th>96</th>\n",
       "      <td>5</td>\n",
       "      <td>Perfect product!</td>\n",
       "      <td>Value for money 5 star rating Excellent camera...</td>\n",
       "    </tr>\n",
       "    <tr>\n",
       "      <th>97</th>\n",
       "      <td>5</td>\n",
       "      <td>Highly recommended</td>\n",
       "      <td>What a camera .....just awesome ..you can feel...</td>\n",
       "    </tr>\n",
       "    <tr>\n",
       "      <th>98</th>\n",
       "      <td>4</td>\n",
       "      <td>Pretty good</td>\n",
       "      <td>I was using Iphone 6s and also Oneplus 6t. Bot...</td>\n",
       "    </tr>\n",
       "    <tr>\n",
       "      <th>99</th>\n",
       "      <td>5</td>\n",
       "      <td>Great product</td>\n",
       "      <td>Amazing Powerful and Durable Gadget.  I’m am v...</td>\n",
       "    </tr>\n",
       "  </tbody>\n",
       "</table>\n",
       "<p>100 rows × 3 columns</p>\n",
       "</div>"
      ],
      "text/plain": [
       "   Rating       Review summary  \\\n",
       "0       5       Simply awesome   \n",
       "1       5     Perfect product!   \n",
       "2       5  Best in the market!   \n",
       "3       4      Value-for-money   \n",
       "4       5   Highly recommended   \n",
       "..    ...                  ...   \n",
       "95      5    Worth every penny   \n",
       "96      5     Perfect product!   \n",
       "97      5   Highly recommended   \n",
       "98      4          Pretty good   \n",
       "99      5        Great product   \n",
       "\n",
       "                                          Full review  \n",
       "0   Really satisfied with the Product I received.....  \n",
       "1   Amazing phone with great cameras and better ba...  \n",
       "2   Great iPhone very snappy experience as apple k...  \n",
       "3   I'm Really happy with the product Delivery was...  \n",
       "4   It's my first time to use iOS phone and I am l...  \n",
       "..                                                ...  \n",
       "95  Previously I was using one plus 3t it was a gr...  \n",
       "96  Value for money 5 star rating Excellent camera...  \n",
       "97  What a camera .....just awesome ..you can feel...  \n",
       "98  I was using Iphone 6s and also Oneplus 6t. Bot...  \n",
       "99  Amazing Powerful and Durable Gadget.  I’m am v...  \n",
       "\n",
       "[100 rows x 3 columns]"
      ]
     },
     "execution_count": 24,
     "metadata": {},
     "output_type": "execute_result"
    }
   ],
   "source": [
    "df= pd.DataFrame({\n",
    "                'Rating': rating,\n",
    "                'Review summary':review,\n",
    "                'Full review':full_review})\n",
    "df"
   ]
  },
  {
   "cell_type": "markdown",
   "id": "5402e264",
   "metadata": {},
   "source": [
    "# <font color='cyan'>--------------------------------------------------------------------------------------------------------------</font>"
   ]
  },
  {
   "cell_type": "markdown",
   "id": "1dc19aac",
   "metadata": {},
   "source": [
    "## <font color='deeppink'>Q6: Scrape data forfirst 100 sneakers you find when you visit flipkart.com and search for “sneakers” in the search field.</font>\n",
    "### <font color='red'>You have to scrape 3 attributes of each sneaker:</font>\n",
    "> ### <font color='red'>1. Brand</font>\n",
    "> ### <font color='red'>2. Product Description</font>\n",
    "> ### <font color='red'>3. Price</font>"
   ]
  },
  {
   "cell_type": "code",
   "execution_count": 211,
   "id": "2bff6e82",
   "metadata": {},
   "outputs": [],
   "source": [
    "driver.get('https://www.flipkart.com/')"
   ]
  },
  {
   "cell_type": "code",
   "execution_count": 212,
   "id": "22af3fa1",
   "metadata": {},
   "outputs": [],
   "source": [
    "search= driver.find_element(By.CLASS_NAME,'_3704LK') \n",
    "search.send_keys('sneakers')"
   ]
  },
  {
   "cell_type": "code",
   "execution_count": 213,
   "id": "3cb223d5",
   "metadata": {},
   "outputs": [],
   "source": [
    "search_button=driver.find_element(By.CLASS_NAME,'L0Z3Pu') \n",
    "search_button.click()\n",
    "time.sleep(4)"
   ]
  },
  {
   "cell_type": "code",
   "execution_count": 217,
   "id": "e306fd53",
   "metadata": {},
   "outputs": [
    {
     "name": "stdout",
     "output_type": "stream",
     "text": [
      "100\n"
     ]
    }
   ],
   "source": [
    "brand=[]\n",
    "\n",
    "title_tags=driver.find_elements(By.XPATH,'//div[@class=\"_2WkVRV\"]')\n",
    "c=1\n",
    "while c<100: \n",
    "    for i in (title_tags): \n",
    "        if c>100: \n",
    "            break\n",
    "        else:\n",
    "            brand.append(i.text)\n",
    "            c=c+1\n",
    "        \n",
    "\n",
    "    next_button=driver.find_element(By.XPATH,'//a[@class=\"_1LKTO3\"]') #to get the next page\n",
    "\n",
    "\n",
    "print(len(brand))\n",
    "#brand"
   ]
  },
  {
   "cell_type": "code",
   "execution_count": 216,
   "id": "1c9de8e2",
   "metadata": {},
   "outputs": [
    {
     "name": "stdout",
     "output_type": "stream",
     "text": [
      "100\n"
     ]
    }
   ],
   "source": [
    "product_desc=[]\n",
    "\n",
    "p_desc=driver.find_elements(By.XPATH,'//a[@class=\"IRpwTa\"]')\n",
    "c=1\n",
    "while c<100: # loop works if c is lower than 100\n",
    "    for i in (p_desc): \n",
    "        if c>100: \n",
    "            break\n",
    "        else:\n",
    "            product_desc.append(i.text)\n",
    "            c=c+1\n",
    "        \n",
    "\n",
    "    next_button=driver.find_element(By.XPATH,'//a[@class=\"_1LKTO3\"]') #to get the next page\n",
    "\n",
    "\n",
    "print(len(product_desc))\n",
    "#product_desc"
   ]
  },
  {
   "cell_type": "code",
   "execution_count": 219,
   "id": "d5cf6d6f",
   "metadata": {},
   "outputs": [
    {
     "name": "stdout",
     "output_type": "stream",
     "text": [
      "100\n"
     ]
    }
   ],
   "source": [
    "price=[]\n",
    "\n",
    "price_tag=driver.find_elements(By.XPATH,'//div[@class=\"_30jeq3\"]')\n",
    "c=1\n",
    "while c<100: \n",
    "    for i in (price_tag): \n",
    "        if c>100: \n",
    "            break\n",
    "        else:\n",
    "            price.append(i.text)\n",
    "            c=c+1\n",
    "        \n",
    "\n",
    "    next_button=driver.find_element(By.XPATH,'//a[@class=\"_1LKTO3\"]') #to get the next page\n",
    "\n",
    "\n",
    "print(len(price))\n",
    "#price"
   ]
  },
  {
   "cell_type": "code",
   "execution_count": 220,
   "id": "7a5327c3",
   "metadata": {
    "scrolled": true
   },
   "outputs": [
    {
     "data": {
      "text/html": [
       "<div>\n",
       "<style scoped>\n",
       "    .dataframe tbody tr th:only-of-type {\n",
       "        vertical-align: middle;\n",
       "    }\n",
       "\n",
       "    .dataframe tbody tr th {\n",
       "        vertical-align: top;\n",
       "    }\n",
       "\n",
       "    .dataframe thead th {\n",
       "        text-align: right;\n",
       "    }\n",
       "</style>\n",
       "<table border=\"1\" class=\"dataframe\">\n",
       "  <thead>\n",
       "    <tr style=\"text-align: right;\">\n",
       "      <th></th>\n",
       "      <th>Brand</th>\n",
       "      <th>Product Description</th>\n",
       "      <th>Price</th>\n",
       "    </tr>\n",
       "  </thead>\n",
       "  <tbody>\n",
       "    <tr>\n",
       "      <th>0</th>\n",
       "      <td>BRUTON</td>\n",
       "      <td>Combo Pack Of 2 Casual Shoes Sneakers For Men</td>\n",
       "      <td>₹399</td>\n",
       "    </tr>\n",
       "    <tr>\n",
       "      <th>1</th>\n",
       "      <td>TR</td>\n",
       "      <td>Casual Shoes| Caual Sneakers| White Sneakers F...</td>\n",
       "      <td>₹299</td>\n",
       "    </tr>\n",
       "    <tr>\n",
       "      <th>2</th>\n",
       "      <td>SFR</td>\n",
       "      <td>2006 Trenddy Fashion Sporty Casuals Sneakers R...</td>\n",
       "      <td>₹279</td>\n",
       "    </tr>\n",
       "    <tr>\n",
       "      <th>3</th>\n",
       "      <td>Shozie</td>\n",
       "      <td>Stylish Sneakers Shoes for Women And Girls Sne...</td>\n",
       "      <td>₹355</td>\n",
       "    </tr>\n",
       "    <tr>\n",
       "      <th>4</th>\n",
       "      <td>SFR</td>\n",
       "      <td>Sneakers For Men</td>\n",
       "      <td>₹249</td>\n",
       "    </tr>\n",
       "    <tr>\n",
       "      <th>...</th>\n",
       "      <td>...</td>\n",
       "      <td>...</td>\n",
       "      <td>...</td>\n",
       "    </tr>\n",
       "    <tr>\n",
       "      <th>95</th>\n",
       "      <td>BRUTON</td>\n",
       "      <td>Combo Pack Of 2 Casual Shoes Sneakers For Men</td>\n",
       "      <td>₹399</td>\n",
       "    </tr>\n",
       "    <tr>\n",
       "      <th>96</th>\n",
       "      <td>aadi</td>\n",
       "      <td>Synthetic| Lightweight| Premiun| Comfort| Summ...</td>\n",
       "      <td>₹349</td>\n",
       "    </tr>\n",
       "    <tr>\n",
       "      <th>97</th>\n",
       "      <td>aadi</td>\n",
       "      <td>Mesh |Lightweight|Comfort|Summer|Trendy|Walkin...</td>\n",
       "      <td>₹349</td>\n",
       "    </tr>\n",
       "    <tr>\n",
       "      <th>98</th>\n",
       "      <td>PUMA</td>\n",
       "      <td>UP Sneakers For Men</td>\n",
       "      <td>₹1,839</td>\n",
       "    </tr>\n",
       "    <tr>\n",
       "      <th>99</th>\n",
       "      <td>Labbin</td>\n",
       "      <td>Casual Sneakers White Outdoor Shoes For Boys A...</td>\n",
       "      <td>₹499</td>\n",
       "    </tr>\n",
       "  </tbody>\n",
       "</table>\n",
       "<p>100 rows × 3 columns</p>\n",
       "</div>"
      ],
      "text/plain": [
       "     Brand                                Product Description   Price\n",
       "0   BRUTON      Combo Pack Of 2 Casual Shoes Sneakers For Men    ₹399\n",
       "1       TR  Casual Shoes| Caual Sneakers| White Sneakers F...    ₹299\n",
       "2      SFR  2006 Trenddy Fashion Sporty Casuals Sneakers R...    ₹279\n",
       "3   Shozie  Stylish Sneakers Shoes for Women And Girls Sne...    ₹355\n",
       "4      SFR                                   Sneakers For Men    ₹249\n",
       "..     ...                                                ...     ...\n",
       "95  BRUTON      Combo Pack Of 2 Casual Shoes Sneakers For Men    ₹399\n",
       "96    aadi  Synthetic| Lightweight| Premiun| Comfort| Summ...    ₹349\n",
       "97    aadi  Mesh |Lightweight|Comfort|Summer|Trendy|Walkin...    ₹349\n",
       "98    PUMA                                UP Sneakers For Men  ₹1,839\n",
       "99  Labbin  Casual Sneakers White Outdoor Shoes For Boys A...    ₹499\n",
       "\n",
       "[100 rows x 3 columns]"
      ]
     },
     "execution_count": 220,
     "metadata": {},
     "output_type": "execute_result"
    }
   ],
   "source": [
    "df= pd.DataFrame({\n",
    "                'Brand':brand,\n",
    "                'Product Description': product_desc,\n",
    "                'Price':price})\n",
    "df"
   ]
  },
  {
   "cell_type": "markdown",
   "id": "cf4a0cf3",
   "metadata": {},
   "source": [
    "# <font color='cyan'>--------------------------------------------------------------------------------------------------------------</font>"
   ]
  },
  {
   "cell_type": "markdown",
   "id": "1ec911a7",
   "metadata": {},
   "source": [
    "## <font color='deeppink'>Q7: Go to webpage https://www.amazon.in/ Enter “Laptop” in the search field and then click the search icon. Then set CPU Type filter to “Intel Core i7”:</font>\n",
    "### <font color='red'>After setting the filters scrape first 10 laptops data. You have to scrape 3 attributes for each laptop:</font>\n",
    "> ### <font color='red'>1. Title</font>\n",
    "> ### <font color='red'>2. Ratings</font>\n",
    "> ### <font color='red'>3. Price</font>\n"
   ]
  },
  {
   "cell_type": "code",
   "execution_count": 240,
   "id": "7ae0c135",
   "metadata": {},
   "outputs": [],
   "source": [
    "driver.get('https://www.amazon.in/')"
   ]
  },
  {
   "cell_type": "code",
   "execution_count": 226,
   "id": "e91adff1",
   "metadata": {},
   "outputs": [],
   "source": [
    "search= driver.find_element(By.XPATH,'/html/body/div[1]/header/div/div[1]/div[2]/div/form/div[2]/div[1]/input') \n",
    "search.send_keys('Laptop')"
   ]
  },
  {
   "cell_type": "code",
   "execution_count": 228,
   "id": "a87d854a",
   "metadata": {},
   "outputs": [],
   "source": [
    "search_button=driver.find_element(By.ID,'nav-search-submit-button') \n",
    "search_button.click()\n",
    "time.sleep(4)"
   ]
  },
  {
   "cell_type": "code",
   "execution_count": 229,
   "id": "cccb9b47",
   "metadata": {},
   "outputs": [],
   "source": [
    "search_button=driver.find_element(By.XPATH,'/html/body/div[1]/div[2]/div[1]/div[2]/div/div[3]/span/div[1]/div/div/div[6]/ul[7]/li[11]/span/a/div/label/i') \n",
    "search_button.click()\n"
   ]
  },
  {
   "cell_type": "code",
   "execution_count": 235,
   "id": "585ff412",
   "metadata": {},
   "outputs": [
    {
     "name": "stdout",
     "output_type": "stream",
     "text": [
      "10\n"
     ]
    },
    {
     "data": {
      "text/plain": [
       "['ASUS Vivobook 14, Intel Core i7-1165G7 11th Gen, 14\" (35.56 cm) FHD, Thin and Laptop (16GB/512GB SSD/Intel Iris Xe Graphics/Windows 11/Office 2021/FP Sensor/Silver/1.55 kg), X415EA-EK701WS',\n",
       " 'Lenovo IdeaPad Slim 5 Intel Core i7 12th Gen 15.6\" (39.62cm) FHD IPS Thin & Light Laptop (16GB/512GB SSD/Windows 11/Office 2021/Backlit/FPR/3months Game Pass/Storm Grey/1.85Kg), 82SF008WIN',\n",
       " 'HP Pavilion 14 12th Gen Intel Core i7 16GB SDRAM/1TB SSD 14 inch(35.6cm) FHD,IPS,Micro-Edge Display/Intel Iris Xe Graphics/B&O/Win 11/Alexa Built-in/Backlit KB/FPR/MSO 2021/Natural Silver,14-dv2015TU',\n",
       " 'HP Victus Gaming Latest 12th Gen Intel Core i7 12650H 15.6 inch(39.6 cm) FHD Gaming Laptop (8GB RAM/512GB SSD/RTX 3050 4GB Graphics/144Hz/9ms Rs Time/Win 11/MSO/BL KB/B&O/Alexa/Xbox Pass),15-fa0073TX',\n",
       " 'HP Pavilion Plus, 12th Gen Intel Core i7 16GB RAM/1TB SSD 14 inch(35.6 cm)Creator Laptop with OLED,UWVA,Eye Safe Laptop/Intel Iris Xe Graphics/Backlit KB/B&O/FPR/Win 11/Alexa Built-in/MSO,14-eh0024TU',\n",
       " '(Renewed) ASUS TUF Dash F15 (2022), 15.6-inch (39.62 cm) WQHD 165Hz/3ms, Intel Core i7-12650H 12th Gen, 6GB RTX 3060 Graphics, Gaming Laptop (16GB/1TB SSD/Windows 11/Office 2021/Black/2 Kg), FX517ZM-HQ042WS',\n",
       " 'ASUS TUF Gaming F15 (2022), 15.6\"(39.62 cms) FHD 144Hz, Intel Core i7-12700H 12th Gen, RTX 3050 Ti 4GB Graphics, Gaming Laptop (16GB/512GB SSD/90WHrs Battery/Windows 11/Gray/2.2 Kg), FX507ZE-HN038W',\n",
       " 'Lenovo ThinkPad E14 Intel Core i7 12th Gen 14\" FHD IPS Thin and Light Laptop (16GB RAM/1TB SSD/Windows 11 Home/MS Office H&S 2021/Backlit Keybaord/FPR/Black/1.59 kg), 21E3S05800',\n",
       " 'Hp Pavilion 15 12Th Gen Intel Core I7 16Gb Sdram/1Tb Ssd 15.6 Inches (39.6Cm) Fhd,IPS/Intel Iris Xe Graphics/B&O/Windows 11 Home/Alexa/Backlit Kb/Fpr/Mso 2021/1.75Kg, 15-Eg2039Tu, Natural Silver',\n",
       " 'Dell Inspiron 5320 Laptop, Intel i7-1260P, 16GB LPDDR5, 512GB SSD, Integrated, 13.3\" (33.78Cms) QHD+ WVA AG 300 nits, Win 11+ MSO\\'21, Platinum Silver (D560754WIN9S, 1.25Kgs)']"
      ]
     },
     "execution_count": 235,
     "metadata": {},
     "output_type": "execute_result"
    }
   ],
   "source": [
    "title=[]\n",
    "\n",
    "\n",
    "title_tags=driver.find_elements(By.XPATH,'//span[@class=\"a-size-medium a-color-base a-text-normal\"]') \n",
    "for i in title_tags[0:10]:\n",
    "    title.append(i.text)\n",
    "print(len(title))\n",
    "title"
   ]
  },
  {
   "cell_type": "code",
   "execution_count": 236,
   "id": "38bcd272",
   "metadata": {},
   "outputs": [
    {
     "name": "stdout",
     "output_type": "stream",
     "text": [
      "10\n"
     ]
    },
    {
     "data": {
      "text/plain": [
       "['4.2', '4.2', '4.3', '4.3', '4.0', '4.4', '3.5', '3.8', '3.7', '4.3']"
      ]
     },
     "execution_count": 236,
     "metadata": {},
     "output_type": "execute_result"
    }
   ],
   "source": [
    "rating=[]\n",
    "\n",
    "\n",
    "rate_tags=driver.find_elements(By.XPATH,'//span[@class=\"a-size-base\"]') #relative XPATH\n",
    "for i in rate_tags[0:10]:\n",
    "    rating.append(i.text)\n",
    "print(len(rating))\n",
    "rating"
   ]
  },
  {
   "cell_type": "code",
   "execution_count": 237,
   "id": "9c0dfee0",
   "metadata": {},
   "outputs": [
    {
     "name": "stdout",
     "output_type": "stream",
     "text": [
      "10\n"
     ]
    },
    {
     "data": {
      "text/plain": [
       "['56,990',\n",
       " '79,990',\n",
       " '84,990',\n",
       " '79,990',\n",
       " '92,990',\n",
       " '1,12,483',\n",
       " '95,990',\n",
       " '98,990',\n",
       " '89,990',\n",
       " '84,590']"
      ]
     },
     "execution_count": 237,
     "metadata": {},
     "output_type": "execute_result"
    }
   ],
   "source": [
    "price=[]\n",
    "\n",
    "\n",
    "price_tags=driver.find_elements(By.CLASS_NAME,'a-price-whole') \n",
    "for i in price_tags[0:10]:\n",
    "    price.append(i.text)\n",
    "print(len(price))\n",
    "price"
   ]
  },
  {
   "cell_type": "code",
   "execution_count": 239,
   "id": "5f956224",
   "metadata": {
    "scrolled": true
   },
   "outputs": [
    {
     "data": {
      "text/html": [
       "<div>\n",
       "<style scoped>\n",
       "    .dataframe tbody tr th:only-of-type {\n",
       "        vertical-align: middle;\n",
       "    }\n",
       "\n",
       "    .dataframe tbody tr th {\n",
       "        vertical-align: top;\n",
       "    }\n",
       "\n",
       "    .dataframe thead th {\n",
       "        text-align: right;\n",
       "    }\n",
       "</style>\n",
       "<table border=\"1\" class=\"dataframe\">\n",
       "  <thead>\n",
       "    <tr style=\"text-align: right;\">\n",
       "      <th></th>\n",
       "      <th>Title</th>\n",
       "      <th>Rating</th>\n",
       "      <th>Price</th>\n",
       "    </tr>\n",
       "  </thead>\n",
       "  <tbody>\n",
       "    <tr>\n",
       "      <th>0</th>\n",
       "      <td>ASUS Vivobook 14, Intel Core i7-1165G7 11th Ge...</td>\n",
       "      <td>4.2</td>\n",
       "      <td>56,990</td>\n",
       "    </tr>\n",
       "    <tr>\n",
       "      <th>1</th>\n",
       "      <td>Lenovo IdeaPad Slim 5 Intel Core i7 12th Gen 1...</td>\n",
       "      <td>4.2</td>\n",
       "      <td>79,990</td>\n",
       "    </tr>\n",
       "    <tr>\n",
       "      <th>2</th>\n",
       "      <td>HP Pavilion 14 12th Gen Intel Core i7 16GB SDR...</td>\n",
       "      <td>4.3</td>\n",
       "      <td>84,990</td>\n",
       "    </tr>\n",
       "    <tr>\n",
       "      <th>3</th>\n",
       "      <td>HP Victus Gaming Latest 12th Gen Intel Core i7...</td>\n",
       "      <td>4.3</td>\n",
       "      <td>79,990</td>\n",
       "    </tr>\n",
       "    <tr>\n",
       "      <th>4</th>\n",
       "      <td>HP Pavilion Plus, 12th Gen Intel Core i7 16GB ...</td>\n",
       "      <td>4.0</td>\n",
       "      <td>92,990</td>\n",
       "    </tr>\n",
       "    <tr>\n",
       "      <th>5</th>\n",
       "      <td>(Renewed) ASUS TUF Dash F15 (2022), 15.6-inch ...</td>\n",
       "      <td>4.4</td>\n",
       "      <td>1,12,483</td>\n",
       "    </tr>\n",
       "    <tr>\n",
       "      <th>6</th>\n",
       "      <td>ASUS TUF Gaming F15 (2022), 15.6\"(39.62 cms) F...</td>\n",
       "      <td>3.5</td>\n",
       "      <td>95,990</td>\n",
       "    </tr>\n",
       "    <tr>\n",
       "      <th>7</th>\n",
       "      <td>Lenovo ThinkPad E14 Intel Core i7 12th Gen 14\"...</td>\n",
       "      <td>3.8</td>\n",
       "      <td>98,990</td>\n",
       "    </tr>\n",
       "    <tr>\n",
       "      <th>8</th>\n",
       "      <td>Hp Pavilion 15 12Th Gen Intel Core I7 16Gb Sdr...</td>\n",
       "      <td>3.7</td>\n",
       "      <td>89,990</td>\n",
       "    </tr>\n",
       "    <tr>\n",
       "      <th>9</th>\n",
       "      <td>Dell Inspiron 5320 Laptop, Intel i7-1260P, 16G...</td>\n",
       "      <td>4.3</td>\n",
       "      <td>84,590</td>\n",
       "    </tr>\n",
       "  </tbody>\n",
       "</table>\n",
       "</div>"
      ],
      "text/plain": [
       "                                               Title Rating     Price\n",
       "0  ASUS Vivobook 14, Intel Core i7-1165G7 11th Ge...    4.2    56,990\n",
       "1  Lenovo IdeaPad Slim 5 Intel Core i7 12th Gen 1...    4.2    79,990\n",
       "2  HP Pavilion 14 12th Gen Intel Core i7 16GB SDR...    4.3    84,990\n",
       "3  HP Victus Gaming Latest 12th Gen Intel Core i7...    4.3    79,990\n",
       "4  HP Pavilion Plus, 12th Gen Intel Core i7 16GB ...    4.0    92,990\n",
       "5  (Renewed) ASUS TUF Dash F15 (2022), 15.6-inch ...    4.4  1,12,483\n",
       "6  ASUS TUF Gaming F15 (2022), 15.6\"(39.62 cms) F...    3.5    95,990\n",
       "7  Lenovo ThinkPad E14 Intel Core i7 12th Gen 14\"...    3.8    98,990\n",
       "8  Hp Pavilion 15 12Th Gen Intel Core I7 16Gb Sdr...    3.7    89,990\n",
       "9  Dell Inspiron 5320 Laptop, Intel i7-1260P, 16G...    4.3    84,590"
      ]
     },
     "execution_count": 239,
     "metadata": {},
     "output_type": "execute_result"
    }
   ],
   "source": [
    "df= pd.DataFrame({\n",
    "                'Title':title,\n",
    "                'Rating': rating,\n",
    "                'Price':price})\n",
    "df"
   ]
  },
  {
   "cell_type": "markdown",
   "id": "ad8516db",
   "metadata": {},
   "source": [
    "# <font color='cyan'>--------------------------------------------------------------------------------------------------------------</font>"
   ]
  },
  {
   "cell_type": "markdown",
   "id": "fb8ebfc3",
   "metadata": {},
   "source": [
    "## <font color='deeppink'>Q8: Write a python program to scrape data for Top 1000 Quotes of All Time.</font>\n",
    "### <font color='red'>The above task will be done in following steps: </font>\n",
    "> ### <font color='red'>1. First get the webpagehttps://www.azquotes.com/</font>\n",
    "> ### <font color='red'>2. Click on TopQuotes</font>\n",
    "> ### <font color='red'>Than scrap a) Quote b) Author c) Type Of Quotes</font>\n"
   ]
  },
  {
   "cell_type": "code",
   "execution_count": 241,
   "id": "6f402054",
   "metadata": {},
   "outputs": [],
   "source": [
    "#get the webpage\n",
    "driver.get('https://www.azquotes.com/')"
   ]
  },
  {
   "cell_type": "code",
   "execution_count": 242,
   "id": "b7aca854",
   "metadata": {},
   "outputs": [],
   "source": [
    "# Click on TopQuotes\n",
    "search_button=driver.find_element(By.XPATH,'/html/body/div[1]/div[1]/div[1]/div/div[3]/ul/li[5]/a') \n",
    "search_button.click()"
   ]
  },
  {
   "cell_type": "code",
   "execution_count": 251,
   "id": "f064b893",
   "metadata": {},
   "outputs": [
    {
     "name": "stdout",
     "output_type": "stream",
     "text": [
      "100\n"
     ]
    },
    {
     "data": {
      "text/plain": [
       "['The essence of strategy is choosing what not to do.',\n",
       " 'One cannot and must not try to erase the past merely because it does not fit the present.',\n",
       " 'Patriotism means to stand by the country. It does not mean to stand by the president.',\n",
       " 'Death is something inevitable. When a man has done what he considers to be his duty to his people and his country, he can rest in peace. I believe I have made that effort and that is, therefore, why I will sleep for the eternity.',\n",
       " 'You have to love a nation that celebrates its independence every July 4, not with a parade of guns, tanks, and soldiers who file by the White House in a show of strength and muscle, but with family picnics where kids throw Frisbees, the potato salad gets iffy, and the flies die from happiness. You may think you have overeaten, but it is patriotism.',\n",
       " 'Be more concerned with your character than your reputation, because your character is what you really are, while your reputation is merely what others think you are.',\n",
       " 'Weak people revenge. Strong people forgive. Intelligent People Ignore.',\n",
       " \"A mind is like a parachute. It doesn't work if it is not open.\",\n",
       " 'Never be afraid to raise your voice for honesty and truth and compassion against injustice and lying and greed. If people all over the world...would do this, it would change the earth.',\n",
       " 'There are three kinds of men. The one that learns by reading. The few who learn by observation. The rest of them have to pee on the electric fence for themselves.',\n",
       " \"A strong nation, like a strong person, can afford to be gentle, firm, thoughtful, and restrained. It can afford to extend a helping hand to others. It's a weak nation, like a weak person, that must behave with bluster and boasting and rashness and other signs of insecurity.\",\n",
       " 'The difference between stupidity and genius is that genius has its limits.',\n",
       " 'We the people are the rightful masters of both Congress and the courts, not to overthrow the Constitution but to overthrow the men who pervert the Constitution.',\n",
       " 'With or without religion, you would have good people doing good things and evil people doing evil things. But for good people to do evil things, that takes religion.',\n",
       " 'Human kindness has never weakened the stamina or softened the fiber of a free people. A nation does not have to be cruel to be tough.',\n",
       " 'A person who never made a mistake never tried anything new.',\n",
       " 'My mission in life is not merely to survive, but to thrive; and to do so with some passion, some compassion, some humor, and some style',\n",
       " 'Life is short, Break the Rules. Forgive quickly, Kiss slowly. Love truly. Laugh uncontrollably And never regret ANYTHING That makes you smile.',\n",
       " 'This country will not be a good place for any of us to live in unless we make it a good place for all of us to live in.',\n",
       " 'In a world filled with hate, we must still dare to hope. In a world filled with anger, we must still dare to comfort. In a world filled with despair, we must still dare to dream. And in a world filled with distrust, we must still dare to believe.',\n",
       " 'Darkness cannot drive out darkness; only light can do that. Hate cannot drive out hate; only love can do that.',\n",
       " 'To be a Christian means to forgive the inexcusable because God has forgiven the inexcusable in you.',\n",
       " 'A man who is good enough to shed his blood for the country is good enough to be given a square deal afterwards.',\n",
       " 'Kindness is the language which the deaf can hear and the blind can see.',\n",
       " 'Most folks are as happy as they make up their minds to be.',\n",
       " 'A happy marriage is the union of two good forgivers.',\n",
       " 'I believe in Christianity as I believe that the sun has risen: not only because I see it, but because by it I see everything else.',\n",
       " 'Politics is the art of looking for trouble, finding it everywhere, diagnosing it incorrectly and applying the wrong remedies.',\n",
       " \"I believe in everything until it's disproved. So I believe in fairies, the myths, dragons. It all exists, even if it's in your mind. Who's to say that dreams and nightmares aren't as real as the here and now?\",\n",
       " 'At the end of your life, you will never regret not having passed one more test, not winning one more verdict or not closing one more deal. You will regret time not spent with a husband, a friend, a child, or a parent.',\n",
       " 'I never think of the future - it comes soon enough.',\n",
       " \"Our greatest fear should not be of failure but of succeeding at things in life that don't really matter.\",\n",
       " 'Failure is simply the opportunity to begin again, this time more intelligently.',\n",
       " 'Music expresses that which cannot be put into words.',\n",
       " 'Good actions are a guard against the blows of adversity.',\n",
       " 'Positive thinking will let you do everything better than negative thinking will.',\n",
       " \"You have enemies? Good. That means you've stood up for something, sometime in your life.\",\n",
       " \"You don't have to be great to start, but you have to start to be great\",\n",
       " 'Let every nation know, whether it wishes us well or ill, that we shall pay any price, bear any burden, meet any hardship, support any friend, oppose any foe to assure the survival and the success of liberty.',\n",
       " \"If you want total security, go to prison. There you're fed, clothed, given medical care and so on. The only thing lacking... is freedom.\",\n",
       " 'Socialism is a philosophy of failure, the creed of ignorance, and the gospel of envy, its inherent virtue is the equal sharing of misery.',\n",
       " 'It is the supreme art of the teacher to awaken joy in creative expression and knowledge.',\n",
       " \"Once you replace negative thoughts with positive ones, you'll start having positive results.\",\n",
       " \"You build on failure. You use it as a stepping stone. Close the door on the past. You don't try to forget the mistakes, but you don't dwell on it. You don't let it have any of your energy, or any of your time, or any of your space.\",\n",
       " 'All my life through, the new sights of Nature made me rejoice like a child.',\n",
       " \"I've learned that people will forget what you said, people will forget what you did, but people will never forget how you made them feel.\",\n",
       " 'Marriage is not a ritual or an end. It is a long, intricate, intimate dance together and nothing matters more than your own sense of balance and your choice of partner.',\n",
       " 'When obstacles arise, you change your direction to reach your goal; you do not change your decision to get there.',\n",
       " 'Time you enjoy wasting, was not wasted.',\n",
       " 'The next time some academics tell you how important diversity is, ask how many Republicans there are in their sociology department.',\n",
       " 'Faith is not the belief that God will do what you want. It is the belief that God will do what is right.',\n",
       " \"If you can't fly then run, if you can't run then walk, if you can't walk then crawl, but whatever you do you have to keep moving forward.\",\n",
       " 'I say that the most liberating thing about beauty is realizing that you are the beholder.',\n",
       " 'It is hard to imagine a more stupid or more dangerous way of making decisions than by putting those decisions in the hands of people who pay no price for being wrong.',\n",
       " 'The ultimate measure of a man is not where he stands in moments of comfort and convenience, but where he stands at times of challenge and controversy.',\n",
       " 'The soldier, above all other people, prays for peace, for he must suffer and bear the deepest wounds and scars of war.',\n",
       " 'A true leader has the confidence to stand alone, the courage to make tough decisions, and the compassion to listen to the needs of others. He does not set out to be a leader, but becomes one by the equality of his actions and the integrity of his intent.',\n",
       " 'I am a Soldier, I fight where I am told, and I win where I fight.',\n",
       " \"Trying to do the Lord's work in your own strength is the most confusing, exhausting, and tedious of all work. But when you are filled with the Holy Spirit, then the ministry of Jesus just flows out of you.\",\n",
       " \"Sports for me is when a guy walks off the court, and you really can't tell whether he won or lost, when he carries himself with pride either way.\",\n",
       " 'Expect the best. Prepare for the worst. Capitalize on what comes.',\n",
       " 'I became insane, with long intervals of horrible sanity.',\n",
       " 'Failure is a detour, not a dead-end street.',\n",
       " 'I am not a product of my circumstances. I am a product of my decisions.',\n",
       " 'You can cut all the flowers but you cannot keep spring from coming.',\n",
       " \"Life doesn't run away from nobody. Life runs at people.\",\n",
       " 'In order to succeed, your desire for success should be greater than your fear of failure.',\n",
       " \"It's difficult to think anything but pleasant thoughts while eating a homegrown tomato.\",\n",
       " 'Too many of us are not living our dreams because we are living our fears.',\n",
       " 'If the only prayer you ever say in your entire life is thank you, it will be enough.',\n",
       " \"It's just a job. Grass grows, birds fly, waves pound the sand. I beat people up.\",\n",
       " 'A man must be big enough to admit his mistakes, smart enough to profit from them, and strong enough to correct them.',\n",
       " 'Our greatest weakness lies in giving up. The most certain way to succeed is always to try just one more time.',\n",
       " 'This is one small step for a man, one giant leap for mankind.',\n",
       " \"It has been said, 'time heals all wounds.' I do not agree. The wounds remain. In time, the mind, protecting its sanity, covers them with scar tissue and the pain lessens. But it is never gone.\",\n",
       " \"I have held many things in my hands, and I have lost them all; but whatever I have placed in God's hands, that I still possess.\",\n",
       " \"Welfare's purpose should be to eliminate, as far as possible, the need for its own existence.\",\n",
       " 'Each time, before you intercede, be quiet first, and worship God in His glory. Think of what He can do, and how He delights to hear the prayers of His redeemed people. Think of your place and privilege in Christ, and expect great things!',\n",
       " \"Failure is not the opposite of success; it's part of success.\",\n",
       " 'No one has ever become poor by giving.',\n",
       " 'It is not my ability, but my response to God’s ability, that counts.',\n",
       " 'No matter what people tell you, words and ideas can change the world.',\n",
       " 'No one is born hating another person because of the color of his skin, or his background, or his religion. People must learn to hate, and if they can learn to hate, they can be taught to love, for love comes more naturally to the human heart than its opposite.',\n",
       " 'A man should never neglect his family for business.',\n",
       " 'Those who dare to fail miserably can achieve greatly.',\n",
       " 'The two most important days in your life are the day you are born and the day you find out why.',\n",
       " 'We must be global Christians with a global vision because our God is a global God.',\n",
       " 'With everything that has happened to you, you can either feel sorry for yourself or treat what has happened as a gift. Everything is either an opportunity to grow or an obstacle to keep you from growing. You get to choose.',\n",
       " 'Don’t let the noise of others’ opinions drown out your own inner voice.',\n",
       " 'History, despite its wrenching pain, cannot be unlived, but if faced with courage, need not be lived again.',\n",
       " \"How old would you be if you didn't know how old you are?\",\n",
       " 'Leadership is a privilege to better the lives of others. It is not an opportunity to satisfy personal greed.',\n",
       " 'If you have good thoughts they will shine out of your face like sunbeams and you will always look lovely.',\n",
       " 'Never cut a tree down in the wintertime. Never make a negative decision in the low time. Never make your most important decisions when you are in your worst moods. Wait. Be patient. The storm will pass. The spring will come.',\n",
       " 'An optimist stays up until midnight to see the new year in. A pessimist stays up to make sure the old year leaves.',\n",
       " 'When the going gets weird, the weird turn pro.',\n",
       " \"When a train goes through a tunnel and it gets dark, you don't throw away the ticket and jump off. You sit still and trust the engineer.\",\n",
       " 'If you think you are too small to make a difference, try sleeping with a mosquito.',\n",
       " \"God doesn't require us to succeed, he only requires that you try.\",\n",
       " 'Change your thoughts and you change your world.']"
      ]
     },
     "execution_count": 251,
     "metadata": {},
     "output_type": "execute_result"
    }
   ],
   "source": [
    "quote=[]\n",
    "\n",
    "\n",
    "title_tags=driver.find_elements(By.XPATH,'//a[@class=\"title\"]') \n",
    "for i in title_tags:\n",
    "    quote.append(i.text)\n",
    "print(len(quote))\n",
    "quote"
   ]
  },
  {
   "cell_type": "code",
   "execution_count": 247,
   "id": "72c72089",
   "metadata": {},
   "outputs": [
    {
     "name": "stdout",
     "output_type": "stream",
     "text": [
      "100\n"
     ]
    }
   ],
   "source": [
    "author=[]\n",
    "\n",
    "\n",
    "author_tags=driver.find_elements(By.XPATH,'//div[@class=\"author\"]') \n",
    "for i in author_tags:\n",
    "    author.append(i.text)\n",
    "print(len(author))\n",
    "#author"
   ]
  },
  {
   "cell_type": "code",
   "execution_count": 248,
   "id": "f31e17d3",
   "metadata": {},
   "outputs": [
    {
     "name": "stdout",
     "output_type": "stream",
     "text": [
      "100\n"
     ]
    }
   ],
   "source": [
    "type_quote=[]\n",
    "\n",
    "\n",
    "type_tags=driver.find_elements(By.XPATH,'//div[@class=\"tags\"]') \n",
    "for i in type_tags:\n",
    "    type_quote.append(i.text)\n",
    "print(len(type_quote))\n",
    "#type_quote"
   ]
  },
  {
   "cell_type": "code",
   "execution_count": 250,
   "id": "8d0df7be",
   "metadata": {
    "scrolled": true
   },
   "outputs": [
    {
     "data": {
      "text/html": [
       "<div>\n",
       "<style scoped>\n",
       "    .dataframe tbody tr th:only-of-type {\n",
       "        vertical-align: middle;\n",
       "    }\n",
       "\n",
       "    .dataframe tbody tr th {\n",
       "        vertical-align: top;\n",
       "    }\n",
       "\n",
       "    .dataframe thead th {\n",
       "        text-align: right;\n",
       "    }\n",
       "</style>\n",
       "<table border=\"1\" class=\"dataframe\">\n",
       "  <thead>\n",
       "    <tr style=\"text-align: right;\">\n",
       "      <th></th>\n",
       "      <th>Quote</th>\n",
       "      <th>Author</th>\n",
       "      <th>Type of quote</th>\n",
       "    </tr>\n",
       "  </thead>\n",
       "  <tbody>\n",
       "    <tr>\n",
       "      <th>0</th>\n",
       "      <td>The essence of strategy is choosing what not t...</td>\n",
       "      <td>Michael Porter</td>\n",
       "      <td>Essence, Deep Thought, Transcendentalism</td>\n",
       "    </tr>\n",
       "    <tr>\n",
       "      <th>1</th>\n",
       "      <td>One cannot and must not try to erase the past ...</td>\n",
       "      <td>Golda Meir</td>\n",
       "      <td>Inspiration, Past, Trying</td>\n",
       "    </tr>\n",
       "    <tr>\n",
       "      <th>2</th>\n",
       "      <td>Patriotism means to stand by the country. It d...</td>\n",
       "      <td>Theodore Roosevelt</td>\n",
       "      <td>Country, Peace, War</td>\n",
       "    </tr>\n",
       "    <tr>\n",
       "      <th>3</th>\n",
       "      <td>Death is something inevitable. When a man has ...</td>\n",
       "      <td>Nelson Mandela</td>\n",
       "      <td>Inspirational, Motivational, Death</td>\n",
       "    </tr>\n",
       "    <tr>\n",
       "      <th>4</th>\n",
       "      <td>You have to love a nation that celebrates its ...</td>\n",
       "      <td>Erma Bombeck</td>\n",
       "      <td>4th Of July, Food, Patriotic</td>\n",
       "    </tr>\n",
       "    <tr>\n",
       "      <th>...</th>\n",
       "      <td>...</td>\n",
       "      <td>...</td>\n",
       "      <td>...</td>\n",
       "    </tr>\n",
       "    <tr>\n",
       "      <th>95</th>\n",
       "      <td>When the going gets weird, the weird turn pro.</td>\n",
       "      <td>Hunter S. Thompson</td>\n",
       "      <td>Music, Sports, Hunting</td>\n",
       "    </tr>\n",
       "    <tr>\n",
       "      <th>96</th>\n",
       "      <td>When a train goes through a tunnel and it gets...</td>\n",
       "      <td>Corrie Ten Boom</td>\n",
       "      <td>Trust, Encouraging, Uplifting</td>\n",
       "    </tr>\n",
       "    <tr>\n",
       "      <th>97</th>\n",
       "      <td>If you think you are too small to make a diffe...</td>\n",
       "      <td>Dalai Lama</td>\n",
       "      <td>Inspirational, Funny, Change</td>\n",
       "    </tr>\n",
       "    <tr>\n",
       "      <th>98</th>\n",
       "      <td>God doesn't require us to succeed, he only req...</td>\n",
       "      <td>Mother Teresa</td>\n",
       "      <td>Success, God, Mother</td>\n",
       "    </tr>\n",
       "    <tr>\n",
       "      <th>99</th>\n",
       "      <td>Change your thoughts and you change your world.</td>\n",
       "      <td>Norman Vincent Peale</td>\n",
       "      <td>Inspirational, Motivational, Change</td>\n",
       "    </tr>\n",
       "  </tbody>\n",
       "</table>\n",
       "<p>100 rows × 3 columns</p>\n",
       "</div>"
      ],
      "text/plain": [
       "                                                Quote                Author  \\\n",
       "0   The essence of strategy is choosing what not t...        Michael Porter   \n",
       "1   One cannot and must not try to erase the past ...            Golda Meir   \n",
       "2   Patriotism means to stand by the country. It d...    Theodore Roosevelt   \n",
       "3   Death is something inevitable. When a man has ...        Nelson Mandela   \n",
       "4   You have to love a nation that celebrates its ...          Erma Bombeck   \n",
       "..                                                ...                   ...   \n",
       "95     When the going gets weird, the weird turn pro.    Hunter S. Thompson   \n",
       "96  When a train goes through a tunnel and it gets...       Corrie Ten Boom   \n",
       "97  If you think you are too small to make a diffe...            Dalai Lama   \n",
       "98  God doesn't require us to succeed, he only req...         Mother Teresa   \n",
       "99    Change your thoughts and you change your world.  Norman Vincent Peale   \n",
       "\n",
       "                               Type of quote  \n",
       "0   Essence, Deep Thought, Transcendentalism  \n",
       "1                  Inspiration, Past, Trying  \n",
       "2                        Country, Peace, War  \n",
       "3         Inspirational, Motivational, Death  \n",
       "4               4th Of July, Food, Patriotic  \n",
       "..                                       ...  \n",
       "95                    Music, Sports, Hunting  \n",
       "96             Trust, Encouraging, Uplifting  \n",
       "97              Inspirational, Funny, Change  \n",
       "98                      Success, God, Mother  \n",
       "99       Inspirational, Motivational, Change  \n",
       "\n",
       "[100 rows x 3 columns]"
      ]
     },
     "execution_count": 250,
     "metadata": {},
     "output_type": "execute_result"
    }
   ],
   "source": [
    "df= pd.DataFrame({\n",
    "                'Quote':quote,\n",
    "                'Author': author,\n",
    "                'Type of quote':type_quote})\n",
    "df"
   ]
  },
  {
   "cell_type": "markdown",
   "id": "086a1468",
   "metadata": {},
   "source": [
    "# <font color='cyan'>--------------------------------------------------------------------------------------------------------------</font>"
   ]
  },
  {
   "cell_type": "markdown",
   "id": "c502cb78",
   "metadata": {},
   "source": [
    "## <font color='deeppink'>Q9: Write a python program to display list of respected former Prime Ministers of India(i.e. Name, Born-Dead, Term of office, Remarks) from https://www.jagranjosh.com/.</font>\n",
    "### <font color='red'>This task will be done in following steps:</font>\n",
    "> ### <font color='red'>1. First get the webpagehttps://www.jagranjosh.com/</font>\n",
    "> ### <font color='red'>2. Then You have to click on the GK option</font>\n",
    "> ### <font color='red'>3. Then click on the List of all Prime Ministers of India</font>\n",
    "> ### <font color='red'>4. Then scrap the mentioned data and make the DataFrame</font>"
   ]
  },
  {
   "cell_type": "code",
   "execution_count": 92,
   "id": "edc403c2",
   "metadata": {},
   "outputs": [
    {
     "name": "stderr",
     "output_type": "stream",
     "text": [
      "C:\\Users\\Deepshika\\AppData\\Local\\Temp\\ipykernel_12608\\2567060123.py:1: DeprecationWarning: executable_path has been deprecated, please pass in a Service object\n",
      "  driver= webdriver.Chrome(r'C:\\Users\\Deepshika\\Downloads\\deep_chromedriver\\chromedriver.exe')\n"
     ]
    }
   ],
   "source": [
    "driver= webdriver.Chrome(r'C:\\Users\\Deepshika\\Downloads\\deep_chromedriver\\chromedriver.exe') \n"
   ]
  },
  {
   "cell_type": "code",
   "execution_count": 81,
   "id": "383efc0b",
   "metadata": {},
   "outputs": [],
   "source": [
    "#getting the webpage\n",
    "driver.get('https://www.jagranjosh.com/')"
   ]
  },
  {
   "cell_type": "code",
   "execution_count": 82,
   "id": "a8f5691c",
   "metadata": {},
   "outputs": [],
   "source": [
    "#click on the GK option\n",
    "search_button=driver.find_element(By.XPATH,'/html/body/div/div[1]/div/div[1]/div/div[5]/div/div[1]/header/div[3]/ul/li[9]/a') \n",
    "search_button.click()"
   ]
  },
  {
   "cell_type": "code",
   "execution_count": 83,
   "id": "ec5a0830",
   "metadata": {},
   "outputs": [
    {
     "data": {
      "text/plain": [
       "'https://www.jagranjosh.com/general-knowledge/list-of-all-prime-ministers-of-india-1473165149-1'"
      ]
     },
     "execution_count": 83,
     "metadata": {},
     "output_type": "execute_result"
    }
   ],
   "source": [
    "#click on the List of all Prime Ministers of India\n",
    "url_path=driver.find_element(By.XPATH,'/html/body/div[1]/div/div/div[2]/div/div[10]/div/div/ul/li[2]/a') \n",
    "url=url_path.get_attribute('href')\n",
    "url"
   ]
  },
  {
   "cell_type": "code",
   "execution_count": 84,
   "id": "204892ec",
   "metadata": {},
   "outputs": [],
   "source": [
    "driver.get(url)"
   ]
  },
  {
   "cell_type": "code",
   "execution_count": 68,
   "id": "9bbb0e33",
   "metadata": {},
   "outputs": [
    {
     "name": "stdout",
     "output_type": "stream",
     "text": [
      "18\n"
     ]
    },
    {
     "data": {
      "text/plain": [
       "['Jawahar Lal Nehru',\n",
       " 'Gulzarilal Nanda (Acting)',\n",
       " 'Lal Bahadur Shastri',\n",
       " 'Gulzari Lal Nanda  (Acting)',\n",
       " 'Indira Gandhi',\n",
       " 'Morarji Desai',\n",
       " 'Charan Singh',\n",
       " 'Indira Gandhi',\n",
       " 'Rajiv Gandhi',\n",
       " 'V. P. Singh',\n",
       " 'Chandra Shekhar',\n",
       " 'P. V. Narasimha Rao',\n",
       " 'Atal Bihari Vajpayee',\n",
       " 'H. D. Deve Gowda',\n",
       " 'Inder Kumar Gujral',\n",
       " 'Atal Bihari Vajpayee',\n",
       " 'Manmohan Singh',\n",
       " 'Narendra Modi']"
      ]
     },
     "execution_count": 68,
     "metadata": {},
     "output_type": "execute_result"
    }
   ],
   "source": [
    "name=[]\n",
    "\n",
    "\n",
    "title_tags=driver.find_elements(By.XPATH,'//*[@id=\"itemdiv\"]/div[5]/span/div[2]/table/tbody/tr/td[2]/p') \n",
    "for i in title_tags:\n",
    "    name.append(i.text)\n",
    "print(len(name))\n",
    "name"
   ]
  },
  {
   "cell_type": "code",
   "execution_count": 69,
   "id": "8b1d553c",
   "metadata": {},
   "outputs": [
    {
     "name": "stdout",
     "output_type": "stream",
     "text": [
      "18\n"
     ]
    },
    {
     "data": {
      "text/plain": [
       "['(1889–1964)',\n",
       " '(1898-1998)',\n",
       " '(1904–1966)',\n",
       " '(1898-1998)',\n",
       " '(1917–1984)',\n",
       " '(1896–1995)',\n",
       " '(1902–1987)',\n",
       " '(1917–1984)',\n",
       " '(1944–1991)',\n",
       " '(1931–2008)',\n",
       " '(1927–2007)',\n",
       " '(1921–2004)',\n",
       " '(1924- 2018)',\n",
       " '(born 1933)',\n",
       " '(1919–2012)',\n",
       " '(1924-2018)',\n",
       " '(born 1932)',\n",
       " '(born 1950)']"
      ]
     },
     "execution_count": 69,
     "metadata": {},
     "output_type": "execute_result"
    }
   ],
   "source": [
    "Born_Dead=[]\n",
    "title_tags=driver.find_elements(By.XPATH,'//*[@id=\"itemdiv\"]/div[5]/span/div[2]/table/tbody/tr/td[3]/p') \n",
    "for i in title_tags:\n",
    "    Born_Dead.append(i.text)\n",
    "print(len(Born_Dead))\n",
    "Born_Dead"
   ]
  },
  {
   "cell_type": "code",
   "execution_count": 89,
   "id": "2c679981",
   "metadata": {},
   "outputs": [
    {
     "name": "stdout",
     "output_type": "stream",
     "text": [
      "18\n"
     ]
    },
    {
     "data": {
      "text/plain": [
       "['15 August 1947 to 27 May 1964',\n",
       " '27 May 1964 to 9 June 1964,',\n",
       " '9 June 1964 to 11 January 1966',\n",
       " '11 January 1966 to 24 January 1966',\n",
       " '24 January 1966 to 24 March 1977',\n",
       " '24 March 1977 to  28 July 1979 ',\n",
       " '28 July 1979 to 14 January 1980',\n",
       " '14 January 1980 to 31 October 1984',\n",
       " '31 October 1984 to 2 December 1989',\n",
       " '2 December 1989 to 10 November 1990',\n",
       " '10 November 1990 to 21 June 1991',\n",
       " '21 June 1991 to 16 May 1996',\n",
       " '16 May 1996 to 1 June 1996',\n",
       " '1 June 1996 to 21 April 1997',\n",
       " '21 April 1997 to 19 March 1998 ',\n",
       " '19 March 1998 to 22 May 2004 ',\n",
       " '22 May 2004 to 26 May 2014   ',\n",
       " '26 May 2014 - Present']"
      ]
     },
     "execution_count": 89,
     "metadata": {},
     "output_type": "execute_result"
    }
   ],
   "source": [
    "term_of_office=[]\n",
    "title_tags=driver.find_elements(By.XPATH,'//*[@id=\"itemdiv\"]/div[5]/span/div[3]/table/tbody/tr/td[4]/p[1]') \n",
    "for i in title_tags:\n",
    "    term_of_office.append(i.text)\n",
    "print(len(term_of_office))\n",
    "term_of_office"
   ]
  },
  {
   "cell_type": "code",
   "execution_count": 90,
   "id": "2c71159c",
   "metadata": {},
   "outputs": [
    {
     "name": "stdout",
     "output_type": "stream",
     "text": [
      "18\n"
     ]
    },
    {
     "data": {
      "text/plain": [
       "['The first prime minister of India and the longest-serving PM of India, the first to die in office.',\n",
       " 'First acting PM of India',\n",
       " \"He has given the slogan of 'Jai Jawan Jai Kisan' during the Indo-Pak war of 1965\",\n",
       " '-',\n",
       " 'First female Prime Minister of India',\n",
       " 'Oldest to become PM (81 years old) and first to resign from office',\n",
       " 'Only PM who did not face the Parliament',\n",
       " 'The first lady who served as PM for the second term',\n",
       " 'Youngest to become PM (40 years old)',\n",
       " 'First PM to step down after a vote of no confidence',\n",
       " 'He belongs to  Samajwadi Janata Party',\n",
       " 'First PM from south India',\n",
       " 'PM for shortest tenure',\n",
       " 'He belongs to  Janata Dal',\n",
       " '------',\n",
       " ' The first non-congress PM who completed a full term as PM',\n",
       " ' First Sikh PM',\n",
       " '4th Prime Minister of India who served two consecutive tenures']"
      ]
     },
     "execution_count": 90,
     "metadata": {},
     "output_type": "execute_result"
    }
   ],
   "source": [
    "remarks=[]\n",
    "title_tags=driver.find_elements(By.XPATH,'//*[@id=\"itemdiv\"]/div[5]/span/div[3]/table/tbody/tr/td[5]/p') \n",
    "for i in title_tags:\n",
    "    remarks.append(i.text)\n",
    "print(len(remarks))\n",
    "remarks"
   ]
  },
  {
   "cell_type": "code",
   "execution_count": 91,
   "id": "2c230d87",
   "metadata": {},
   "outputs": [
    {
     "data": {
      "text/html": [
       "<div>\n",
       "<style scoped>\n",
       "    .dataframe tbody tr th:only-of-type {\n",
       "        vertical-align: middle;\n",
       "    }\n",
       "\n",
       "    .dataframe tbody tr th {\n",
       "        vertical-align: top;\n",
       "    }\n",
       "\n",
       "    .dataframe thead th {\n",
       "        text-align: right;\n",
       "    }\n",
       "</style>\n",
       "<table border=\"1\" class=\"dataframe\">\n",
       "  <thead>\n",
       "    <tr style=\"text-align: right;\">\n",
       "      <th></th>\n",
       "      <th>Name</th>\n",
       "      <th>Born-Dead</th>\n",
       "      <th>Term of office</th>\n",
       "      <th>Remarks</th>\n",
       "    </tr>\n",
       "  </thead>\n",
       "  <tbody>\n",
       "    <tr>\n",
       "      <th>0</th>\n",
       "      <td>Jawahar Lal Nehru</td>\n",
       "      <td>(1889–1964)</td>\n",
       "      <td>15 August 1947 to 27 May 1964</td>\n",
       "      <td>The first prime minister of India and the long...</td>\n",
       "    </tr>\n",
       "    <tr>\n",
       "      <th>1</th>\n",
       "      <td>Gulzarilal Nanda (Acting)</td>\n",
       "      <td>(1898-1998)</td>\n",
       "      <td>27 May 1964 to 9 June 1964,</td>\n",
       "      <td>First acting PM of India</td>\n",
       "    </tr>\n",
       "    <tr>\n",
       "      <th>2</th>\n",
       "      <td>Lal Bahadur Shastri</td>\n",
       "      <td>(1904–1966)</td>\n",
       "      <td>9 June 1964 to 11 January 1966</td>\n",
       "      <td>He has given the slogan of 'Jai Jawan Jai Kisa...</td>\n",
       "    </tr>\n",
       "    <tr>\n",
       "      <th>3</th>\n",
       "      <td>Gulzari Lal Nanda  (Acting)</td>\n",
       "      <td>(1898-1998)</td>\n",
       "      <td>11 January 1966 to 24 January 1966</td>\n",
       "      <td>-</td>\n",
       "    </tr>\n",
       "    <tr>\n",
       "      <th>4</th>\n",
       "      <td>Indira Gandhi</td>\n",
       "      <td>(1917–1984)</td>\n",
       "      <td>24 January 1966 to 24 March 1977</td>\n",
       "      <td>First female Prime Minister of India</td>\n",
       "    </tr>\n",
       "    <tr>\n",
       "      <th>5</th>\n",
       "      <td>Morarji Desai</td>\n",
       "      <td>(1896–1995)</td>\n",
       "      <td>24 March 1977 to  28 July 1979</td>\n",
       "      <td>Oldest to become PM (81 years old) and first t...</td>\n",
       "    </tr>\n",
       "    <tr>\n",
       "      <th>6</th>\n",
       "      <td>Charan Singh</td>\n",
       "      <td>(1902–1987)</td>\n",
       "      <td>28 July 1979 to 14 January 1980</td>\n",
       "      <td>Only PM who did not face the Parliament</td>\n",
       "    </tr>\n",
       "    <tr>\n",
       "      <th>7</th>\n",
       "      <td>Indira Gandhi</td>\n",
       "      <td>(1917–1984)</td>\n",
       "      <td>14 January 1980 to 31 October 1984</td>\n",
       "      <td>The first lady who served as PM for the second...</td>\n",
       "    </tr>\n",
       "    <tr>\n",
       "      <th>8</th>\n",
       "      <td>Rajiv Gandhi</td>\n",
       "      <td>(1944–1991)</td>\n",
       "      <td>31 October 1984 to 2 December 1989</td>\n",
       "      <td>Youngest to become PM (40 years old)</td>\n",
       "    </tr>\n",
       "    <tr>\n",
       "      <th>9</th>\n",
       "      <td>V. P. Singh</td>\n",
       "      <td>(1931–2008)</td>\n",
       "      <td>2 December 1989 to 10 November 1990</td>\n",
       "      <td>First PM to step down after a vote of no confi...</td>\n",
       "    </tr>\n",
       "    <tr>\n",
       "      <th>10</th>\n",
       "      <td>Chandra Shekhar</td>\n",
       "      <td>(1927–2007)</td>\n",
       "      <td>10 November 1990 to 21 June 1991</td>\n",
       "      <td>He belongs to  Samajwadi Janata Party</td>\n",
       "    </tr>\n",
       "    <tr>\n",
       "      <th>11</th>\n",
       "      <td>P. V. Narasimha Rao</td>\n",
       "      <td>(1921–2004)</td>\n",
       "      <td>21 June 1991 to 16 May 1996</td>\n",
       "      <td>First PM from south India</td>\n",
       "    </tr>\n",
       "    <tr>\n",
       "      <th>12</th>\n",
       "      <td>Atal Bihari Vajpayee</td>\n",
       "      <td>(1924- 2018)</td>\n",
       "      <td>16 May 1996 to 1 June 1996</td>\n",
       "      <td>PM for shortest tenure</td>\n",
       "    </tr>\n",
       "    <tr>\n",
       "      <th>13</th>\n",
       "      <td>H. D. Deve Gowda</td>\n",
       "      <td>(born 1933)</td>\n",
       "      <td>1 June 1996 to 21 April 1997</td>\n",
       "      <td>He belongs to  Janata Dal</td>\n",
       "    </tr>\n",
       "    <tr>\n",
       "      <th>14</th>\n",
       "      <td>Inder Kumar Gujral</td>\n",
       "      <td>(1919–2012)</td>\n",
       "      <td>21 April 1997 to 19 March 1998</td>\n",
       "      <td>------</td>\n",
       "    </tr>\n",
       "    <tr>\n",
       "      <th>15</th>\n",
       "      <td>Atal Bihari Vajpayee</td>\n",
       "      <td>(1924-2018)</td>\n",
       "      <td>19 March 1998 to 22 May 2004</td>\n",
       "      <td>The first non-congress PM who completed a ful...</td>\n",
       "    </tr>\n",
       "    <tr>\n",
       "      <th>16</th>\n",
       "      <td>Manmohan Singh</td>\n",
       "      <td>(born 1932)</td>\n",
       "      <td>22 May 2004 to 26 May 2014</td>\n",
       "      <td>First Sikh PM</td>\n",
       "    </tr>\n",
       "    <tr>\n",
       "      <th>17</th>\n",
       "      <td>Narendra Modi</td>\n",
       "      <td>(born 1950)</td>\n",
       "      <td>26 May 2014 - Present</td>\n",
       "      <td>4th Prime Minister of India who served two con...</td>\n",
       "    </tr>\n",
       "  </tbody>\n",
       "</table>\n",
       "</div>"
      ],
      "text/plain": [
       "                           Name     Born-Dead  \\\n",
       "0             Jawahar Lal Nehru   (1889–1964)   \n",
       "1     Gulzarilal Nanda (Acting)   (1898-1998)   \n",
       "2           Lal Bahadur Shastri   (1904–1966)   \n",
       "3   Gulzari Lal Nanda  (Acting)   (1898-1998)   \n",
       "4                 Indira Gandhi   (1917–1984)   \n",
       "5                 Morarji Desai   (1896–1995)   \n",
       "6                  Charan Singh   (1902–1987)   \n",
       "7                 Indira Gandhi   (1917–1984)   \n",
       "8                  Rajiv Gandhi   (1944–1991)   \n",
       "9                   V. P. Singh   (1931–2008)   \n",
       "10              Chandra Shekhar   (1927–2007)   \n",
       "11          P. V. Narasimha Rao   (1921–2004)   \n",
       "12         Atal Bihari Vajpayee  (1924- 2018)   \n",
       "13             H. D. Deve Gowda   (born 1933)   \n",
       "14           Inder Kumar Gujral   (1919–2012)   \n",
       "15         Atal Bihari Vajpayee   (1924-2018)   \n",
       "16               Manmohan Singh   (born 1932)   \n",
       "17                Narendra Modi   (born 1950)   \n",
       "\n",
       "                         Term of office  \\\n",
       "0         15 August 1947 to 27 May 1964   \n",
       "1           27 May 1964 to 9 June 1964,   \n",
       "2        9 June 1964 to 11 January 1966   \n",
       "3    11 January 1966 to 24 January 1966   \n",
       "4      24 January 1966 to 24 March 1977   \n",
       "5       24 March 1977 to  28 July 1979    \n",
       "6       28 July 1979 to 14 January 1980   \n",
       "7    14 January 1980 to 31 October 1984   \n",
       "8    31 October 1984 to 2 December 1989   \n",
       "9   2 December 1989 to 10 November 1990   \n",
       "10     10 November 1990 to 21 June 1991   \n",
       "11          21 June 1991 to 16 May 1996   \n",
       "12           16 May 1996 to 1 June 1996   \n",
       "13         1 June 1996 to 21 April 1997   \n",
       "14      21 April 1997 to 19 March 1998    \n",
       "15        19 March 1998 to 22 May 2004    \n",
       "16        22 May 2004 to 26 May 2014      \n",
       "17                26 May 2014 - Present   \n",
       "\n",
       "                                              Remarks  \n",
       "0   The first prime minister of India and the long...  \n",
       "1                            First acting PM of India  \n",
       "2   He has given the slogan of 'Jai Jawan Jai Kisa...  \n",
       "3                                                   -  \n",
       "4                First female Prime Minister of India  \n",
       "5   Oldest to become PM (81 years old) and first t...  \n",
       "6             Only PM who did not face the Parliament  \n",
       "7   The first lady who served as PM for the second...  \n",
       "8                Youngest to become PM (40 years old)  \n",
       "9   First PM to step down after a vote of no confi...  \n",
       "10              He belongs to  Samajwadi Janata Party  \n",
       "11                          First PM from south India  \n",
       "12                             PM for shortest tenure  \n",
       "13                          He belongs to  Janata Dal  \n",
       "14                                             ------  \n",
       "15   The first non-congress PM who completed a ful...  \n",
       "16                                      First Sikh PM  \n",
       "17  4th Prime Minister of India who served two con...  "
      ]
     },
     "execution_count": 91,
     "metadata": {},
     "output_type": "execute_result"
    }
   ],
   "source": [
    "df= pd.DataFrame({\n",
    "                'Name':name,\n",
    "                'Born-Dead': Born_Dead,\n",
    "                'Term of office': term_of_office,\n",
    "                'Remarks':remarks})\n",
    "df"
   ]
  },
  {
   "cell_type": "markdown",
   "id": "862c5803",
   "metadata": {},
   "source": [
    "# <font color='cyan'>--------------------------------------------------------------------------------------------------------------</font>"
   ]
  },
  {
   "cell_type": "markdown",
   "id": "4eac1ef0",
   "metadata": {},
   "source": [
    "## <font color='deeppink'>Q10: Write a python program to display list of 50 Most expensive cars in the world (i.e. Car name and Price) from https://www.motor1.com/ </font>\n",
    "### <font color='red'>This task will be done in following steps:</font>\n",
    "> ### <font color='red'>1. First get the webpagehttps://www.motor1.com/</font>\n",
    "> ### <font color='red'>2. Then You have to type in the search bar ’50 most expensive cars’</font>\n",
    "> ### <font color='red'>3. Then click on 50 most expensive carsin the world.</font>\n",
    "> ### <font color='red'>4. Then scrap the mentioned data and make the dataframe</font>"
   ]
  },
  {
   "cell_type": "code",
   "execution_count": 93,
   "id": "7401d76d",
   "metadata": {},
   "outputs": [],
   "source": [
    "driver.get('https://www.motor1.com/')"
   ]
  },
  {
   "cell_type": "code",
   "execution_count": 95,
   "id": "75fc2e37",
   "metadata": {},
   "outputs": [],
   "source": [
    "search_button=driver.find_element(By.XPATH,'/html/body/div[3]/div[2]/div/div/div[3]/div/div/button') \n",
    "search_button.click()"
   ]
  },
  {
   "cell_type": "code",
   "execution_count": 96,
   "id": "433cff26",
   "metadata": {},
   "outputs": [],
   "source": [
    "search= driver.find_element(By.XPATH,'/html/body/div[3]/div[2]/div/div/div[3]/div/div/div/form/input') \n",
    "search.send_keys('50 most expensive cars in the world')"
   ]
  },
  {
   "cell_type": "code",
   "execution_count": 97,
   "id": "71b95db0",
   "metadata": {},
   "outputs": [],
   "source": [
    "search_button=driver.find_element(By.XPATH,'/html/body/div[3]/div[2]/div/div/div[3]/div/div/div/form/button[1]') \n",
    "search_button.click()"
   ]
  },
  {
   "cell_type": "code",
   "execution_count": 98,
   "id": "f1562ae6",
   "metadata": {},
   "outputs": [
    {
     "data": {
      "text/plain": [
       "'https://www.motor1.com/features/308149/most-expensive-new-cars-ever/'"
      ]
     },
     "execution_count": 98,
     "metadata": {},
     "output_type": "execute_result"
    }
   ],
   "source": [
    "url=driver.find_element(By.XPATH,'/html/body/div[3]/div[9]/div/div[1]/div/div/div[1]/div/div[1]/h3/a') \n",
    "URL=url.get_attribute('href')\n",
    "URL"
   ]
  },
  {
   "cell_type": "code",
   "execution_count": 99,
   "id": "1820bbee",
   "metadata": {},
   "outputs": [],
   "source": [
    "driver.get(URL)"
   ]
  },
  {
   "cell_type": "code",
   "execution_count": 100,
   "id": "203108f6",
   "metadata": {},
   "outputs": [
    {
     "name": "stdout",
     "output_type": "stream",
     "text": [
      "50\n"
     ]
    },
    {
     "data": {
      "text/plain": [
       "['De Tomaso P72',\n",
       " 'Ferrari LaFerrari',\n",
       " 'Pagani Huayra',\n",
       " 'McLaren Elva',\n",
       " 'Czinger 21C',\n",
       " 'Ferrari Monza',\n",
       " 'Gordon Murray T.33',\n",
       " 'Koenigsegg Gemera',\n",
       " 'Zenvo TSR-S',\n",
       " 'Hennessey Venom F5',\n",
       " 'Bentley Bacalar',\n",
       " 'Hispano Suiza Carmen Boulogne',\n",
       " 'Bentley Mulliner Batur',\n",
       " 'Deus Vayanne',\n",
       " 'SSC Tuatara',\n",
       " 'Lotus Evija',\n",
       " 'Aston Martin Vulcan',\n",
       " 'Delage D12',\n",
       " 'McLaren Speedtail',\n",
       " 'Rimac Nevera',\n",
       " 'Pagani Utopia',\n",
       " 'Pininfarina Battista',\n",
       " 'Ferrari FXX K Evo',\n",
       " 'Gordon Murray T.50',\n",
       " 'Lamborghini Countach',\n",
       " 'Mercedes-AMG Project One',\n",
       " 'Aston Martin Victor',\n",
       " 'Hennessey Venom F5 Roadster',\n",
       " 'Koenigsegg Jesko',\n",
       " 'Aston Martin Valkyrie',\n",
       " 'W Motors Lykan Hypersport',\n",
       " 'McLaren Solus',\n",
       " 'Pagani Huayra Roadster BC',\n",
       " 'Bugatti Chiron Pur Sport',\n",
       " 'Lamborghini Sian',\n",
       " 'Koenigsegg CC850',\n",
       " 'Bugatti Chiron Super Sport 300+',\n",
       " 'Lamborghini Veneno',\n",
       " 'Bugatti Bolide',\n",
       " 'Bugatti Mistral',\n",
       " 'Pagani Huayra Imola',\n",
       " 'Bugatti Divo',\n",
       " 'SP Automotive Chaos',\n",
       " 'Pagani Codalunga',\n",
       " 'Mercedes-Maybach Exelero',\n",
       " 'Bugatti Centodieci',\n",
       " 'Bugatti Chiron Profilée',\n",
       " 'Rolls-Royce Sweptail',\n",
       " 'Bugatti La Voiture Noire',\n",
       " 'Rolls-Royce Boat Tail*']"
      ]
     },
     "execution_count": 100,
     "metadata": {},
     "output_type": "execute_result"
    }
   ],
   "source": [
    "name=[]\n",
    "\n",
    "\n",
    "title_tags=driver.find_elements(By.XPATH,\"//h3[@class='subheader']\") \n",
    "for j,i in zip(range(50),title_tags):\n",
    "    name.append(i.text)\n",
    "print(len(name))\n",
    "name"
   ]
  },
  {
   "cell_type": "code",
   "execution_count": 101,
   "id": "f458ab64",
   "metadata": {},
   "outputs": [
    {
     "name": "stdout",
     "output_type": "stream",
     "text": [
      "50\n"
     ]
    },
    {
     "data": {
      "text/plain": [
       "['$1.3 Million',\n",
       " '$1.4 Million',\n",
       " '$1.4 Million',\n",
       " '',\n",
       " '$1.7 Million',\n",
       " '$1.7 Million',\n",
       " '$1.7 Million',\n",
       " '$1.7 Million',\n",
       " '$1.7 Million',\n",
       " '$1.7 Million',\n",
       " '$1.8 Million',\n",
       " '$1.9 Million',\n",
       " '$1.9 Million',\n",
       " '$2.0 Million',\n",
       " '$2.0 Million',\n",
       " '$2.0 Million*',\n",
       " '$2.1 Million',\n",
       " '$2.3 Million',\n",
       " '$2.3 Million',\n",
       " '$2.3 Million',\n",
       " '$2.4 Million',\n",
       " '$2.5 Million',\n",
       " '$2.5 Million',\n",
       " '$2.6 Million',\n",
       " '$2.6 Million',\n",
       " '$2.6 Million',\n",
       " '$2.7 Million',\n",
       " '$3.0 Million',\n",
       " '$3.0 Million',\n",
       " '$3.0 Million',\n",
       " '$3.2 Million',\n",
       " '$3.4 Million',\n",
       " '$3.5 Million',\n",
       " '$3.5 Million',\n",
       " '$3.6 Million',\n",
       " '$3.6 million',\n",
       " '$3.7 Million',\n",
       " '$3.9 Million',\n",
       " '$4.5 Million',\n",
       " '$4.7 Million',\n",
       " '$5.0 Million',\n",
       " '$5.4 Million',\n",
       " '$5.8 Million',\n",
       " '$6.4 Million',\n",
       " '$7.4 Million',\n",
       " '$8.0 Million',\n",
       " '$9.0 Million',\n",
       " '$10.8 Million',\n",
       " '$12.8 Million',\n",
       " '$13.4 Million']"
      ]
     },
     "execution_count": 101,
     "metadata": {},
     "output_type": "execute_result"
    }
   ],
   "source": [
    "price=[]\n",
    "\n",
    "\n",
    "price_tag=driver.find_elements(By.XPATH,'//*[@class=\"postBody description e-content\"]/p/strong') \n",
    "for j,i in zip(range(50),price_tag):\n",
    "    price.append(i.text.replace('Price: ',\"\")) #to remove the price word\n",
    "print(len(price))\n",
    "price"
   ]
  },
  {
   "cell_type": "code",
   "execution_count": 54,
   "id": "184956a2",
   "metadata": {},
   "outputs": [
    {
     "data": {
      "text/html": [
       "<div>\n",
       "<style scoped>\n",
       "    .dataframe tbody tr th:only-of-type {\n",
       "        vertical-align: middle;\n",
       "    }\n",
       "\n",
       "    .dataframe tbody tr th {\n",
       "        vertical-align: top;\n",
       "    }\n",
       "\n",
       "    .dataframe thead th {\n",
       "        text-align: right;\n",
       "    }\n",
       "</style>\n",
       "<table border=\"1\" class=\"dataframe\">\n",
       "  <thead>\n",
       "    <tr style=\"text-align: right;\">\n",
       "      <th></th>\n",
       "      <th>Car Name</th>\n",
       "      <th>Price</th>\n",
       "    </tr>\n",
       "  </thead>\n",
       "  <tbody>\n",
       "    <tr>\n",
       "      <th>0</th>\n",
       "      <td>De Tomaso P72</td>\n",
       "      <td>$1.3 Million</td>\n",
       "    </tr>\n",
       "    <tr>\n",
       "      <th>1</th>\n",
       "      <td>Ferrari LaFerrari</td>\n",
       "      <td>$1.4 Million</td>\n",
       "    </tr>\n",
       "    <tr>\n",
       "      <th>2</th>\n",
       "      <td>Pagani Huayra</td>\n",
       "      <td>$1.4 Million</td>\n",
       "    </tr>\n",
       "    <tr>\n",
       "      <th>3</th>\n",
       "      <td>McLaren Elva</td>\n",
       "      <td></td>\n",
       "    </tr>\n",
       "    <tr>\n",
       "      <th>4</th>\n",
       "      <td>Czinger 21C</td>\n",
       "      <td>$1.7 Million</td>\n",
       "    </tr>\n",
       "    <tr>\n",
       "      <th>5</th>\n",
       "      <td>Ferrari Monza</td>\n",
       "      <td>$1.7 Million</td>\n",
       "    </tr>\n",
       "    <tr>\n",
       "      <th>6</th>\n",
       "      <td>Gordon Murray T.33</td>\n",
       "      <td>$1.7 Million</td>\n",
       "    </tr>\n",
       "    <tr>\n",
       "      <th>7</th>\n",
       "      <td>Koenigsegg Gemera</td>\n",
       "      <td>$1.7 Million</td>\n",
       "    </tr>\n",
       "    <tr>\n",
       "      <th>8</th>\n",
       "      <td>Zenvo TSR-S</td>\n",
       "      <td>$1.7 Million</td>\n",
       "    </tr>\n",
       "    <tr>\n",
       "      <th>9</th>\n",
       "      <td>Hennessey Venom F5</td>\n",
       "      <td>$1.7 Million</td>\n",
       "    </tr>\n",
       "    <tr>\n",
       "      <th>10</th>\n",
       "      <td>Bentley Bacalar</td>\n",
       "      <td>$1.8 Million</td>\n",
       "    </tr>\n",
       "    <tr>\n",
       "      <th>11</th>\n",
       "      <td>Hispano Suiza Carmen Boulogne</td>\n",
       "      <td>$1.9 Million</td>\n",
       "    </tr>\n",
       "    <tr>\n",
       "      <th>12</th>\n",
       "      <td>Bentley Mulliner Batur</td>\n",
       "      <td>$1.9 Million</td>\n",
       "    </tr>\n",
       "    <tr>\n",
       "      <th>13</th>\n",
       "      <td>Deus Vayanne</td>\n",
       "      <td>$2.0 Million</td>\n",
       "    </tr>\n",
       "    <tr>\n",
       "      <th>14</th>\n",
       "      <td>SSC Tuatara</td>\n",
       "      <td>$2.0 Million</td>\n",
       "    </tr>\n",
       "    <tr>\n",
       "      <th>15</th>\n",
       "      <td>Lotus Evija</td>\n",
       "      <td>$2.0 Million*</td>\n",
       "    </tr>\n",
       "    <tr>\n",
       "      <th>16</th>\n",
       "      <td>Aston Martin Vulcan</td>\n",
       "      <td>$2.1 Million</td>\n",
       "    </tr>\n",
       "    <tr>\n",
       "      <th>17</th>\n",
       "      <td>Delage D12</td>\n",
       "      <td>$2.3 Million</td>\n",
       "    </tr>\n",
       "    <tr>\n",
       "      <th>18</th>\n",
       "      <td>McLaren Speedtail</td>\n",
       "      <td>$2.3 Million</td>\n",
       "    </tr>\n",
       "    <tr>\n",
       "      <th>19</th>\n",
       "      <td>Rimac Nevera</td>\n",
       "      <td>$2.3 Million</td>\n",
       "    </tr>\n",
       "    <tr>\n",
       "      <th>20</th>\n",
       "      <td>Pagani Utopia</td>\n",
       "      <td>$2.4 Million</td>\n",
       "    </tr>\n",
       "    <tr>\n",
       "      <th>21</th>\n",
       "      <td>Pininfarina Battista</td>\n",
       "      <td>$2.5 Million</td>\n",
       "    </tr>\n",
       "    <tr>\n",
       "      <th>22</th>\n",
       "      <td>Ferrari FXX K Evo</td>\n",
       "      <td>$2.5 Million</td>\n",
       "    </tr>\n",
       "    <tr>\n",
       "      <th>23</th>\n",
       "      <td>Gordon Murray T.50</td>\n",
       "      <td>$2.6 Million</td>\n",
       "    </tr>\n",
       "    <tr>\n",
       "      <th>24</th>\n",
       "      <td>Lamborghini Countach</td>\n",
       "      <td>$2.6 Million</td>\n",
       "    </tr>\n",
       "    <tr>\n",
       "      <th>25</th>\n",
       "      <td>Mercedes-AMG Project One</td>\n",
       "      <td>$2.6 Million</td>\n",
       "    </tr>\n",
       "    <tr>\n",
       "      <th>26</th>\n",
       "      <td>Aston Martin Victor</td>\n",
       "      <td>$2.7 Million</td>\n",
       "    </tr>\n",
       "    <tr>\n",
       "      <th>27</th>\n",
       "      <td>Hennessey Venom F5 Roadster</td>\n",
       "      <td>$3.0 Million</td>\n",
       "    </tr>\n",
       "    <tr>\n",
       "      <th>28</th>\n",
       "      <td>Koenigsegg Jesko</td>\n",
       "      <td>$3.0 Million</td>\n",
       "    </tr>\n",
       "    <tr>\n",
       "      <th>29</th>\n",
       "      <td>Aston Martin Valkyrie</td>\n",
       "      <td>$3.0 Million</td>\n",
       "    </tr>\n",
       "    <tr>\n",
       "      <th>30</th>\n",
       "      <td>W Motors Lykan Hypersport</td>\n",
       "      <td>$3.2 Million</td>\n",
       "    </tr>\n",
       "    <tr>\n",
       "      <th>31</th>\n",
       "      <td>McLaren Solus</td>\n",
       "      <td>$3.4 Million</td>\n",
       "    </tr>\n",
       "    <tr>\n",
       "      <th>32</th>\n",
       "      <td>Pagani Huayra Roadster BC</td>\n",
       "      <td>$3.5 Million</td>\n",
       "    </tr>\n",
       "    <tr>\n",
       "      <th>33</th>\n",
       "      <td>Bugatti Chiron Pur Sport</td>\n",
       "      <td>$3.5 Million</td>\n",
       "    </tr>\n",
       "    <tr>\n",
       "      <th>34</th>\n",
       "      <td>Lamborghini Sian</td>\n",
       "      <td>$3.6 Million</td>\n",
       "    </tr>\n",
       "    <tr>\n",
       "      <th>35</th>\n",
       "      <td>Koenigsegg CC850</td>\n",
       "      <td>$3.6 million</td>\n",
       "    </tr>\n",
       "    <tr>\n",
       "      <th>36</th>\n",
       "      <td>Bugatti Chiron Super Sport 300+</td>\n",
       "      <td>$3.7 Million</td>\n",
       "    </tr>\n",
       "    <tr>\n",
       "      <th>37</th>\n",
       "      <td>Lamborghini Veneno</td>\n",
       "      <td>$3.9 Million</td>\n",
       "    </tr>\n",
       "    <tr>\n",
       "      <th>38</th>\n",
       "      <td>Bugatti Bolide</td>\n",
       "      <td>$4.5 Million</td>\n",
       "    </tr>\n",
       "    <tr>\n",
       "      <th>39</th>\n",
       "      <td>Bugatti Mistral</td>\n",
       "      <td>$4.7 Million</td>\n",
       "    </tr>\n",
       "    <tr>\n",
       "      <th>40</th>\n",
       "      <td>Pagani Huayra Imola</td>\n",
       "      <td>$5.0 Million</td>\n",
       "    </tr>\n",
       "    <tr>\n",
       "      <th>41</th>\n",
       "      <td>Bugatti Divo</td>\n",
       "      <td>$5.4 Million</td>\n",
       "    </tr>\n",
       "    <tr>\n",
       "      <th>42</th>\n",
       "      <td>SP Automotive Chaos</td>\n",
       "      <td>$5.8 Million</td>\n",
       "    </tr>\n",
       "    <tr>\n",
       "      <th>43</th>\n",
       "      <td>Pagani Codalunga</td>\n",
       "      <td>$6.4 Million</td>\n",
       "    </tr>\n",
       "    <tr>\n",
       "      <th>44</th>\n",
       "      <td>Mercedes-Maybach Exelero</td>\n",
       "      <td>$7.4 Million</td>\n",
       "    </tr>\n",
       "    <tr>\n",
       "      <th>45</th>\n",
       "      <td>Bugatti Centodieci</td>\n",
       "      <td>$8.0 Million</td>\n",
       "    </tr>\n",
       "    <tr>\n",
       "      <th>46</th>\n",
       "      <td>Bugatti Chiron Profilée</td>\n",
       "      <td>$9.0 Million</td>\n",
       "    </tr>\n",
       "    <tr>\n",
       "      <th>47</th>\n",
       "      <td>Rolls-Royce Sweptail</td>\n",
       "      <td>$10.8 Million</td>\n",
       "    </tr>\n",
       "    <tr>\n",
       "      <th>48</th>\n",
       "      <td>Bugatti La Voiture Noire</td>\n",
       "      <td>$12.8 Million</td>\n",
       "    </tr>\n",
       "    <tr>\n",
       "      <th>49</th>\n",
       "      <td>Rolls-Royce Boat Tail*</td>\n",
       "      <td>$13.4 Million</td>\n",
       "    </tr>\n",
       "  </tbody>\n",
       "</table>\n",
       "</div>"
      ],
      "text/plain": [
       "                           Car Name          Price\n",
       "0                     De Tomaso P72   $1.3 Million\n",
       "1                 Ferrari LaFerrari   $1.4 Million\n",
       "2                     Pagani Huayra   $1.4 Million\n",
       "3                      McLaren Elva               \n",
       "4                       Czinger 21C   $1.7 Million\n",
       "5                     Ferrari Monza   $1.7 Million\n",
       "6                Gordon Murray T.33   $1.7 Million\n",
       "7                 Koenigsegg Gemera   $1.7 Million\n",
       "8                       Zenvo TSR-S   $1.7 Million\n",
       "9                Hennessey Venom F5   $1.7 Million\n",
       "10                  Bentley Bacalar   $1.8 Million\n",
       "11    Hispano Suiza Carmen Boulogne   $1.9 Million\n",
       "12           Bentley Mulliner Batur   $1.9 Million\n",
       "13                     Deus Vayanne   $2.0 Million\n",
       "14                      SSC Tuatara   $2.0 Million\n",
       "15                      Lotus Evija  $2.0 Million*\n",
       "16              Aston Martin Vulcan   $2.1 Million\n",
       "17                       Delage D12   $2.3 Million\n",
       "18                McLaren Speedtail   $2.3 Million\n",
       "19                     Rimac Nevera   $2.3 Million\n",
       "20                    Pagani Utopia   $2.4 Million\n",
       "21             Pininfarina Battista   $2.5 Million\n",
       "22                Ferrari FXX K Evo   $2.5 Million\n",
       "23               Gordon Murray T.50   $2.6 Million\n",
       "24             Lamborghini Countach   $2.6 Million\n",
       "25         Mercedes-AMG Project One   $2.6 Million\n",
       "26              Aston Martin Victor   $2.7 Million\n",
       "27      Hennessey Venom F5 Roadster   $3.0 Million\n",
       "28                 Koenigsegg Jesko   $3.0 Million\n",
       "29            Aston Martin Valkyrie   $3.0 Million\n",
       "30        W Motors Lykan Hypersport   $3.2 Million\n",
       "31                    McLaren Solus   $3.4 Million\n",
       "32        Pagani Huayra Roadster BC   $3.5 Million\n",
       "33         Bugatti Chiron Pur Sport   $3.5 Million\n",
       "34                 Lamborghini Sian   $3.6 Million\n",
       "35                 Koenigsegg CC850   $3.6 million\n",
       "36  Bugatti Chiron Super Sport 300+   $3.7 Million\n",
       "37               Lamborghini Veneno   $3.9 Million\n",
       "38                   Bugatti Bolide   $4.5 Million\n",
       "39                  Bugatti Mistral   $4.7 Million\n",
       "40              Pagani Huayra Imola   $5.0 Million\n",
       "41                     Bugatti Divo   $5.4 Million\n",
       "42              SP Automotive Chaos   $5.8 Million\n",
       "43                 Pagani Codalunga   $6.4 Million\n",
       "44         Mercedes-Maybach Exelero   $7.4 Million\n",
       "45               Bugatti Centodieci   $8.0 Million\n",
       "46          Bugatti Chiron Profilée   $9.0 Million\n",
       "47             Rolls-Royce Sweptail  $10.8 Million\n",
       "48         Bugatti La Voiture Noire  $12.8 Million\n",
       "49           Rolls-Royce Boat Tail*  $13.4 Million"
      ]
     },
     "execution_count": 54,
     "metadata": {},
     "output_type": "execute_result"
    }
   ],
   "source": [
    "df= pd.DataFrame({\n",
    "                'Car Name':name,\n",
    "                'Price':price})\n",
    "df"
   ]
  },
  {
   "cell_type": "markdown",
   "id": "c1d8af8a",
   "metadata": {},
   "source": [
    "# <font color='cyan'>-------------------------------------------THE END------------------------------------------------</font>"
   ]
  }
 ],
 "metadata": {
  "kernelspec": {
   "display_name": "Python 3 (ipykernel)",
   "language": "python",
   "name": "python3"
  },
  "language_info": {
   "codemirror_mode": {
    "name": "ipython",
    "version": 3
   },
   "file_extension": ".py",
   "mimetype": "text/x-python",
   "name": "python",
   "nbconvert_exporter": "python",
   "pygments_lexer": "ipython3",
   "version": "3.10.4"
  }
 },
 "nbformat": 4,
 "nbformat_minor": 5
}
