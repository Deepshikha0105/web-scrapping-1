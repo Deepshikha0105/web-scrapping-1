{
 "cells": [
  {
   "cell_type": "markdown",
   "id": "1fe7b1c7",
   "metadata": {},
   "source": [
    "<div style=\"background-color: cyan; \">\n",
    "    <p style=\"font-size: 24px; font-weight: bold; color: blue;text-align: center;\">ASSINGEMENT 1</p>\n",
    "</div>"
   ]
  },
  {
   "cell_type": "code",
   "execution_count": 1,
   "id": "1b3ce66b",
   "metadata": {},
   "outputs": [],
   "source": [
    "#importing libraries\n",
    "from bs4 import BeautifulSoup as bfs\n",
    "import requests\n",
    "import pandas as pd\n"
   ]
  },
  {
   "cell_type": "markdown",
   "id": "19d90116",
   "metadata": {},
   "source": [
    "## <font color='deeppink'>1) Write a python program to display all the header tags from wikipedia.org and make data frame</font>"
   ]
  },
  {
   "cell_type": "code",
   "execution_count": 11,
   "id": "e8b9cf32",
   "metadata": {},
   "outputs": [
    {
     "data": {
      "text/plain": [
       "<Response [200]>"
      ]
     },
     "execution_count": 11,
     "metadata": {},
     "output_type": "execute_result"
    }
   ],
   "source": [
    "#getting the page\n",
    "page= requests.get('https://en.wikipedia.org/wiki/Main_Page')\n",
    "page"
   ]
  },
  {
   "cell_type": "code",
   "execution_count": 12,
   "id": "55a8696b",
   "metadata": {},
   "outputs": [],
   "source": [
    "soup= bfs(page.content)\n"
   ]
  },
  {
   "cell_type": "code",
   "execution_count": 13,
   "id": "6c790c0f",
   "metadata": {},
   "outputs": [
    {
     "data": {
      "text/plain": [
       "['Main Page',\n",
       " 'Welcome to Wikipedia',\n",
       " \"From today's featured article\",\n",
       " 'Did you know\\xa0...',\n",
       " 'In the news',\n",
       " 'On this day',\n",
       " \"From today's featured list\",\n",
       " \"Today's featured picture\",\n",
       " 'Other areas of Wikipedia',\n",
       " \"Wikipedia's sister projects\",\n",
       " 'Wikipedia languages']"
      ]
     },
     "execution_count": 13,
     "metadata": {},
     "output_type": "execute_result"
    }
   ],
   "source": [
    "#finding header tags\n",
    "titles=[]\n",
    "for i in soup.find_all([\"h1\",'h2','h3','h4','h5','h6']):\n",
    "    titles.append(i.text)\n",
    "titles"
   ]
  },
  {
   "cell_type": "code",
   "execution_count": 6,
   "id": "dba4894e",
   "metadata": {
    "scrolled": true
   },
   "outputs": [
    {
     "name": "stdout",
     "output_type": "stream",
     "text": [
      "                           Header\n",
      "0                       Main Page\n",
      "1            Welcome to Wikipedia\n",
      "2   From today's featured article\n",
      "3                Did you know ...\n",
      "4                     In the news\n",
      "5                     On this day\n",
      "6      From today's featured list\n",
      "7        Today's featured picture\n",
      "8        Other areas of Wikipedia\n",
      "9     Wikipedia's sister projects\n",
      "10            Wikipedia languages\n"
     ]
    }
   ],
   "source": [
    "df = pd.DataFrame({'Header': titles})\n",
    "print(df)"
   ]
  },
  {
   "cell_type": "markdown",
   "id": "780b7565",
   "metadata": {},
   "source": [
    "<div style=\"background-color: cyan;text-align: center;color: cyan \"> -- </div>"
   ]
  },
  {
   "cell_type": "markdown",
   "id": "f747654f",
   "metadata": {},
   "source": [
    "## <font color='deeppink'>2) Write a python program to display IMDB’s Top rated 50 movies’ data (i.e. name, rating, year of release) </font>"
   ]
  },
  {
   "cell_type": "code",
   "execution_count": 166,
   "id": "272870b0",
   "metadata": {},
   "outputs": [
    {
     "data": {
      "text/plain": [
       "<Response [200]>"
      ]
     },
     "execution_count": 166,
     "metadata": {},
     "output_type": "execute_result"
    }
   ],
   "source": [
    "#getting web page\n",
    "page= requests.get('https://www.imdb.com/chart/top/')\n",
    "page"
   ]
  },
  {
   "cell_type": "code",
   "execution_count": 167,
   "id": "30e10798",
   "metadata": {},
   "outputs": [],
   "source": [
    "soup= bfs(page.content)\n"
   ]
  },
  {
   "cell_type": "code",
   "execution_count": 168,
   "id": "d85ba9ad",
   "metadata": {},
   "outputs": [],
   "source": [
    "#Extracting names\n",
    "name=[]\n",
    "for j,i in zip(range(50),(soup.find_all(\"td\", class_=\"titleColumn\"))):\n",
    "    name.append((i.text.splitlines(0)[2]).strip())\n",
    "#name\n"
   ]
  },
  {
   "cell_type": "code",
   "execution_count": 169,
   "id": "07dc0b78",
   "metadata": {},
   "outputs": [
    {
     "data": {
      "text/plain": [
       "50"
      ]
     },
     "execution_count": 169,
     "metadata": {},
     "output_type": "execute_result"
    }
   ],
   "source": [
    "#Extracting year\n",
    "\n",
    "year=[]\n",
    "for j,i in zip(range(50),(soup.find_all(\"span\", class_=\"secondaryInfo\"))):\n",
    "    year.append(i.text)\n",
    "len(year)\n",
    "#year"
   ]
  },
  {
   "cell_type": "code",
   "execution_count": 170,
   "id": "cc453b50",
   "metadata": {},
   "outputs": [
    {
     "data": {
      "text/plain": [
       "50"
      ]
     },
     "execution_count": 170,
     "metadata": {},
     "output_type": "execute_result"
    }
   ],
   "source": [
    "#Extracting rating\n",
    "\n",
    "rating=[]\n",
    "for j,i in zip(range(50),(soup.find_all(\"td\", class_=\"ratingColumn imdbRating\"))):\n",
    "    rating.append(i.text.splitlines(0)[1])\n",
    "len(rating)\n",
    "#rating"
   ]
  },
  {
   "cell_type": "code",
   "execution_count": 171,
   "id": "dc26b4aa",
   "metadata": {
    "scrolled": false
   },
   "outputs": [
    {
     "data": {
      "text/html": [
       "<div>\n",
       "<style scoped>\n",
       "    .dataframe tbody tr th:only-of-type {\n",
       "        vertical-align: middle;\n",
       "    }\n",
       "\n",
       "    .dataframe tbody tr th {\n",
       "        vertical-align: top;\n",
       "    }\n",
       "\n",
       "    .dataframe thead th {\n",
       "        text-align: right;\n",
       "    }\n",
       "</style>\n",
       "<table border=\"1\" class=\"dataframe\">\n",
       "  <thead>\n",
       "    <tr style=\"text-align: right;\">\n",
       "      <th></th>\n",
       "      <th>Name</th>\n",
       "      <th>Rating</th>\n",
       "      <th>Year of release</th>\n",
       "    </tr>\n",
       "  </thead>\n",
       "  <tbody>\n",
       "    <tr>\n",
       "      <th>0</th>\n",
       "      <td>The Shawshank Redemption</td>\n",
       "      <td>9.2</td>\n",
       "      <td>(1994)</td>\n",
       "    </tr>\n",
       "    <tr>\n",
       "      <th>1</th>\n",
       "      <td>The Godfather</td>\n",
       "      <td>9.2</td>\n",
       "      <td>(1972)</td>\n",
       "    </tr>\n",
       "    <tr>\n",
       "      <th>2</th>\n",
       "      <td>The Dark Knight</td>\n",
       "      <td>9.0</td>\n",
       "      <td>(2008)</td>\n",
       "    </tr>\n",
       "    <tr>\n",
       "      <th>3</th>\n",
       "      <td>The Godfather Part II</td>\n",
       "      <td>9.0</td>\n",
       "      <td>(1974)</td>\n",
       "    </tr>\n",
       "    <tr>\n",
       "      <th>4</th>\n",
       "      <td>12 Angry Men</td>\n",
       "      <td>9.0</td>\n",
       "      <td>(1957)</td>\n",
       "    </tr>\n",
       "    <tr>\n",
       "      <th>5</th>\n",
       "      <td>Schindler's List</td>\n",
       "      <td>8.9</td>\n",
       "      <td>(1993)</td>\n",
       "    </tr>\n",
       "    <tr>\n",
       "      <th>6</th>\n",
       "      <td>The Lord of the Rings: The Return of the King</td>\n",
       "      <td>8.9</td>\n",
       "      <td>(2003)</td>\n",
       "    </tr>\n",
       "    <tr>\n",
       "      <th>7</th>\n",
       "      <td>Pulp Fiction</td>\n",
       "      <td>8.8</td>\n",
       "      <td>(1994)</td>\n",
       "    </tr>\n",
       "    <tr>\n",
       "      <th>8</th>\n",
       "      <td>The Lord of the Rings: The Fellowship of the Ring</td>\n",
       "      <td>8.8</td>\n",
       "      <td>(2001)</td>\n",
       "    </tr>\n",
       "    <tr>\n",
       "      <th>9</th>\n",
       "      <td>Il buono, il brutto, il cattivo</td>\n",
       "      <td>8.8</td>\n",
       "      <td>(1966)</td>\n",
       "    </tr>\n",
       "    <tr>\n",
       "      <th>10</th>\n",
       "      <td>Forrest Gump</td>\n",
       "      <td>8.8</td>\n",
       "      <td>(1994)</td>\n",
       "    </tr>\n",
       "    <tr>\n",
       "      <th>11</th>\n",
       "      <td>Fight Club</td>\n",
       "      <td>8.7</td>\n",
       "      <td>(1999)</td>\n",
       "    </tr>\n",
       "    <tr>\n",
       "      <th>12</th>\n",
       "      <td>The Lord of the Rings: The Two Towers</td>\n",
       "      <td>8.7</td>\n",
       "      <td>(2002)</td>\n",
       "    </tr>\n",
       "    <tr>\n",
       "      <th>13</th>\n",
       "      <td>Inception</td>\n",
       "      <td>8.7</td>\n",
       "      <td>(2010)</td>\n",
       "    </tr>\n",
       "    <tr>\n",
       "      <th>14</th>\n",
       "      <td>The Empire Strikes Back</td>\n",
       "      <td>8.7</td>\n",
       "      <td>(1980)</td>\n",
       "    </tr>\n",
       "    <tr>\n",
       "      <th>15</th>\n",
       "      <td>The Matrix</td>\n",
       "      <td>8.7</td>\n",
       "      <td>(1999)</td>\n",
       "    </tr>\n",
       "    <tr>\n",
       "      <th>16</th>\n",
       "      <td>GoodFellas</td>\n",
       "      <td>8.7</td>\n",
       "      <td>(1990)</td>\n",
       "    </tr>\n",
       "    <tr>\n",
       "      <th>17</th>\n",
       "      <td>One Flew Over the Cuckoo's Nest</td>\n",
       "      <td>8.6</td>\n",
       "      <td>(1975)</td>\n",
       "    </tr>\n",
       "    <tr>\n",
       "      <th>18</th>\n",
       "      <td>Se7en</td>\n",
       "      <td>8.6</td>\n",
       "      <td>(1995)</td>\n",
       "    </tr>\n",
       "    <tr>\n",
       "      <th>19</th>\n",
       "      <td>Shichinin no samurai</td>\n",
       "      <td>8.6</td>\n",
       "      <td>(1954)</td>\n",
       "    </tr>\n",
       "    <tr>\n",
       "      <th>20</th>\n",
       "      <td>It's a Wonderful Life</td>\n",
       "      <td>8.6</td>\n",
       "      <td>(1946)</td>\n",
       "    </tr>\n",
       "    <tr>\n",
       "      <th>21</th>\n",
       "      <td>The Silence of the Lambs</td>\n",
       "      <td>8.6</td>\n",
       "      <td>(1991)</td>\n",
       "    </tr>\n",
       "    <tr>\n",
       "      <th>22</th>\n",
       "      <td>Saving Private Ryan</td>\n",
       "      <td>8.6</td>\n",
       "      <td>(1998)</td>\n",
       "    </tr>\n",
       "    <tr>\n",
       "      <th>23</th>\n",
       "      <td>Cidade de Deus</td>\n",
       "      <td>8.6</td>\n",
       "      <td>(2002)</td>\n",
       "    </tr>\n",
       "    <tr>\n",
       "      <th>24</th>\n",
       "      <td>Interstellar</td>\n",
       "      <td>8.6</td>\n",
       "      <td>(2014)</td>\n",
       "    </tr>\n",
       "    <tr>\n",
       "      <th>25</th>\n",
       "      <td>La vita è bella</td>\n",
       "      <td>8.6</td>\n",
       "      <td>(1997)</td>\n",
       "    </tr>\n",
       "    <tr>\n",
       "      <th>26</th>\n",
       "      <td>The Green Mile</td>\n",
       "      <td>8.6</td>\n",
       "      <td>(1999)</td>\n",
       "    </tr>\n",
       "    <tr>\n",
       "      <th>27</th>\n",
       "      <td>Star Wars</td>\n",
       "      <td>8.5</td>\n",
       "      <td>(1977)</td>\n",
       "    </tr>\n",
       "    <tr>\n",
       "      <th>28</th>\n",
       "      <td>Terminator 2: Judgment Day</td>\n",
       "      <td>8.5</td>\n",
       "      <td>(1991)</td>\n",
       "    </tr>\n",
       "    <tr>\n",
       "      <th>29</th>\n",
       "      <td>Back to the Future</td>\n",
       "      <td>8.5</td>\n",
       "      <td>(1985)</td>\n",
       "    </tr>\n",
       "    <tr>\n",
       "      <th>30</th>\n",
       "      <td>Sen to Chihiro no kamikakushi</td>\n",
       "      <td>8.5</td>\n",
       "      <td>(2001)</td>\n",
       "    </tr>\n",
       "    <tr>\n",
       "      <th>31</th>\n",
       "      <td>The Pianist</td>\n",
       "      <td>8.5</td>\n",
       "      <td>(2002)</td>\n",
       "    </tr>\n",
       "    <tr>\n",
       "      <th>32</th>\n",
       "      <td>Psycho</td>\n",
       "      <td>8.5</td>\n",
       "      <td>(1960)</td>\n",
       "    </tr>\n",
       "    <tr>\n",
       "      <th>33</th>\n",
       "      <td>Gisaengchung</td>\n",
       "      <td>8.5</td>\n",
       "      <td>(2019)</td>\n",
       "    </tr>\n",
       "    <tr>\n",
       "      <th>34</th>\n",
       "      <td>Léon</td>\n",
       "      <td>8.5</td>\n",
       "      <td>(1994)</td>\n",
       "    </tr>\n",
       "    <tr>\n",
       "      <th>35</th>\n",
       "      <td>The Lion King</td>\n",
       "      <td>8.5</td>\n",
       "      <td>(1994)</td>\n",
       "    </tr>\n",
       "    <tr>\n",
       "      <th>36</th>\n",
       "      <td>Gladiator</td>\n",
       "      <td>8.5</td>\n",
       "      <td>(2000)</td>\n",
       "    </tr>\n",
       "    <tr>\n",
       "      <th>37</th>\n",
       "      <td>American History X</td>\n",
       "      <td>8.5</td>\n",
       "      <td>(1998)</td>\n",
       "    </tr>\n",
       "    <tr>\n",
       "      <th>38</th>\n",
       "      <td>The Departed</td>\n",
       "      <td>8.5</td>\n",
       "      <td>(2006)</td>\n",
       "    </tr>\n",
       "    <tr>\n",
       "      <th>39</th>\n",
       "      <td>The Usual Suspects</td>\n",
       "      <td>8.5</td>\n",
       "      <td>(1995)</td>\n",
       "    </tr>\n",
       "    <tr>\n",
       "      <th>40</th>\n",
       "      <td>The Prestige</td>\n",
       "      <td>8.5</td>\n",
       "      <td>(2006)</td>\n",
       "    </tr>\n",
       "    <tr>\n",
       "      <th>41</th>\n",
       "      <td>Whiplash</td>\n",
       "      <td>8.5</td>\n",
       "      <td>(2014)</td>\n",
       "    </tr>\n",
       "    <tr>\n",
       "      <th>42</th>\n",
       "      <td>Casablanca</td>\n",
       "      <td>8.5</td>\n",
       "      <td>(1942)</td>\n",
       "    </tr>\n",
       "    <tr>\n",
       "      <th>43</th>\n",
       "      <td>Hotaru no haka</td>\n",
       "      <td>8.5</td>\n",
       "      <td>(1988)</td>\n",
       "    </tr>\n",
       "    <tr>\n",
       "      <th>44</th>\n",
       "      <td>Seppuku</td>\n",
       "      <td>8.5</td>\n",
       "      <td>(1962)</td>\n",
       "    </tr>\n",
       "    <tr>\n",
       "      <th>45</th>\n",
       "      <td>The Intouchables</td>\n",
       "      <td>8.5</td>\n",
       "      <td>(2011)</td>\n",
       "    </tr>\n",
       "    <tr>\n",
       "      <th>46</th>\n",
       "      <td>Modern Times</td>\n",
       "      <td>8.4</td>\n",
       "      <td>(1936)</td>\n",
       "    </tr>\n",
       "    <tr>\n",
       "      <th>47</th>\n",
       "      <td>Once Upon a Time in the West</td>\n",
       "      <td>8.4</td>\n",
       "      <td>(1968)</td>\n",
       "    </tr>\n",
       "    <tr>\n",
       "      <th>48</th>\n",
       "      <td>Nuovo Cinema Paradiso</td>\n",
       "      <td>8.4</td>\n",
       "      <td>(1988)</td>\n",
       "    </tr>\n",
       "    <tr>\n",
       "      <th>49</th>\n",
       "      <td>Rear Window</td>\n",
       "      <td>8.4</td>\n",
       "      <td>(1954)</td>\n",
       "    </tr>\n",
       "  </tbody>\n",
       "</table>\n",
       "</div>"
      ],
      "text/plain": [
       "                                                 Name Rating Year of release\n",
       "0                            The Shawshank Redemption    9.2          (1994)\n",
       "1                                       The Godfather    9.2          (1972)\n",
       "2                                     The Dark Knight    9.0          (2008)\n",
       "3                               The Godfather Part II    9.0          (1974)\n",
       "4                                        12 Angry Men    9.0          (1957)\n",
       "5                                    Schindler's List    8.9          (1993)\n",
       "6       The Lord of the Rings: The Return of the King    8.9          (2003)\n",
       "7                                        Pulp Fiction    8.8          (1994)\n",
       "8   The Lord of the Rings: The Fellowship of the Ring    8.8          (2001)\n",
       "9                     Il buono, il brutto, il cattivo    8.8          (1966)\n",
       "10                                       Forrest Gump    8.8          (1994)\n",
       "11                                         Fight Club    8.7          (1999)\n",
       "12              The Lord of the Rings: The Two Towers    8.7          (2002)\n",
       "13                                          Inception    8.7          (2010)\n",
       "14                            The Empire Strikes Back    8.7          (1980)\n",
       "15                                         The Matrix    8.7          (1999)\n",
       "16                                         GoodFellas    8.7          (1990)\n",
       "17                    One Flew Over the Cuckoo's Nest    8.6          (1975)\n",
       "18                                              Se7en    8.6          (1995)\n",
       "19                               Shichinin no samurai    8.6          (1954)\n",
       "20                              It's a Wonderful Life    8.6          (1946)\n",
       "21                           The Silence of the Lambs    8.6          (1991)\n",
       "22                                Saving Private Ryan    8.6          (1998)\n",
       "23                                     Cidade de Deus    8.6          (2002)\n",
       "24                                       Interstellar    8.6          (2014)\n",
       "25                                    La vita è bella    8.6          (1997)\n",
       "26                                     The Green Mile    8.6          (1999)\n",
       "27                                          Star Wars    8.5          (1977)\n",
       "28                         Terminator 2: Judgment Day    8.5          (1991)\n",
       "29                                 Back to the Future    8.5          (1985)\n",
       "30                      Sen to Chihiro no kamikakushi    8.5          (2001)\n",
       "31                                        The Pianist    8.5          (2002)\n",
       "32                                             Psycho    8.5          (1960)\n",
       "33                                       Gisaengchung    8.5          (2019)\n",
       "34                                               Léon    8.5          (1994)\n",
       "35                                      The Lion King    8.5          (1994)\n",
       "36                                          Gladiator    8.5          (2000)\n",
       "37                                 American History X    8.5          (1998)\n",
       "38                                       The Departed    8.5          (2006)\n",
       "39                                 The Usual Suspects    8.5          (1995)\n",
       "40                                       The Prestige    8.5          (2006)\n",
       "41                                           Whiplash    8.5          (2014)\n",
       "42                                         Casablanca    8.5          (1942)\n",
       "43                                     Hotaru no haka    8.5          (1988)\n",
       "44                                            Seppuku    8.5          (1962)\n",
       "45                                   The Intouchables    8.5          (2011)\n",
       "46                                       Modern Times    8.4          (1936)\n",
       "47                       Once Upon a Time in the West    8.4          (1968)\n",
       "48                              Nuovo Cinema Paradiso    8.4          (1988)\n",
       "49                                        Rear Window    8.4          (1954)"
      ]
     },
     "execution_count": 171,
     "metadata": {},
     "output_type": "execute_result"
    }
   ],
   "source": [
    "#Making dataframe\n",
    "movie_df=pd.DataFrame({'Name': name,\n",
    "                      'Rating': rating,\n",
    "                      'Year of release': year})\n",
    "movie_df"
   ]
  },
  {
   "cell_type": "markdown",
   "id": "dba2d27c",
   "metadata": {},
   "source": [
    "<div style=\"background-color: cyan;text-align: center;color: cyan \"> -- </div>"
   ]
  },
  {
   "cell_type": "markdown",
   "id": "ebdbb966",
   "metadata": {},
   "source": [
    "## <font color='deeppink'>3) Write a python program to display IMDB’s Top rated 50 Indian movies’ data (i.e. name, rating, year of release) and make data frame."
   ]
  },
  {
   "cell_type": "code",
   "execution_count": 53,
   "id": "e7397905",
   "metadata": {},
   "outputs": [
    {
     "data": {
      "text/plain": [
       "<Response [200]>"
      ]
     },
     "execution_count": 53,
     "metadata": {},
     "output_type": "execute_result"
    }
   ],
   "source": [
    "#getting page\n",
    "page= requests.get('https://www.imdb.com/india/top-rated-indian-movies/')\n",
    "page"
   ]
  },
  {
   "cell_type": "code",
   "execution_count": 54,
   "id": "bf3aef29",
   "metadata": {},
   "outputs": [],
   "source": [
    "soup= bfs(page.content)\n"
   ]
  },
  {
   "cell_type": "code",
   "execution_count": 55,
   "id": "166427ae",
   "metadata": {},
   "outputs": [],
   "source": [
    "#Extracting names\n",
    "\n",
    "name=[]\n",
    "for j,i in zip(range(50),(soup.find_all(\"td\", class_=\"titleColumn\"))):\n",
    "    name.append((i.text.splitlines(0)[2]).strip())\n",
    "#len(year)\n",
    "#name"
   ]
  },
  {
   "cell_type": "code",
   "execution_count": 56,
   "id": "bcbc357e",
   "metadata": {},
   "outputs": [
    {
     "data": {
      "text/plain": [
       "50"
      ]
     },
     "execution_count": 56,
     "metadata": {},
     "output_type": "execute_result"
    }
   ],
   "source": [
    "#Extracting rating\n",
    "\n",
    "rating=[]\n",
    "for j,i in zip(range(50),(soup.find_all(\"td\", class_=\"ratingColumn imdbRating\"))):\n",
    "    rating.append(i.text.splitlines(0)[1])\n",
    "len(rating)"
   ]
  },
  {
   "cell_type": "code",
   "execution_count": 57,
   "id": "282f5719",
   "metadata": {},
   "outputs": [
    {
     "data": {
      "text/plain": [
       "50"
      ]
     },
     "execution_count": 57,
     "metadata": {},
     "output_type": "execute_result"
    }
   ],
   "source": [
    "#Extracting year\n",
    "\n",
    "year=[]\n",
    "for j,i in zip(range(50),(soup.find_all(\"span\", class_=\"secondaryInfo\"))):\n",
    "    year.append(i.text)\n",
    "len(year)"
   ]
  },
  {
   "cell_type": "code",
   "execution_count": 58,
   "id": "5928fa46",
   "metadata": {
    "scrolled": false
   },
   "outputs": [
    {
     "data": {
      "text/html": [
       "<div>\n",
       "<style scoped>\n",
       "    .dataframe tbody tr th:only-of-type {\n",
       "        vertical-align: middle;\n",
       "    }\n",
       "\n",
       "    .dataframe tbody tr th {\n",
       "        vertical-align: top;\n",
       "    }\n",
       "\n",
       "    .dataframe thead th {\n",
       "        text-align: right;\n",
       "    }\n",
       "</style>\n",
       "<table border=\"1\" class=\"dataframe\">\n",
       "  <thead>\n",
       "    <tr style=\"text-align: right;\">\n",
       "      <th></th>\n",
       "      <th>Name</th>\n",
       "      <th>Rating</th>\n",
       "      <th>Year of release</th>\n",
       "    </tr>\n",
       "  </thead>\n",
       "  <tbody>\n",
       "    <tr>\n",
       "      <th>0</th>\n",
       "      <td>Ramayana: The Legend of Prince Rama</td>\n",
       "      <td>8.6</td>\n",
       "      <td>(1993)</td>\n",
       "    </tr>\n",
       "    <tr>\n",
       "      <th>1</th>\n",
       "      <td>Rocketry: The Nambi Effect</td>\n",
       "      <td>8.4</td>\n",
       "      <td>(2022)</td>\n",
       "    </tr>\n",
       "    <tr>\n",
       "      <th>2</th>\n",
       "      <td>Nayakan</td>\n",
       "      <td>8.4</td>\n",
       "      <td>(1987)</td>\n",
       "    </tr>\n",
       "    <tr>\n",
       "      <th>3</th>\n",
       "      <td>Gol Maal</td>\n",
       "      <td>8.4</td>\n",
       "      <td>(1979)</td>\n",
       "    </tr>\n",
       "    <tr>\n",
       "      <th>4</th>\n",
       "      <td>Anbe Sivam</td>\n",
       "      <td>8.4</td>\n",
       "      <td>(2003)</td>\n",
       "    </tr>\n",
       "    <tr>\n",
       "      <th>5</th>\n",
       "      <td>777 Charlie</td>\n",
       "      <td>8.4</td>\n",
       "      <td>(2022)</td>\n",
       "    </tr>\n",
       "    <tr>\n",
       "      <th>6</th>\n",
       "      <td>Pariyerum Perumal</td>\n",
       "      <td>8.4</td>\n",
       "      <td>(2018)</td>\n",
       "    </tr>\n",
       "    <tr>\n",
       "      <th>7</th>\n",
       "      <td>Jai Bhim</td>\n",
       "      <td>8.4</td>\n",
       "      <td>(2021)</td>\n",
       "    </tr>\n",
       "    <tr>\n",
       "      <th>8</th>\n",
       "      <td>3 Idiots</td>\n",
       "      <td>8.4</td>\n",
       "      <td>(2009)</td>\n",
       "    </tr>\n",
       "    <tr>\n",
       "      <th>9</th>\n",
       "      <td>Manichitrathazhu</td>\n",
       "      <td>8.4</td>\n",
       "      <td>(1993)</td>\n",
       "    </tr>\n",
       "    <tr>\n",
       "      <th>10</th>\n",
       "      <td>Apur Sansar</td>\n",
       "      <td>8.4</td>\n",
       "      <td>(1959)</td>\n",
       "    </tr>\n",
       "    <tr>\n",
       "      <th>11</th>\n",
       "      <td>#Home</td>\n",
       "      <td>8.3</td>\n",
       "      <td>(2021)</td>\n",
       "    </tr>\n",
       "    <tr>\n",
       "      <th>12</th>\n",
       "      <td>Soorarai Pottru</td>\n",
       "      <td>8.3</td>\n",
       "      <td>(2020)</td>\n",
       "    </tr>\n",
       "    <tr>\n",
       "      <th>13</th>\n",
       "      <td>Black Friday</td>\n",
       "      <td>8.3</td>\n",
       "      <td>(2004)</td>\n",
       "    </tr>\n",
       "    <tr>\n",
       "      <th>14</th>\n",
       "      <td>Kumbalangi Nights</td>\n",
       "      <td>8.3</td>\n",
       "      <td>(2019)</td>\n",
       "    </tr>\n",
       "    <tr>\n",
       "      <th>15</th>\n",
       "      <td>C/o Kancharapalem</td>\n",
       "      <td>8.3</td>\n",
       "      <td>(2018)</td>\n",
       "    </tr>\n",
       "    <tr>\n",
       "      <th>16</th>\n",
       "      <td>Taare Zameen Par</td>\n",
       "      <td>8.3</td>\n",
       "      <td>(2007)</td>\n",
       "    </tr>\n",
       "    <tr>\n",
       "      <th>17</th>\n",
       "      <td>Kireedam</td>\n",
       "      <td>8.3</td>\n",
       "      <td>(1989)</td>\n",
       "    </tr>\n",
       "    <tr>\n",
       "      <th>18</th>\n",
       "      <td>Dangal</td>\n",
       "      <td>8.3</td>\n",
       "      <td>(2016)</td>\n",
       "    </tr>\n",
       "    <tr>\n",
       "      <th>19</th>\n",
       "      <td>Kaithi</td>\n",
       "      <td>8.3</td>\n",
       "      <td>(2019)</td>\n",
       "    </tr>\n",
       "    <tr>\n",
       "      <th>20</th>\n",
       "      <td>Jersey</td>\n",
       "      <td>8.3</td>\n",
       "      <td>(2019)</td>\n",
       "    </tr>\n",
       "    <tr>\n",
       "      <th>21</th>\n",
       "      <td>96</td>\n",
       "      <td>8.3</td>\n",
       "      <td>(2018)</td>\n",
       "    </tr>\n",
       "    <tr>\n",
       "      <th>22</th>\n",
       "      <td>Maya Bazaar</td>\n",
       "      <td>8.2</td>\n",
       "      <td>(1957)</td>\n",
       "    </tr>\n",
       "    <tr>\n",
       "      <th>23</th>\n",
       "      <td>Natsamrat</td>\n",
       "      <td>8.2</td>\n",
       "      <td>(2016)</td>\n",
       "    </tr>\n",
       "    <tr>\n",
       "      <th>24</th>\n",
       "      <td>Drishyam 2</td>\n",
       "      <td>8.2</td>\n",
       "      <td>(2021)</td>\n",
       "    </tr>\n",
       "    <tr>\n",
       "      <th>25</th>\n",
       "      <td>Asuran</td>\n",
       "      <td>8.2</td>\n",
       "      <td>(2019)</td>\n",
       "    </tr>\n",
       "    <tr>\n",
       "      <th>26</th>\n",
       "      <td>Sita Ramam</td>\n",
       "      <td>8.2</td>\n",
       "      <td>(2022)</td>\n",
       "    </tr>\n",
       "    <tr>\n",
       "      <th>27</th>\n",
       "      <td>Thevar Magan</td>\n",
       "      <td>8.2</td>\n",
       "      <td>(1992)</td>\n",
       "    </tr>\n",
       "    <tr>\n",
       "      <th>28</th>\n",
       "      <td>Visaaranai</td>\n",
       "      <td>8.2</td>\n",
       "      <td>(2015)</td>\n",
       "    </tr>\n",
       "    <tr>\n",
       "      <th>29</th>\n",
       "      <td>Sarpatta Parambarai</td>\n",
       "      <td>8.2</td>\n",
       "      <td>(2021)</td>\n",
       "    </tr>\n",
       "    <tr>\n",
       "      <th>30</th>\n",
       "      <td>Thalapathi</td>\n",
       "      <td>8.2</td>\n",
       "      <td>(1991)</td>\n",
       "    </tr>\n",
       "    <tr>\n",
       "      <th>31</th>\n",
       "      <td>Nadodikkattu</td>\n",
       "      <td>8.2</td>\n",
       "      <td>(1987)</td>\n",
       "    </tr>\n",
       "    <tr>\n",
       "      <th>32</th>\n",
       "      <td>Pather Panchali</td>\n",
       "      <td>8.2</td>\n",
       "      <td>(1955)</td>\n",
       "    </tr>\n",
       "    <tr>\n",
       "      <th>33</th>\n",
       "      <td>Drishyam</td>\n",
       "      <td>8.2</td>\n",
       "      <td>(2013)</td>\n",
       "    </tr>\n",
       "    <tr>\n",
       "      <th>34</th>\n",
       "      <td>Jaane Bhi Do Yaaro</td>\n",
       "      <td>8.2</td>\n",
       "      <td>(1983)</td>\n",
       "    </tr>\n",
       "    <tr>\n",
       "      <th>35</th>\n",
       "      <td>Thani Oruvan</td>\n",
       "      <td>8.2</td>\n",
       "      <td>(2015)</td>\n",
       "    </tr>\n",
       "    <tr>\n",
       "      <th>36</th>\n",
       "      <td>Vada Chennai</td>\n",
       "      <td>8.2</td>\n",
       "      <td>(2018)</td>\n",
       "    </tr>\n",
       "    <tr>\n",
       "      <th>37</th>\n",
       "      <td>Aparajito</td>\n",
       "      <td>8.2</td>\n",
       "      <td>(1956)</td>\n",
       "    </tr>\n",
       "    <tr>\n",
       "      <th>38</th>\n",
       "      <td>Sardar Udham</td>\n",
       "      <td>8.2</td>\n",
       "      <td>(2021)</td>\n",
       "    </tr>\n",
       "    <tr>\n",
       "      <th>39</th>\n",
       "      <td>Khosla Ka Ghosla!</td>\n",
       "      <td>8.2</td>\n",
       "      <td>(2006)</td>\n",
       "    </tr>\n",
       "    <tr>\n",
       "      <th>40</th>\n",
       "      <td>Anniyan</td>\n",
       "      <td>8.1</td>\n",
       "      <td>(2005)</td>\n",
       "    </tr>\n",
       "    <tr>\n",
       "      <th>41</th>\n",
       "      <td>Ratsasan</td>\n",
       "      <td>8.1</td>\n",
       "      <td>(2018)</td>\n",
       "    </tr>\n",
       "    <tr>\n",
       "      <th>42</th>\n",
       "      <td>Chupke Chupke</td>\n",
       "      <td>8.1</td>\n",
       "      <td>(1975)</td>\n",
       "    </tr>\n",
       "    <tr>\n",
       "      <th>43</th>\n",
       "      <td>Gangs of Wasseypur</td>\n",
       "      <td>8.1</td>\n",
       "      <td>(2012)</td>\n",
       "    </tr>\n",
       "    <tr>\n",
       "      <th>44</th>\n",
       "      <td>Peranbu</td>\n",
       "      <td>8.1</td>\n",
       "      <td>(2018)</td>\n",
       "    </tr>\n",
       "    <tr>\n",
       "      <th>45</th>\n",
       "      <td>Drishyam</td>\n",
       "      <td>8.1</td>\n",
       "      <td>(2015)</td>\n",
       "    </tr>\n",
       "    <tr>\n",
       "      <th>46</th>\n",
       "      <td>Bangalore Days</td>\n",
       "      <td>8.1</td>\n",
       "      <td>(2014)</td>\n",
       "    </tr>\n",
       "    <tr>\n",
       "      <th>47</th>\n",
       "      <td>Mahanati</td>\n",
       "      <td>8.1</td>\n",
       "      <td>(2018)</td>\n",
       "    </tr>\n",
       "    <tr>\n",
       "      <th>48</th>\n",
       "      <td>Premam</td>\n",
       "      <td>8.1</td>\n",
       "      <td>(2015)</td>\n",
       "    </tr>\n",
       "    <tr>\n",
       "      <th>49</th>\n",
       "      <td>Satya</td>\n",
       "      <td>8.1</td>\n",
       "      <td>(1998)</td>\n",
       "    </tr>\n",
       "  </tbody>\n",
       "</table>\n",
       "</div>"
      ],
      "text/plain": [
       "                                   Name Rating Year of release\n",
       "0   Ramayana: The Legend of Prince Rama    8.6          (1993)\n",
       "1            Rocketry: The Nambi Effect    8.4          (2022)\n",
       "2                               Nayakan    8.4          (1987)\n",
       "3                              Gol Maal    8.4          (1979)\n",
       "4                            Anbe Sivam    8.4          (2003)\n",
       "5                           777 Charlie    8.4          (2022)\n",
       "6                     Pariyerum Perumal    8.4          (2018)\n",
       "7                              Jai Bhim    8.4          (2021)\n",
       "8                              3 Idiots    8.4          (2009)\n",
       "9                      Manichitrathazhu    8.4          (1993)\n",
       "10                          Apur Sansar    8.4          (1959)\n",
       "11                                #Home    8.3          (2021)\n",
       "12                      Soorarai Pottru    8.3          (2020)\n",
       "13                         Black Friday    8.3          (2004)\n",
       "14                    Kumbalangi Nights    8.3          (2019)\n",
       "15                    C/o Kancharapalem    8.3          (2018)\n",
       "16                     Taare Zameen Par    8.3          (2007)\n",
       "17                             Kireedam    8.3          (1989)\n",
       "18                               Dangal    8.3          (2016)\n",
       "19                               Kaithi    8.3          (2019)\n",
       "20                               Jersey    8.3          (2019)\n",
       "21                                   96    8.3          (2018)\n",
       "22                          Maya Bazaar    8.2          (1957)\n",
       "23                            Natsamrat    8.2          (2016)\n",
       "24                           Drishyam 2    8.2          (2021)\n",
       "25                               Asuran    8.2          (2019)\n",
       "26                           Sita Ramam    8.2          (2022)\n",
       "27                         Thevar Magan    8.2          (1992)\n",
       "28                           Visaaranai    8.2          (2015)\n",
       "29                  Sarpatta Parambarai    8.2          (2021)\n",
       "30                           Thalapathi    8.2          (1991)\n",
       "31                         Nadodikkattu    8.2          (1987)\n",
       "32                      Pather Panchali    8.2          (1955)\n",
       "33                             Drishyam    8.2          (2013)\n",
       "34                   Jaane Bhi Do Yaaro    8.2          (1983)\n",
       "35                         Thani Oruvan    8.2          (2015)\n",
       "36                         Vada Chennai    8.2          (2018)\n",
       "37                            Aparajito    8.2          (1956)\n",
       "38                         Sardar Udham    8.2          (2021)\n",
       "39                    Khosla Ka Ghosla!    8.2          (2006)\n",
       "40                              Anniyan    8.1          (2005)\n",
       "41                             Ratsasan    8.1          (2018)\n",
       "42                        Chupke Chupke    8.1          (1975)\n",
       "43                   Gangs of Wasseypur    8.1          (2012)\n",
       "44                              Peranbu    8.1          (2018)\n",
       "45                             Drishyam    8.1          (2015)\n",
       "46                       Bangalore Days    8.1          (2014)\n",
       "47                             Mahanati    8.1          (2018)\n",
       "48                               Premam    8.1          (2015)\n",
       "49                                Satya    8.1          (1998)"
      ]
     },
     "execution_count": 58,
     "metadata": {},
     "output_type": "execute_result"
    }
   ],
   "source": [
    "#making dataframe\n",
    "Indian_movie_df=pd.DataFrame({'Name': name,\n",
    "                      'Rating': rating,\n",
    "                      'Year of release': year})\n",
    "Indian_movie_df"
   ]
  },
  {
   "cell_type": "markdown",
   "id": "a600f572",
   "metadata": {},
   "source": [
    "<div style=\"background-color: cyan;text-align: center;color: cyan \"> -- </div>"
   ]
  },
  {
   "cell_type": "markdown",
   "id": "fa66e045",
   "metadata": {},
   "source": [
    "## <font color='deeppink'>4) Write s python program to display list of respected former presidents of India(i.e. Name , Term of office) from https://presidentofindia.nic.in/former-presidents.htm and make data frame. </font>"
   ]
  },
  {
   "cell_type": "code",
   "execution_count": 178,
   "id": "ac9b66b6",
   "metadata": {},
   "outputs": [
    {
     "data": {
      "text/plain": [
       "<Response [200]>"
      ]
     },
     "execution_count": 178,
     "metadata": {},
     "output_type": "execute_result"
    }
   ],
   "source": [
    "#getting page\n",
    "page= requests.get('https://presidentofindia.nic.in/former-presidents.htm')\n",
    "page"
   ]
  },
  {
   "cell_type": "code",
   "execution_count": 179,
   "id": "4af4c113",
   "metadata": {},
   "outputs": [],
   "source": [
    "soup= bfs(page.content)\n"
   ]
  },
  {
   "cell_type": "code",
   "execution_count": 180,
   "id": "f51b5c0f",
   "metadata": {},
   "outputs": [
    {
     "data": {
      "text/plain": [
       "14"
      ]
     },
     "execution_count": 180,
     "metadata": {},
     "output_type": "execute_result"
    }
   ],
   "source": [
    "#Extracting names\n",
    "\n",
    "name=[]\n",
    "for i in soup.find_all(\"h3\"):\n",
    "    name.append(i.text.split(\"(\")[0])\n",
    "len(name)"
   ]
  },
  {
   "cell_type": "code",
   "execution_count": 181,
   "id": "995bd141",
   "metadata": {},
   "outputs": [
    {
     "data": {
      "text/plain": [
       "14"
      ]
     },
     "execution_count": 181,
     "metadata": {},
     "output_type": "execute_result"
    }
   ],
   "source": [
    "#Extracting term of office\n",
    "\n",
    "office=[]\n",
    "for i in soup.find_all('div',class_='presidentListing'):\n",
    "    a=i.text.splitlines(0)[2]\n",
    "    a=a.split(\":\")\n",
    "    office.append(a[1])\n",
    "len(office)\n",
    "\n"
   ]
  },
  {
   "cell_type": "code",
   "execution_count": 182,
   "id": "235144ce",
   "metadata": {
    "scrolled": true
   },
   "outputs": [
    {
     "data": {
      "text/html": [
       "<div>\n",
       "<style scoped>\n",
       "    .dataframe tbody tr th:only-of-type {\n",
       "        vertical-align: middle;\n",
       "    }\n",
       "\n",
       "    .dataframe tbody tr th {\n",
       "        vertical-align: top;\n",
       "    }\n",
       "\n",
       "    .dataframe thead th {\n",
       "        text-align: right;\n",
       "    }\n",
       "</style>\n",
       "<table border=\"1\" class=\"dataframe\">\n",
       "  <thead>\n",
       "    <tr style=\"text-align: right;\">\n",
       "      <th></th>\n",
       "      <th>Name</th>\n",
       "      <th>Term of office</th>\n",
       "    </tr>\n",
       "  </thead>\n",
       "  <tbody>\n",
       "    <tr>\n",
       "      <th>0</th>\n",
       "      <td>Shri Ram Nath Kovind</td>\n",
       "      <td>25 July, 2017 to 25 July, 2022</td>\n",
       "    </tr>\n",
       "    <tr>\n",
       "      <th>1</th>\n",
       "      <td>Shri Pranab Mukherjee</td>\n",
       "      <td>25 July, 2012 to 25 July, 2017</td>\n",
       "    </tr>\n",
       "    <tr>\n",
       "      <th>2</th>\n",
       "      <td>Smt Pratibha Devisingh Patil</td>\n",
       "      <td>25 July, 2007 to 25 July, 2012</td>\n",
       "    </tr>\n",
       "    <tr>\n",
       "      <th>3</th>\n",
       "      <td>DR. A.P.J. Abdul Kalam</td>\n",
       "      <td>25 July, 2002 to 25 July, 2007</td>\n",
       "    </tr>\n",
       "    <tr>\n",
       "      <th>4</th>\n",
       "      <td>Shri K. R. Narayanan</td>\n",
       "      <td>25 July, 1997 to 25 July, 2002</td>\n",
       "    </tr>\n",
       "    <tr>\n",
       "      <th>5</th>\n",
       "      <td>Dr Shankar Dayal Sharma</td>\n",
       "      <td>25 July, 1992 to 25 July, 1997</td>\n",
       "    </tr>\n",
       "    <tr>\n",
       "      <th>6</th>\n",
       "      <td>Shri R Venkataraman</td>\n",
       "      <td>25 July, 1987 to 25 July, 1992</td>\n",
       "    </tr>\n",
       "    <tr>\n",
       "      <th>7</th>\n",
       "      <td>Giani Zail Singh</td>\n",
       "      <td>25 July, 1982 to 25 July, 1987</td>\n",
       "    </tr>\n",
       "    <tr>\n",
       "      <th>8</th>\n",
       "      <td>Shri Neelam Sanjiva Reddy</td>\n",
       "      <td>25 July, 1977 to 25 July, 1982</td>\n",
       "    </tr>\n",
       "    <tr>\n",
       "      <th>9</th>\n",
       "      <td>Dr. Fakhruddin Ali Ahmed</td>\n",
       "      <td>24 August, 1974 to 11 February, 1977</td>\n",
       "    </tr>\n",
       "    <tr>\n",
       "      <th>10</th>\n",
       "      <td>Shri Varahagiri Venkata Giri</td>\n",
       "      <td>3 May, 1969 to 20 July, 1969 and 24 August, 1...</td>\n",
       "    </tr>\n",
       "    <tr>\n",
       "      <th>11</th>\n",
       "      <td>Dr. Zakir Husain</td>\n",
       "      <td>13 May, 1967 to 3 May, 1969</td>\n",
       "    </tr>\n",
       "    <tr>\n",
       "      <th>12</th>\n",
       "      <td>Dr. Sarvepalli Radhakrishnan</td>\n",
       "      <td>13 May, 1962 to 13 May, 1967</td>\n",
       "    </tr>\n",
       "    <tr>\n",
       "      <th>13</th>\n",
       "      <td>Dr. Rajendra Prasad</td>\n",
       "      <td>26 January, 1950 to 13 May, 1962</td>\n",
       "    </tr>\n",
       "  </tbody>\n",
       "</table>\n",
       "</div>"
      ],
      "text/plain": [
       "                             Name  \\\n",
       "0           Shri Ram Nath Kovind    \n",
       "1          Shri Pranab Mukherjee    \n",
       "2   Smt Pratibha Devisingh Patil    \n",
       "3         DR. A.P.J. Abdul Kalam    \n",
       "4           Shri K. R. Narayanan    \n",
       "5        Dr Shankar Dayal Sharma    \n",
       "6            Shri R Venkataraman    \n",
       "7               Giani Zail Singh    \n",
       "8      Shri Neelam Sanjiva Reddy    \n",
       "9       Dr. Fakhruddin Ali Ahmed    \n",
       "10  Shri Varahagiri Venkata Giri    \n",
       "11              Dr. Zakir Husain    \n",
       "12  Dr. Sarvepalli Radhakrishnan    \n",
       "13           Dr. Rajendra Prasad    \n",
       "\n",
       "                                       Term of office  \n",
       "0                     25 July, 2017 to 25 July, 2022   \n",
       "1                     25 July, 2012 to 25 July, 2017   \n",
       "2                     25 July, 2007 to 25 July, 2012   \n",
       "3                     25 July, 2002 to 25 July, 2007   \n",
       "4                     25 July, 1997 to 25 July, 2002   \n",
       "5                     25 July, 1992 to 25 July, 1997   \n",
       "6                     25 July, 1987 to 25 July, 1992   \n",
       "7                     25 July, 1982 to 25 July, 1987   \n",
       "8                     25 July, 1977 to 25 July, 1982   \n",
       "9                24 August, 1974 to 11 February, 1977  \n",
       "10   3 May, 1969 to 20 July, 1969 and 24 August, 1...  \n",
       "11                        13 May, 1967 to 3 May, 1969  \n",
       "12                       13 May, 1962 to 13 May, 1967  \n",
       "13                   26 January, 1950 to 13 May, 1962  "
      ]
     },
     "execution_count": 182,
     "metadata": {},
     "output_type": "execute_result"
    }
   ],
   "source": [
    "df=pd.DataFrame({'Name': name,\n",
    "                      'Term of office': office})\n",
    "df"
   ]
  },
  {
   "cell_type": "markdown",
   "id": "8ed680c8",
   "metadata": {},
   "source": [
    "<div style=\"background-color: cyan;text-align: center;color: cyan \"> -- </div>"
   ]
  },
  {
   "cell_type": "markdown",
   "id": "18c8f943",
   "metadata": {},
   "source": [
    "## <font color='deeppink'>5) Write a python program to scrape cricket rankings from icc-cricket.com. You have to scrape and make data frame </font>\n",
    "#### <font color='red'>a) Top 10 ODI teams in men’s cricket along with the records for matches, points and rating.</font>\n",
    "\n",
    "#### <font color='red'>b) Top 10 ODI Batsmen along with the records of their team and rating.</font>\n",
    "\n",
    "#### <font color='red'>c) Top 10 ODI bowlers along with the records of their team and rating.</font>"
   ]
  },
  {
   "cell_type": "code",
   "execution_count": 44,
   "id": "83547078",
   "metadata": {},
   "outputs": [
    {
     "data": {
      "text/plain": [
       "<Response [200]>"
      ]
     },
     "execution_count": 44,
     "metadata": {},
     "output_type": "execute_result"
    }
   ],
   "source": [
    "page= requests.get('https://www.icc-cricket.com/rankings/mens/team-rankings/odi')\n",
    "page"
   ]
  },
  {
   "cell_type": "code",
   "execution_count": 45,
   "id": "cac37d9d",
   "metadata": {},
   "outputs": [],
   "source": [
    "soup= bfs(page.content)\n"
   ]
  },
  {
   "cell_type": "markdown",
   "id": "e6aa2177",
   "metadata": {},
   "source": [
    "<div style=\"text-align: center;color: cyan \"> ------------------------------------------------------------------------------------------------------------------------------------------------------------------------------------------------------------------ </div>"
   ]
  },
  {
   "cell_type": "markdown",
   "id": "241f7a7c",
   "metadata": {},
   "source": [
    "### <font color='orangered'>5a)Top 10 ODI teams in men’s cricket along with the records for matches, points and rating. </font>"
   ]
  },
  {
   "cell_type": "code",
   "execution_count": 185,
   "id": "5dbbeb1a",
   "metadata": {},
   "outputs": [],
   "source": [
    "#Extracting names\n",
    "\n",
    "name=[]\n",
    "for j, i in zip(range(10),(soup.find_all(\"span\", class_=\"u-hide-phablet\"))):\n",
    "    name.append(i.text)\n",
    "#(name)"
   ]
  },
  {
   "cell_type": "code",
   "execution_count": 186,
   "id": "9551ec22",
   "metadata": {},
   "outputs": [
    {
     "data": {
      "text/plain": [
       "['44', '32', '29', '36', '25', '27', '36', '34', '20', '41']"
      ]
     },
     "execution_count": 186,
     "metadata": {},
     "output_type": "execute_result"
    }
   ],
   "source": [
    "#Extracting match\n",
    "\n",
    "match=[]\n",
    "match.append((soup.find('td',class_=\"rankings-block__banner--matches\")).text)\n",
    "for j, i in zip(range(9),(soup.find_all(\"tr\", class_=\"table-body\"))):\n",
    "    match.append(i.text.splitlines(0)[7])\n",
    "(match)"
   ]
  },
  {
   "cell_type": "code",
   "execution_count": 52,
   "id": "c7e34513",
   "metadata": {},
   "outputs": [],
   "source": [
    "#Extracting points\n",
    "\n",
    "points=[]\n",
    "points.append((soup.find('td',class_=\"rankings-block__banner--points\")).text)\n",
    "for j, i in zip(range(9),(soup.find_all(\"tr\", class_=\"table-body\"))):\n",
    "    points.append(i.text.splitlines(0)[8])\n",
    "#(points)"
   ]
  },
  {
   "cell_type": "code",
   "execution_count": 188,
   "id": "cad1e805",
   "metadata": {},
   "outputs": [
    {
     "data": {
      "text/plain": [
       "['114', '112', '111', '111', '106', '103', '95', '88', '71', '71']"
      ]
     },
     "execution_count": 188,
     "metadata": {},
     "output_type": "execute_result"
    }
   ],
   "source": [
    "#Extracting rating\n",
    "\n",
    "rating=[]\n",
    "rating.append((soup.find('td',class_=\"rankings-block__banner--rating u-text-right\")).text.splitlines(0)[1].strip())\n",
    "for j, i in zip(range(9),(soup.find_all(\"tr\", class_=\"table-body\"))):\n",
    "    rating.append(i.text.splitlines(0)[9])\n",
    "(rating)"
   ]
  },
  {
   "cell_type": "code",
   "execution_count": 189,
   "id": "783a713e",
   "metadata": {
    "scrolled": true
   },
   "outputs": [
    {
     "data": {
      "text/html": [
       "<div>\n",
       "<style scoped>\n",
       "    .dataframe tbody tr th:only-of-type {\n",
       "        vertical-align: middle;\n",
       "    }\n",
       "\n",
       "    .dataframe tbody tr th {\n",
       "        vertical-align: top;\n",
       "    }\n",
       "\n",
       "    .dataframe thead th {\n",
       "        text-align: right;\n",
       "    }\n",
       "</style>\n",
       "<table border=\"1\" class=\"dataframe\">\n",
       "  <thead>\n",
       "    <tr style=\"text-align: right;\">\n",
       "      <th></th>\n",
       "      <th>Name</th>\n",
       "      <th>Match</th>\n",
       "      <th>Points</th>\n",
       "      <th>Rating</th>\n",
       "    </tr>\n",
       "  </thead>\n",
       "  <tbody>\n",
       "    <tr>\n",
       "      <th>0</th>\n",
       "      <td>India</td>\n",
       "      <td>44</td>\n",
       "      <td>5,010</td>\n",
       "      <td>114</td>\n",
       "    </tr>\n",
       "    <tr>\n",
       "      <th>1</th>\n",
       "      <td>Australia</td>\n",
       "      <td>32</td>\n",
       "      <td>3,572</td>\n",
       "      <td>112</td>\n",
       "    </tr>\n",
       "    <tr>\n",
       "      <th>2</th>\n",
       "      <td>New Zealand</td>\n",
       "      <td>29</td>\n",
       "      <td>3,229</td>\n",
       "      <td>111</td>\n",
       "    </tr>\n",
       "    <tr>\n",
       "      <th>3</th>\n",
       "      <td>England</td>\n",
       "      <td>36</td>\n",
       "      <td>3,988</td>\n",
       "      <td>111</td>\n",
       "    </tr>\n",
       "    <tr>\n",
       "      <th>4</th>\n",
       "      <td>Pakistan</td>\n",
       "      <td>25</td>\n",
       "      <td>2,649</td>\n",
       "      <td>106</td>\n",
       "    </tr>\n",
       "    <tr>\n",
       "      <th>5</th>\n",
       "      <td>South Africa</td>\n",
       "      <td>27</td>\n",
       "      <td>2,775</td>\n",
       "      <td>103</td>\n",
       "    </tr>\n",
       "    <tr>\n",
       "      <th>6</th>\n",
       "      <td>Bangladesh</td>\n",
       "      <td>36</td>\n",
       "      <td>3,415</td>\n",
       "      <td>95</td>\n",
       "    </tr>\n",
       "    <tr>\n",
       "      <th>7</th>\n",
       "      <td>Sri Lanka</td>\n",
       "      <td>34</td>\n",
       "      <td>2,976</td>\n",
       "      <td>88</td>\n",
       "    </tr>\n",
       "    <tr>\n",
       "      <th>8</th>\n",
       "      <td>Afghanistan</td>\n",
       "      <td>20</td>\n",
       "      <td>1,419</td>\n",
       "      <td>71</td>\n",
       "    </tr>\n",
       "    <tr>\n",
       "      <th>9</th>\n",
       "      <td>West Indies</td>\n",
       "      <td>41</td>\n",
       "      <td>2,902</td>\n",
       "      <td>71</td>\n",
       "    </tr>\n",
       "  </tbody>\n",
       "</table>\n",
       "</div>"
      ],
      "text/plain": [
       "           Name Match Points Rating\n",
       "0         India    44  5,010    114\n",
       "1     Australia    32  3,572    112\n",
       "2   New Zealand    29  3,229    111\n",
       "3       England    36  3,988    111\n",
       "4      Pakistan    25  2,649    106\n",
       "5  South Africa    27  2,775    103\n",
       "6    Bangladesh    36  3,415     95\n",
       "7     Sri Lanka    34  2,976     88\n",
       "8   Afghanistan    20  1,419     71\n",
       "9   West Indies    41  2,902     71"
      ]
     },
     "execution_count": 189,
     "metadata": {},
     "output_type": "execute_result"
    }
   ],
   "source": [
    "match_df=pd.DataFrame({'Name': name,\n",
    "                       'Match':match,\n",
    "                       'Points':points,\n",
    "                      'Rating': rating})\n",
    "match_df"
   ]
  },
  {
   "cell_type": "markdown",
   "id": "e0a910e1",
   "metadata": {},
   "source": [
    "<div style=\"text-align: center;color: cyan \"> ------------------------------------------------------------------------------------------------------------------------------------------------------------------------------------------------------------------ </div>"
   ]
  },
  {
   "cell_type": "markdown",
   "id": "51499101",
   "metadata": {},
   "source": [
    "### <font color='orangered'>5b) Top 10 ODI Batsmen along with the records of their team and rating.</font>\n"
   ]
  },
  {
   "cell_type": "code",
   "execution_count": 33,
   "id": "a70eb424",
   "metadata": {},
   "outputs": [
    {
     "name": "stdout",
     "output_type": "stream",
     "text": [
      "<Response [200]>\n"
     ]
    }
   ],
   "source": [
    "page= requests.get('https://www.icc-cricket.com/rankings/mens/player-rankings/odi')\n",
    "print(page)\n",
    "soup= bfs(page.content)\n"
   ]
  },
  {
   "cell_type": "code",
   "execution_count": 17,
   "id": "025347a1",
   "metadata": {},
   "outputs": [
    {
     "data": {
      "text/plain": [
       "['Babar Azam',\n",
       " 'Rassie van der Dussen',\n",
       " 'David Warner',\n",
       " 'Quinton de Kock',\n",
       " 'Imam-ul-Haq',\n",
       " 'Shubman Gill',\n",
       " 'Virat Kohli',\n",
       " 'Steve Smith',\n",
       " 'Rohit Sharma',\n",
       " 'Kane Williamson']"
      ]
     },
     "execution_count": 17,
     "metadata": {},
     "output_type": "execute_result"
    }
   ],
   "source": [
    "name=[]\n",
    "name.append((soup.find('div',class_=\"rankings-block__banner--name\")).text)\n",
    "for j, i in zip(range(9),(soup.find_all(\"td\", class_=\"table-body__cell name\"))):\n",
    "    name.append(i.text.splitlines(0)[1])\n",
    "(name)"
   ]
  },
  {
   "cell_type": "code",
   "execution_count": 192,
   "id": "7f9b221f",
   "metadata": {},
   "outputs": [
    {
     "data": {
      "text/plain": [
       "['PAK', 'SA', 'AUS', 'SA', 'PAK', 'IND', 'IND', 'AUS', 'IND', 'NZ']"
      ]
     },
     "execution_count": 192,
     "metadata": {},
     "output_type": "execute_result"
    }
   ],
   "source": [
    "team=[]\n",
    "team.append((soup.find('div',class_=\"rankings-block__banner--nationality\")).text.splitlines(0)[2])\n",
    "for j, i in zip(range(9),(soup.find_all(\"span\", class_=\"table-body__logo-text\"))):\n",
    "    team.append(i.text)\n",
    "(team)"
   ]
  },
  {
   "cell_type": "code",
   "execution_count": 19,
   "id": "7312a03b",
   "metadata": {},
   "outputs": [
    {
     "data": {
      "text/plain": [
       "['887', '787', '747', '743', '740', '734', '727', '719', '719', '700']"
      ]
     },
     "execution_count": 19,
     "metadata": {},
     "output_type": "execute_result"
    }
   ],
   "source": [
    "rating=[]\n",
    "rating.append((soup.find('div',class_=\"rankings-block__banner--rating\")).text)\n",
    "for j, i in zip(range(9),(soup.find_all(\"td\", {'class':\"table-body__cell u-text-right rating\"}))):\n",
    "    rating.append(i.text)\n",
    "(rating)"
   ]
  },
  {
   "cell_type": "code",
   "execution_count": 194,
   "id": "95916a48",
   "metadata": {
    "scrolled": true
   },
   "outputs": [
    {
     "data": {
      "text/html": [
       "<div>\n",
       "<style scoped>\n",
       "    .dataframe tbody tr th:only-of-type {\n",
       "        vertical-align: middle;\n",
       "    }\n",
       "\n",
       "    .dataframe tbody tr th {\n",
       "        vertical-align: top;\n",
       "    }\n",
       "\n",
       "    .dataframe thead th {\n",
       "        text-align: right;\n",
       "    }\n",
       "</style>\n",
       "<table border=\"1\" class=\"dataframe\">\n",
       "  <thead>\n",
       "    <tr style=\"text-align: right;\">\n",
       "      <th></th>\n",
       "      <th>Name</th>\n",
       "      <th>Team</th>\n",
       "      <th>Rating</th>\n",
       "    </tr>\n",
       "  </thead>\n",
       "  <tbody>\n",
       "    <tr>\n",
       "      <th>0</th>\n",
       "      <td>Babar Azam</td>\n",
       "      <td>PAK</td>\n",
       "      <td>887</td>\n",
       "    </tr>\n",
       "    <tr>\n",
       "      <th>1</th>\n",
       "      <td>Rassie van der Dussen</td>\n",
       "      <td>SA</td>\n",
       "      <td>787</td>\n",
       "    </tr>\n",
       "    <tr>\n",
       "      <th>2</th>\n",
       "      <td>David Warner</td>\n",
       "      <td>AUS</td>\n",
       "      <td>747</td>\n",
       "    </tr>\n",
       "    <tr>\n",
       "      <th>3</th>\n",
       "      <td>Quinton de Kock</td>\n",
       "      <td>SA</td>\n",
       "      <td>743</td>\n",
       "    </tr>\n",
       "    <tr>\n",
       "      <th>4</th>\n",
       "      <td>Imam-ul-Haq</td>\n",
       "      <td>PAK</td>\n",
       "      <td>740</td>\n",
       "    </tr>\n",
       "    <tr>\n",
       "      <th>5</th>\n",
       "      <td>Shubman Gill</td>\n",
       "      <td>IND</td>\n",
       "      <td>734</td>\n",
       "    </tr>\n",
       "    <tr>\n",
       "      <th>6</th>\n",
       "      <td>Virat Kohli</td>\n",
       "      <td>IND</td>\n",
       "      <td>727</td>\n",
       "    </tr>\n",
       "    <tr>\n",
       "      <th>7</th>\n",
       "      <td>Steve Smith</td>\n",
       "      <td>AUS</td>\n",
       "      <td>719</td>\n",
       "    </tr>\n",
       "    <tr>\n",
       "      <th>8</th>\n",
       "      <td>Rohit Sharma</td>\n",
       "      <td>IND</td>\n",
       "      <td>719</td>\n",
       "    </tr>\n",
       "    <tr>\n",
       "      <th>9</th>\n",
       "      <td>Kane Williamson</td>\n",
       "      <td>NZ</td>\n",
       "      <td>700</td>\n",
       "    </tr>\n",
       "  </tbody>\n",
       "</table>\n",
       "</div>"
      ],
      "text/plain": [
       "                    Name Team Rating\n",
       "0             Babar Azam  PAK    887\n",
       "1  Rassie van der Dussen   SA    787\n",
       "2           David Warner  AUS    747\n",
       "3        Quinton de Kock   SA    743\n",
       "4            Imam-ul-Haq  PAK    740\n",
       "5           Shubman Gill  IND    734\n",
       "6            Virat Kohli  IND    727\n",
       "7            Steve Smith  AUS    719\n",
       "8           Rohit Sharma  IND    719\n",
       "9        Kane Williamson   NZ    700"
      ]
     },
     "execution_count": 194,
     "metadata": {},
     "output_type": "execute_result"
    }
   ],
   "source": [
    "odi_batmen_df=pd.DataFrame({'Name': name,\n",
    "                       'Team':team,\n",
    "                      'Rating': rating})\n",
    "odi_batmen_df"
   ]
  },
  {
   "cell_type": "markdown",
   "id": "05a342eb",
   "metadata": {},
   "source": [
    "<div style=\"text-align: center;color: cyan \"> ------------------------------------------------------------------------------------------------------------------------------------------------------------------------------------------------------------------ </div>"
   ]
  },
  {
   "cell_type": "markdown",
   "id": "1fb9ddf8",
   "metadata": {},
   "source": [
    "### <font color='orangered'>5c)Top 10 ODI bowlers along with the records of their team and rating. </font>"
   ]
  },
  {
   "cell_type": "code",
   "execution_count": 35,
   "id": "3ac342b7",
   "metadata": {},
   "outputs": [
    {
     "name": "stdout",
     "output_type": "stream",
     "text": [
      "<Response [200]>\n"
     ]
    }
   ],
   "source": [
    "page= requests.get('https://www.icc-cricket.com/rankings/mens/player-rankings/odi/bowling')\n",
    "print(page)\n",
    "soup= bfs(page.content)"
   ]
  },
  {
   "cell_type": "code",
   "execution_count": 39,
   "id": "bfeaacce",
   "metadata": {},
   "outputs": [
    {
     "data": {
      "text/plain": [
       "['Mohammed Siraj',\n",
       " 'Josh Hazlewood',\n",
       " 'Trent Boult',\n",
       " 'Mitchell Starc',\n",
       " 'Shakib Al Hasan',\n",
       " 'Rashid Khan',\n",
       " 'Adam Zampa',\n",
       " 'Shaheen Afridi',\n",
       " 'Mujeeb Ur Rahman',\n",
       " 'Mohammad Nabi']"
      ]
     },
     "execution_count": 39,
     "metadata": {},
     "output_type": "execute_result"
    }
   ],
   "source": [
    "name=[]\n",
    "name.append((soup.find('div',class_=\"rankings-block__banner--name-large\")).text)\n",
    "\n",
    "for j, i in zip(range(9),(soup.find_all(\"td\", class_=\"table-body__cell rankings-table__name name\"))):\n",
    "    name.append(i.text.replace('\\n',''))\n",
    "(name)"
   ]
  },
  {
   "cell_type": "code",
   "execution_count": 40,
   "id": "0fd0b80d",
   "metadata": {},
   "outputs": [
    {
     "data": {
      "text/plain": [
       "['IND', 'AUS', 'NZ', 'AUS', 'BAN', 'AFG', 'AUS', 'PAK', 'AFG', 'AFG']"
      ]
     },
     "execution_count": 40,
     "metadata": {},
     "output_type": "execute_result"
    }
   ],
   "source": [
    "team=[]\n",
    "team.append((soup.find('div',class_=\"rankings-block__banner--nationality\")).text.splitlines(0)[2])\n",
    "for j, i in zip(range(9),(soup.find_all(\"span\", class_=\"table-body__logo-text\"))):\n",
    "    team.append(i.text)\n",
    "(team)"
   ]
  },
  {
   "cell_type": "code",
   "execution_count": 42,
   "id": "dd886999",
   "metadata": {},
   "outputs": [
    {
     "data": {
      "text/plain": [
       "['729', '727', '708', '665', '663', '659', '655', '641', '637', '631']"
      ]
     },
     "execution_count": 42,
     "metadata": {},
     "output_type": "execute_result"
    }
   ],
   "source": [
    "rating=[]\n",
    "rating.append((soup.find('div',class_=\"rankings-block__banner--rating\")).text)\n",
    "for j, i in zip(range(9),(soup.find_all(\"td\", class_=\"table-body__cell rating\"))):\n",
    "    rating.append(i.text)\n",
    "(rating)"
   ]
  },
  {
   "cell_type": "code",
   "execution_count": 43,
   "id": "534a2241",
   "metadata": {
    "scrolled": true
   },
   "outputs": [
    {
     "data": {
      "text/html": [
       "<div>\n",
       "<style scoped>\n",
       "    .dataframe tbody tr th:only-of-type {\n",
       "        vertical-align: middle;\n",
       "    }\n",
       "\n",
       "    .dataframe tbody tr th {\n",
       "        vertical-align: top;\n",
       "    }\n",
       "\n",
       "    .dataframe thead th {\n",
       "        text-align: right;\n",
       "    }\n",
       "</style>\n",
       "<table border=\"1\" class=\"dataframe\">\n",
       "  <thead>\n",
       "    <tr style=\"text-align: right;\">\n",
       "      <th></th>\n",
       "      <th>Name</th>\n",
       "      <th>Team</th>\n",
       "      <th>Rating</th>\n",
       "    </tr>\n",
       "  </thead>\n",
       "  <tbody>\n",
       "    <tr>\n",
       "      <th>0</th>\n",
       "      <td>Mohammed Siraj</td>\n",
       "      <td>IND</td>\n",
       "      <td>729</td>\n",
       "    </tr>\n",
       "    <tr>\n",
       "      <th>1</th>\n",
       "      <td>Josh Hazlewood</td>\n",
       "      <td>AUS</td>\n",
       "      <td>727</td>\n",
       "    </tr>\n",
       "    <tr>\n",
       "      <th>2</th>\n",
       "      <td>Trent Boult</td>\n",
       "      <td>NZ</td>\n",
       "      <td>708</td>\n",
       "    </tr>\n",
       "    <tr>\n",
       "      <th>3</th>\n",
       "      <td>Mitchell Starc</td>\n",
       "      <td>AUS</td>\n",
       "      <td>665</td>\n",
       "    </tr>\n",
       "    <tr>\n",
       "      <th>4</th>\n",
       "      <td>Shakib Al Hasan</td>\n",
       "      <td>BAN</td>\n",
       "      <td>663</td>\n",
       "    </tr>\n",
       "    <tr>\n",
       "      <th>5</th>\n",
       "      <td>Rashid Khan</td>\n",
       "      <td>AFG</td>\n",
       "      <td>659</td>\n",
       "    </tr>\n",
       "    <tr>\n",
       "      <th>6</th>\n",
       "      <td>Adam Zampa</td>\n",
       "      <td>AUS</td>\n",
       "      <td>655</td>\n",
       "    </tr>\n",
       "    <tr>\n",
       "      <th>7</th>\n",
       "      <td>Shaheen Afridi</td>\n",
       "      <td>PAK</td>\n",
       "      <td>641</td>\n",
       "    </tr>\n",
       "    <tr>\n",
       "      <th>8</th>\n",
       "      <td>Mujeeb Ur Rahman</td>\n",
       "      <td>AFG</td>\n",
       "      <td>637</td>\n",
       "    </tr>\n",
       "    <tr>\n",
       "      <th>9</th>\n",
       "      <td>Mohammad Nabi</td>\n",
       "      <td>AFG</td>\n",
       "      <td>631</td>\n",
       "    </tr>\n",
       "  </tbody>\n",
       "</table>\n",
       "</div>"
      ],
      "text/plain": [
       "               Name Team Rating\n",
       "0    Mohammed Siraj  IND    729\n",
       "1    Josh Hazlewood  AUS    727\n",
       "2       Trent Boult   NZ    708\n",
       "3    Mitchell Starc  AUS    665\n",
       "4   Shakib Al Hasan  BAN    663\n",
       "5       Rashid Khan  AFG    659\n",
       "6        Adam Zampa  AUS    655\n",
       "7    Shaheen Afridi  PAK    641\n",
       "8  Mujeeb Ur Rahman  AFG    637\n",
       "9     Mohammad Nabi  AFG    631"
      ]
     },
     "execution_count": 43,
     "metadata": {},
     "output_type": "execute_result"
    }
   ],
   "source": [
    "odi_bowler_df=pd.DataFrame({'Name': name,\n",
    "                       'Team':team,\n",
    "                      'Rating': rating})\n",
    "odi_bowler_df"
   ]
  },
  {
   "cell_type": "markdown",
   "id": "872dd060",
   "metadata": {},
   "source": [
    "<div style=\"background-color: cyan;text-align: center;color: cyan \"> -- </div>"
   ]
  },
  {
   "cell_type": "markdown",
   "id": "5f922374",
   "metadata": {},
   "source": [
    "## <font color='deeppink'>6) Write a python program to scrape cricket rankings from icc-cricket.com. You have to scrape and make data frame</font>\n",
    "#### <font color='red'>a) Top 10 ODI teams in women’s cricket along with the records for matches, points and rating.</font>\n",
    "#### <font color='red'>b) Top 10 women’s ODI Batting players along with the records of their team and rating.</font>\n",
    "#### <font color='red'>c) Top 10 women’s ODI all-rounder along with the records of their team and rating.</font>"
   ]
  },
  {
   "cell_type": "markdown",
   "id": "a2bbd6b6",
   "metadata": {},
   "source": [
    "<div style=\"text-align: center;color: cyan \"> ------------------------------------------------------------------------------------------------------------------------------------------------------------------------------------------------------------------ </div>"
   ]
  },
  {
   "cell_type": "markdown",
   "id": "5e765f6a",
   "metadata": {},
   "source": [
    "### <font color='orangered'> 6a) Top 10 ODI teams in women’s cricket along with the records for matches, points and rating.</font>"
   ]
  },
  {
   "cell_type": "code",
   "execution_count": 199,
   "id": "53489888",
   "metadata": {},
   "outputs": [
    {
     "name": "stdout",
     "output_type": "stream",
     "text": [
      "<Response [200]>\n"
     ]
    }
   ],
   "source": [
    "page= requests.get('https://www.icc-cricket.com/rankings/womens/team-rankings/odi')\n",
    "print(page)\n",
    "soup= bfs(page.content)"
   ]
  },
  {
   "cell_type": "code",
   "execution_count": 200,
   "id": "88c3a51e",
   "metadata": {},
   "outputs": [],
   "source": [
    "name=[]\n",
    "for j, i in zip(range(10),(soup.find_all(\"span\", class_=\"u-hide-phablet\"))):\n",
    "    name.append(i.text)\n",
    "#name"
   ]
  },
  {
   "cell_type": "code",
   "execution_count": 201,
   "id": "f918fa3c",
   "metadata": {},
   "outputs": [
    {
     "data": {
      "text/plain": [
       "['21', '28', '26', '27', '25', '27', '13', '8', '27', '8']"
      ]
     },
     "execution_count": 201,
     "metadata": {},
     "output_type": "execute_result"
    }
   ],
   "source": [
    "match=[]\n",
    "match.append((soup.find('td',class_=\"rankings-block__banner--matches\")).text)\n",
    "for j, i in zip(range(9),(soup.find_all(\"tr\", class_=\"table-body\"))):\n",
    "    match.append(i.text.splitlines(0)[7])\n",
    "(match)"
   ]
  },
  {
   "cell_type": "code",
   "execution_count": 202,
   "id": "81b1e66f",
   "metadata": {},
   "outputs": [],
   "source": [
    "points=[]\n",
    "points.append((soup.find('td',class_=\"rankings-block__banner--points\")).text)\n",
    "for j, i in zip(range(9),(soup.find_all(\"tr\", class_=\"table-body\"))):\n",
    "    points.append(i.text.splitlines(0)[8])\n",
    "#(points)"
   ]
  },
  {
   "cell_type": "code",
   "execution_count": 203,
   "id": "638b7b68",
   "metadata": {},
   "outputs": [
    {
     "data": {
      "text/plain": [
       "['172', '119', '119', '104', '102', '94', '76', '72', '62', '44']"
      ]
     },
     "execution_count": 203,
     "metadata": {},
     "output_type": "execute_result"
    }
   ],
   "source": [
    "rating=[]\n",
    "rating.append((soup.find('td',class_=\"rankings-block__banner--rating u-text-right\")).text.splitlines(0)[1].strip())\n",
    "for j, i in zip(range(9),(soup.find_all(\"tr\", class_=\"table-body\"))):\n",
    "    rating.append(i.text.splitlines(0)[9])\n",
    "(rating)"
   ]
  },
  {
   "cell_type": "code",
   "execution_count": 204,
   "id": "9094f05d",
   "metadata": {
    "scrolled": true
   },
   "outputs": [
    {
     "data": {
      "text/html": [
       "<div>\n",
       "<style scoped>\n",
       "    .dataframe tbody tr th:only-of-type {\n",
       "        vertical-align: middle;\n",
       "    }\n",
       "\n",
       "    .dataframe tbody tr th {\n",
       "        vertical-align: top;\n",
       "    }\n",
       "\n",
       "    .dataframe thead th {\n",
       "        text-align: right;\n",
       "    }\n",
       "</style>\n",
       "<table border=\"1\" class=\"dataframe\">\n",
       "  <thead>\n",
       "    <tr style=\"text-align: right;\">\n",
       "      <th></th>\n",
       "      <th>Name</th>\n",
       "      <th>Match</th>\n",
       "      <th>Points</th>\n",
       "      <th>Rating</th>\n",
       "    </tr>\n",
       "  </thead>\n",
       "  <tbody>\n",
       "    <tr>\n",
       "      <th>0</th>\n",
       "      <td>Australia</td>\n",
       "      <td>21</td>\n",
       "      <td>3,603</td>\n",
       "      <td>172</td>\n",
       "    </tr>\n",
       "    <tr>\n",
       "      <th>1</th>\n",
       "      <td>England</td>\n",
       "      <td>28</td>\n",
       "      <td>3,342</td>\n",
       "      <td>119</td>\n",
       "    </tr>\n",
       "    <tr>\n",
       "      <th>2</th>\n",
       "      <td>South Africa</td>\n",
       "      <td>26</td>\n",
       "      <td>3,098</td>\n",
       "      <td>119</td>\n",
       "    </tr>\n",
       "    <tr>\n",
       "      <th>3</th>\n",
       "      <td>India</td>\n",
       "      <td>27</td>\n",
       "      <td>2,820</td>\n",
       "      <td>104</td>\n",
       "    </tr>\n",
       "    <tr>\n",
       "      <th>4</th>\n",
       "      <td>New Zealand</td>\n",
       "      <td>25</td>\n",
       "      <td>2,553</td>\n",
       "      <td>102</td>\n",
       "    </tr>\n",
       "    <tr>\n",
       "      <th>5</th>\n",
       "      <td>West Indies</td>\n",
       "      <td>27</td>\n",
       "      <td>2,535</td>\n",
       "      <td>94</td>\n",
       "    </tr>\n",
       "    <tr>\n",
       "      <th>6</th>\n",
       "      <td>Bangladesh</td>\n",
       "      <td>13</td>\n",
       "      <td>983</td>\n",
       "      <td>76</td>\n",
       "    </tr>\n",
       "    <tr>\n",
       "      <th>7</th>\n",
       "      <td>Thailand</td>\n",
       "      <td>8</td>\n",
       "      <td>572</td>\n",
       "      <td>72</td>\n",
       "    </tr>\n",
       "    <tr>\n",
       "      <th>8</th>\n",
       "      <td>Pakistan</td>\n",
       "      <td>27</td>\n",
       "      <td>1,678</td>\n",
       "      <td>62</td>\n",
       "    </tr>\n",
       "    <tr>\n",
       "      <th>9</th>\n",
       "      <td>Sri Lanka</td>\n",
       "      <td>8</td>\n",
       "      <td>353</td>\n",
       "      <td>44</td>\n",
       "    </tr>\n",
       "  </tbody>\n",
       "</table>\n",
       "</div>"
      ],
      "text/plain": [
       "           Name Match Points Rating\n",
       "0     Australia    21  3,603    172\n",
       "1       England    28  3,342    119\n",
       "2  South Africa    26  3,098    119\n",
       "3         India    27  2,820    104\n",
       "4   New Zealand    25  2,553    102\n",
       "5   West Indies    27  2,535     94\n",
       "6    Bangladesh    13    983     76\n",
       "7      Thailand     8    572     72\n",
       "8      Pakistan    27  1,678     62\n",
       "9     Sri Lanka     8    353     44"
      ]
     },
     "execution_count": 204,
     "metadata": {},
     "output_type": "execute_result"
    }
   ],
   "source": [
    "match_women_df=pd.DataFrame({'Name': name,\n",
    "                       'Match':match,\n",
    "                       'Points':points,\n",
    "                      'Rating': rating})\n",
    "match_women_df"
   ]
  },
  {
   "cell_type": "markdown",
   "id": "754d37c3",
   "metadata": {},
   "source": [
    "<div style=\"text-align: center;color: cyan \"> ------------------------------------------------------------------------------------------------------------------------------------------------------------------------------------------------------------------ </div>"
   ]
  },
  {
   "cell_type": "markdown",
   "id": "aad8b58b",
   "metadata": {},
   "source": [
    "### <font color='orangered'>6b) Top 10 women’s ODI Batting players along with the records of their team and rating."
   ]
  },
  {
   "cell_type": "code",
   "execution_count": 205,
   "id": "2279c753",
   "metadata": {},
   "outputs": [
    {
     "name": "stdout",
     "output_type": "stream",
     "text": [
      "<Response [200]>\n"
     ]
    }
   ],
   "source": [
    "page= requests.get('https://www.icc-cricket.com/rankings/womens/player-rankings/odi')\n",
    "print(page)\n",
    "soup= bfs(page.content)"
   ]
  },
  {
   "cell_type": "code",
   "execution_count": 206,
   "id": "0d6a7432",
   "metadata": {},
   "outputs": [
    {
     "data": {
      "text/plain": [
       "['Alyssa Healy',\n",
       " 'Beth Mooney',\n",
       " 'Laura Wolvaardt',\n",
       " 'Natalie Sciver',\n",
       " 'Meg Lanning',\n",
       " 'Harmanpreet Kaur',\n",
       " 'Smriti Mandhana',\n",
       " 'Rachael Haynes',\n",
       " 'Chamari Athapaththu',\n",
       " 'Amy Satterthwaite']"
      ]
     },
     "execution_count": 206,
     "metadata": {},
     "output_type": "execute_result"
    }
   ],
   "source": [
    "name=[]\n",
    "name.append((soup.find('div',class_=\"rankings-block__banner--name\")).text)\n",
    "for j, i in zip(range(9),(soup.find_all(\"td\", class_=\"table-body__cell name\"))):\n",
    "    name.append(i.text.splitlines(0)[1])\n",
    "(name)"
   ]
  },
  {
   "cell_type": "code",
   "execution_count": 207,
   "id": "a328ddc7",
   "metadata": {},
   "outputs": [
    {
     "data": {
      "text/plain": [
       "['AUS', 'AUS', 'SA', 'ENG', 'AUS', 'IND', 'IND', 'AUS', 'SL', 'NZ']"
      ]
     },
     "execution_count": 207,
     "metadata": {},
     "output_type": "execute_result"
    }
   ],
   "source": [
    "team=[]\n",
    "team.append((soup.find('div',class_=\"rankings-block__banner--nationality\")).text.splitlines(0)[2])\n",
    "for j, i in zip(range(9),(soup.find_all(\"span\", class_=\"table-body__logo-text\"))):\n",
    "    team.append(i.text)\n",
    "(team)"
   ]
  },
  {
   "cell_type": "code",
   "execution_count": 208,
   "id": "f2947825",
   "metadata": {},
   "outputs": [
    {
     "data": {
      "text/plain": [
       "['762', '754', '732', '731', '717', '716', '714', '680', '655', '641']"
      ]
     },
     "execution_count": 208,
     "metadata": {},
     "output_type": "execute_result"
    }
   ],
   "source": [
    "rating=[]\n",
    "rating.append((soup.find('div',class_=\"rankings-block__banner--rating\")).text)\n",
    "for j, i in zip(range(9),(soup.find_all(\"td\", class_=\"table-body__cell u-text-right rating\"))):\n",
    "    rating.append(i.text)\n",
    "(rating)"
   ]
  },
  {
   "cell_type": "code",
   "execution_count": 209,
   "id": "9a40f0c6",
   "metadata": {
    "scrolled": true
   },
   "outputs": [
    {
     "data": {
      "text/html": [
       "<div>\n",
       "<style scoped>\n",
       "    .dataframe tbody tr th:only-of-type {\n",
       "        vertical-align: middle;\n",
       "    }\n",
       "\n",
       "    .dataframe tbody tr th {\n",
       "        vertical-align: top;\n",
       "    }\n",
       "\n",
       "    .dataframe thead th {\n",
       "        text-align: right;\n",
       "    }\n",
       "</style>\n",
       "<table border=\"1\" class=\"dataframe\">\n",
       "  <thead>\n",
       "    <tr style=\"text-align: right;\">\n",
       "      <th></th>\n",
       "      <th>Name</th>\n",
       "      <th>Team</th>\n",
       "      <th>Rating</th>\n",
       "    </tr>\n",
       "  </thead>\n",
       "  <tbody>\n",
       "    <tr>\n",
       "      <th>0</th>\n",
       "      <td>Alyssa Healy</td>\n",
       "      <td>AUS</td>\n",
       "      <td>762</td>\n",
       "    </tr>\n",
       "    <tr>\n",
       "      <th>1</th>\n",
       "      <td>Beth Mooney</td>\n",
       "      <td>AUS</td>\n",
       "      <td>754</td>\n",
       "    </tr>\n",
       "    <tr>\n",
       "      <th>2</th>\n",
       "      <td>Laura Wolvaardt</td>\n",
       "      <td>SA</td>\n",
       "      <td>732</td>\n",
       "    </tr>\n",
       "    <tr>\n",
       "      <th>3</th>\n",
       "      <td>Natalie Sciver</td>\n",
       "      <td>ENG</td>\n",
       "      <td>731</td>\n",
       "    </tr>\n",
       "    <tr>\n",
       "      <th>4</th>\n",
       "      <td>Meg Lanning</td>\n",
       "      <td>AUS</td>\n",
       "      <td>717</td>\n",
       "    </tr>\n",
       "    <tr>\n",
       "      <th>5</th>\n",
       "      <td>Harmanpreet Kaur</td>\n",
       "      <td>IND</td>\n",
       "      <td>716</td>\n",
       "    </tr>\n",
       "    <tr>\n",
       "      <th>6</th>\n",
       "      <td>Smriti Mandhana</td>\n",
       "      <td>IND</td>\n",
       "      <td>714</td>\n",
       "    </tr>\n",
       "    <tr>\n",
       "      <th>7</th>\n",
       "      <td>Rachael Haynes</td>\n",
       "      <td>AUS</td>\n",
       "      <td>680</td>\n",
       "    </tr>\n",
       "    <tr>\n",
       "      <th>8</th>\n",
       "      <td>Chamari Athapaththu</td>\n",
       "      <td>SL</td>\n",
       "      <td>655</td>\n",
       "    </tr>\n",
       "    <tr>\n",
       "      <th>9</th>\n",
       "      <td>Amy Satterthwaite</td>\n",
       "      <td>NZ</td>\n",
       "      <td>641</td>\n",
       "    </tr>\n",
       "  </tbody>\n",
       "</table>\n",
       "</div>"
      ],
      "text/plain": [
       "                  Name Team Rating\n",
       "0         Alyssa Healy  AUS    762\n",
       "1          Beth Mooney  AUS    754\n",
       "2      Laura Wolvaardt   SA    732\n",
       "3       Natalie Sciver  ENG    731\n",
       "4          Meg Lanning  AUS    717\n",
       "5     Harmanpreet Kaur  IND    716\n",
       "6      Smriti Mandhana  IND    714\n",
       "7       Rachael Haynes  AUS    680\n",
       "8  Chamari Athapaththu   SL    655\n",
       "9    Amy Satterthwaite   NZ    641"
      ]
     },
     "execution_count": 209,
     "metadata": {},
     "output_type": "execute_result"
    }
   ],
   "source": [
    "odi_batting_women_df=pd.DataFrame({'Name': name,\n",
    "                       'Team':team,\n",
    "                      'Rating': rating})\n",
    "odi_batting_women_df"
   ]
  },
  {
   "cell_type": "markdown",
   "id": "58bf0cfb",
   "metadata": {},
   "source": [
    "<div style=\"text-align: center;color: cyan \"> ------------------------------------------------------------------------------------------------------------------------------------------------------------------------------------------------------------------ </div>"
   ]
  },
  {
   "cell_type": "markdown",
   "id": "4f361510",
   "metadata": {},
   "source": [
    "### <font color='orangered'>6c) Top 10 women’s ODI all-rounder along with the records of their team and rating.</font>"
   ]
  },
  {
   "cell_type": "code",
   "execution_count": 59,
   "id": "44799797",
   "metadata": {},
   "outputs": [
    {
     "name": "stdout",
     "output_type": "stream",
     "text": [
      "<Response [200]>\n"
     ]
    }
   ],
   "source": [
    "page= requests.get('https://www.icc-cricket.com/rankings/womens/player-rankings/odi/all-rounder')\n",
    "print(page)\n",
    "soup= bfs(page.content)"
   ]
  },
  {
   "cell_type": "code",
   "execution_count": 64,
   "id": "4f72d37b",
   "metadata": {},
   "outputs": [
    {
     "data": {
      "text/plain": [
       "['Hayley Matthews',\n",
       " 'Natalie Sciver',\n",
       " 'Ellyse Perry',\n",
       " 'Marizanne Kapp',\n",
       " 'Amelia Kerr',\n",
       " 'Deepti Sharma',\n",
       " 'Ashleigh Gardner',\n",
       " 'Jess Jonassen',\n",
       " 'Nida Dar',\n",
       " 'Jhulan Goswami']"
      ]
     },
     "execution_count": 64,
     "metadata": {},
     "output_type": "execute_result"
    }
   ],
   "source": [
    "name=[]\n",
    "name.append((soup.find('div',class_=\"rankings-block__banner--name-large\")).text)\n",
    "for j, i in zip(range(9),(soup.find_all(\"td\", class_=\"table-body__cell rankings-table__name name\"))):\n",
    "    name.append(i.text.replace(\"\\n\",''))\n",
    "(name)"
   ]
  },
  {
   "cell_type": "code",
   "execution_count": 65,
   "id": "9f929f30",
   "metadata": {},
   "outputs": [
    {
     "data": {
      "text/plain": [
       "['WI', 'ENG', 'AUS', 'SA', 'NZ', 'IND', 'AUS', 'AUS', 'PAK', 'IND']"
      ]
     },
     "execution_count": 65,
     "metadata": {},
     "output_type": "execute_result"
    }
   ],
   "source": [
    "team=[]\n",
    "team.append((soup.find('div',class_=\"rankings-block__banner--nationality\")).text.splitlines(0)[2])\n",
    "for j, i in zip(range(9),(soup.find_all(\"span\", class_=\"table-body__logo-text\"))):\n",
    "    team.append(i.text)\n",
    "(team)"
   ]
  },
  {
   "cell_type": "code",
   "execution_count": 67,
   "id": "f7d8abbc",
   "metadata": {},
   "outputs": [
    {
     "data": {
      "text/plain": [
       "['373', '371', '366', '349', '336', '322', '292', '250', '232', '214']"
      ]
     },
     "execution_count": 67,
     "metadata": {},
     "output_type": "execute_result"
    }
   ],
   "source": [
    "rating=[]\n",
    "rating.append((soup.find('div',class_=\"rankings-block__banner--rating\")).text)\n",
    "for j, i in zip(range(9),(soup.find_all(\"td\", class_=\"table-body__cell rating\"))):\n",
    "    rating.append(i.text)\n",
    "(rating)"
   ]
  },
  {
   "cell_type": "code",
   "execution_count": 68,
   "id": "a93ad08d",
   "metadata": {
    "scrolled": true
   },
   "outputs": [
    {
     "data": {
      "text/html": [
       "<div>\n",
       "<style scoped>\n",
       "    .dataframe tbody tr th:only-of-type {\n",
       "        vertical-align: middle;\n",
       "    }\n",
       "\n",
       "    .dataframe tbody tr th {\n",
       "        vertical-align: top;\n",
       "    }\n",
       "\n",
       "    .dataframe thead th {\n",
       "        text-align: right;\n",
       "    }\n",
       "</style>\n",
       "<table border=\"1\" class=\"dataframe\">\n",
       "  <thead>\n",
       "    <tr style=\"text-align: right;\">\n",
       "      <th></th>\n",
       "      <th>Name</th>\n",
       "      <th>Team</th>\n",
       "      <th>Rating</th>\n",
       "    </tr>\n",
       "  </thead>\n",
       "  <tbody>\n",
       "    <tr>\n",
       "      <th>0</th>\n",
       "      <td>Hayley Matthews</td>\n",
       "      <td>WI</td>\n",
       "      <td>373</td>\n",
       "    </tr>\n",
       "    <tr>\n",
       "      <th>1</th>\n",
       "      <td>Natalie Sciver</td>\n",
       "      <td>ENG</td>\n",
       "      <td>371</td>\n",
       "    </tr>\n",
       "    <tr>\n",
       "      <th>2</th>\n",
       "      <td>Ellyse Perry</td>\n",
       "      <td>AUS</td>\n",
       "      <td>366</td>\n",
       "    </tr>\n",
       "    <tr>\n",
       "      <th>3</th>\n",
       "      <td>Marizanne Kapp</td>\n",
       "      <td>SA</td>\n",
       "      <td>349</td>\n",
       "    </tr>\n",
       "    <tr>\n",
       "      <th>4</th>\n",
       "      <td>Amelia Kerr</td>\n",
       "      <td>NZ</td>\n",
       "      <td>336</td>\n",
       "    </tr>\n",
       "    <tr>\n",
       "      <th>5</th>\n",
       "      <td>Deepti Sharma</td>\n",
       "      <td>IND</td>\n",
       "      <td>322</td>\n",
       "    </tr>\n",
       "    <tr>\n",
       "      <th>6</th>\n",
       "      <td>Ashleigh Gardner</td>\n",
       "      <td>AUS</td>\n",
       "      <td>292</td>\n",
       "    </tr>\n",
       "    <tr>\n",
       "      <th>7</th>\n",
       "      <td>Jess Jonassen</td>\n",
       "      <td>AUS</td>\n",
       "      <td>250</td>\n",
       "    </tr>\n",
       "    <tr>\n",
       "      <th>8</th>\n",
       "      <td>Nida Dar</td>\n",
       "      <td>PAK</td>\n",
       "      <td>232</td>\n",
       "    </tr>\n",
       "    <tr>\n",
       "      <th>9</th>\n",
       "      <td>Jhulan Goswami</td>\n",
       "      <td>IND</td>\n",
       "      <td>214</td>\n",
       "    </tr>\n",
       "  </tbody>\n",
       "</table>\n",
       "</div>"
      ],
      "text/plain": [
       "               Name Team Rating\n",
       "0   Hayley Matthews   WI    373\n",
       "1    Natalie Sciver  ENG    371\n",
       "2      Ellyse Perry  AUS    366\n",
       "3    Marizanne Kapp   SA    349\n",
       "4       Amelia Kerr   NZ    336\n",
       "5     Deepti Sharma  IND    322\n",
       "6  Ashleigh Gardner  AUS    292\n",
       "7     Jess Jonassen  AUS    250\n",
       "8          Nida Dar  PAK    232\n",
       "9    Jhulan Goswami  IND    214"
      ]
     },
     "execution_count": 68,
     "metadata": {},
     "output_type": "execute_result"
    }
   ],
   "source": [
    "odi_allround_women_df=pd.DataFrame({'Name': name,\n",
    "                       'Team':team,\n",
    "                      'Rating': rating})\n",
    "odi_allround_women_df"
   ]
  },
  {
   "cell_type": "markdown",
   "id": "22cd9cfd",
   "metadata": {},
   "source": [
    "<div style=\"background-color: cyan;text-align: center;color: cyan \"> -- </div>"
   ]
  },
  {
   "cell_type": "markdown",
   "id": "591f5fa3",
   "metadata": {},
   "source": [
    "\n",
    "## <font color='deeppink'>7) Write a python program to scrape mentioned news details from https://www.cnbc.com/world/?region=world and make data frame </font>\n",
    "#### <font color='red'>i) Headline </font>\n",
    "#### <font color='red'>ii) Time</font>\n",
    "#### <font color='red'>iii) News Link</font>"
   ]
  },
  {
   "cell_type": "code",
   "execution_count": 210,
   "id": "01e788f4",
   "metadata": {},
   "outputs": [
    {
     "name": "stdout",
     "output_type": "stream",
     "text": [
      "<Response [200]>\n"
     ]
    }
   ],
   "source": [
    "page= requests.get('https://www.cnbc.com/world/?region=world')\n",
    "print(page)\n",
    "soup= bfs(page.content)"
   ]
  },
  {
   "cell_type": "code",
   "execution_count": 211,
   "id": "b018a956",
   "metadata": {},
   "outputs": [
    {
     "name": "stdout",
     "output_type": "stream",
     "text": [
      "30\n"
     ]
    }
   ],
   "source": [
    "headlines=[]\n",
    "for i in soup.find_all(\"a\", class_=\"LatestNews-headline\"):\n",
    "    headlines.append(i.text)\n",
    "print(len(headlines))\n",
    "#(headlines)"
   ]
  },
  {
   "cell_type": "code",
   "execution_count": 212,
   "id": "5ccaf201",
   "metadata": {},
   "outputs": [
    {
     "name": "stdout",
     "output_type": "stream",
     "text": [
      "30\n"
     ]
    }
   ],
   "source": [
    "time=[]\n",
    "for i in soup.find_all(\"time\", class_=\"LatestNews-timestamp\"):\n",
    "    time.append(i.text)\n",
    "print(len(time))\n",
    "#(time)"
   ]
  },
  {
   "cell_type": "code",
   "execution_count": 213,
   "id": "afbb2caa",
   "metadata": {},
   "outputs": [
    {
     "name": "stdout",
     "output_type": "stream",
     "text": [
      "30\n"
     ]
    }
   ],
   "source": [
    "url=[]\n",
    "for i in soup.find_all(\"a\", class_=\"LatestNews-headline\"):\n",
    "    url.append(i.get('href'))\n",
    "print(len(url))\n",
    "#url"
   ]
  },
  {
   "cell_type": "code",
   "execution_count": 214,
   "id": "c76cafd6",
   "metadata": {
    "scrolled": true
   },
   "outputs": [
    {
     "data": {
      "text/html": [
       "<div>\n",
       "<style scoped>\n",
       "    .dataframe tbody tr th:only-of-type {\n",
       "        vertical-align: middle;\n",
       "    }\n",
       "\n",
       "    .dataframe tbody tr th {\n",
       "        vertical-align: top;\n",
       "    }\n",
       "\n",
       "    .dataframe thead th {\n",
       "        text-align: right;\n",
       "    }\n",
       "</style>\n",
       "<table border=\"1\" class=\"dataframe\">\n",
       "  <thead>\n",
       "    <tr style=\"text-align: right;\">\n",
       "      <th></th>\n",
       "      <th>Headline</th>\n",
       "      <th>Time</th>\n",
       "      <th>News link</th>\n",
       "    </tr>\n",
       "  </thead>\n",
       "  <tbody>\n",
       "    <tr>\n",
       "      <th>0</th>\n",
       "      <td>FDA staff: Pfizer's Paxlovid appears effective...</td>\n",
       "      <td>19 Min Ago</td>\n",
       "      <td>https://www.cnbc.com/2023/03/14/fda-staff-repo...</td>\n",
       "    </tr>\n",
       "    <tr>\n",
       "      <th>1</th>\n",
       "      <td>Watch live: Biden announces new plans to curb ...</td>\n",
       "      <td>23 Min Ago</td>\n",
       "      <td>https://www.cnbc.com/2023/03/14/watch-live-bid...</td>\n",
       "    </tr>\n",
       "    <tr>\n",
       "      <th>2</th>\n",
       "      <td>Here’s how we navigated three sessions of SVB-...</td>\n",
       "      <td>37 Min Ago</td>\n",
       "      <td>https://www.cnbc.com/2023/03/14/heres-how-we-n...</td>\n",
       "    </tr>\n",
       "    <tr>\n",
       "      <th>3</th>\n",
       "      <td>There's still time to make a spousal IRA contr...</td>\n",
       "      <td>44 Min Ago</td>\n",
       "      <td>https://www.cnbc.com/2023/03/14/what-to-know-a...</td>\n",
       "    </tr>\n",
       "    <tr>\n",
       "      <th>4</th>\n",
       "      <td>Stocks are bouncing but market will soon face ...</td>\n",
       "      <td>1 Hour Ago</td>\n",
       "      <td>https://www.cnbc.com/2023/03/14/stocks-are-bou...</td>\n",
       "    </tr>\n",
       "    <tr>\n",
       "      <th>5</th>\n",
       "      <td>Ohio sues Norfolk Southern over East Palestine...</td>\n",
       "      <td>1 Hour Ago</td>\n",
       "      <td>https://www.cnbc.com/2023/03/14/ohio-sues-norf...</td>\n",
       "    </tr>\n",
       "    <tr>\n",
       "      <th>6</th>\n",
       "      <td>Apple reportedly delaying some employee bonuse...</td>\n",
       "      <td>1 Hour Ago</td>\n",
       "      <td>https://www.cnbc.com/2023/03/14/apple-delaying...</td>\n",
       "    </tr>\n",
       "    <tr>\n",
       "      <th>7</th>\n",
       "      <td>Morgan Stanley is testing an OpenAI-powered ch...</td>\n",
       "      <td>1 Hour Ago</td>\n",
       "      <td>https://www.cnbc.com/2023/03/14/morgan-stanley...</td>\n",
       "    </tr>\n",
       "    <tr>\n",
       "      <th>8</th>\n",
       "      <td>Russian jet downs U.S. Reaper drone over Black...</td>\n",
       "      <td>1 Hour Ago</td>\n",
       "      <td>https://www.cnbc.com/2023/03/14/russian-jet-do...</td>\n",
       "    </tr>\n",
       "    <tr>\n",
       "      <th>9</th>\n",
       "      <td>George Santos files 2024 candidacy statement —...</td>\n",
       "      <td>2 Hours Ago</td>\n",
       "      <td>https://www.cnbc.com/2023/03/14/george-santos-...</td>\n",
       "    </tr>\n",
       "    <tr>\n",
       "      <th>10</th>\n",
       "      <td>OpenAI announces GPT-4, claims it can beat 90%...</td>\n",
       "      <td>2 Hours Ago</td>\n",
       "      <td>https://www.cnbc.com/2023/03/14/openai-announc...</td>\n",
       "    </tr>\n",
       "    <tr>\n",
       "      <th>11</th>\n",
       "      <td>SVB's new CEO urges clients to 'help us rebuil...</td>\n",
       "      <td>2 Hours Ago</td>\n",
       "      <td>https://www.cnbc.com/2023/03/14/svbs-new-ceo-u...</td>\n",
       "    </tr>\n",
       "    <tr>\n",
       "      <th>12</th>\n",
       "      <td>Schwab CEO says firm is seeing significant inf...</td>\n",
       "      <td>2 Hours Ago</td>\n",
       "      <td>https://www.cnbc.com/2023/03/14/charles-schwab...</td>\n",
       "    </tr>\n",
       "    <tr>\n",
       "      <th>13</th>\n",
       "      <td>Texas judge asked attorneys to keep news of he...</td>\n",
       "      <td>2 Hours Ago</td>\n",
       "      <td>https://www.cnbc.com/2023/03/14/abortion-pill-...</td>\n",
       "    </tr>\n",
       "    <tr>\n",
       "      <th>14</th>\n",
       "      <td>AMC plunges as investors approve reverse stock...</td>\n",
       "      <td>2 Hours Ago</td>\n",
       "      <td>https://www.cnbc.com/2023/03/14/amc-investors-...</td>\n",
       "    </tr>\n",
       "    <tr>\n",
       "      <th>15</th>\n",
       "      <td>As yields fall, some investors are flocking to...</td>\n",
       "      <td>2 Hours Ago</td>\n",
       "      <td>https://www.cnbc.com/2023/03/14/as-yields-fall...</td>\n",
       "    </tr>\n",
       "    <tr>\n",
       "      <th>16</th>\n",
       "      <td>The wage gap gets worse for women in their 30s...</td>\n",
       "      <td>2 Hours Ago</td>\n",
       "      <td>https://www.cnbc.com/2023/03/14/the-wage-gap-g...</td>\n",
       "    </tr>\n",
       "    <tr>\n",
       "      <th>17</th>\n",
       "      <td>Stocks making the biggest moves midday: BuzzFe...</td>\n",
       "      <td>3 Hours Ago</td>\n",
       "      <td>https://www.cnbc.com/2023/03/14/stocks-making-...</td>\n",
       "    </tr>\n",
       "    <tr>\n",
       "      <th>18</th>\n",
       "      <td>Op-ed: Silicon Valley Bank collapse will hurt ...</td>\n",
       "      <td>3 Hours Ago</td>\n",
       "      <td>https://www.cnbc.com/2023/03/14/op-ed-svb-resc...</td>\n",
       "    </tr>\n",
       "    <tr>\n",
       "      <th>19</th>\n",
       "      <td>Hedge fund Citadel takes a 5% stake in Western...</td>\n",
       "      <td>3 Hours Ago</td>\n",
       "      <td>https://www.cnbc.com/2023/03/14/ken-griffins-h...</td>\n",
       "    </tr>\n",
       "    <tr>\n",
       "      <th>20</th>\n",
       "      <td>Tyson Foods to close two chicken plants, lay o...</td>\n",
       "      <td>3 Hours Ago</td>\n",
       "      <td>https://www.cnbc.com/2023/03/14/tyson-foods-la...</td>\n",
       "    </tr>\n",
       "    <tr>\n",
       "      <th>21</th>\n",
       "      <td>Cramer says Meta is 'rapidly becoming my favor...</td>\n",
       "      <td>3 Hours Ago</td>\n",
       "      <td>https://www.cnbc.com/2023/03/14/club-meeting-r...</td>\n",
       "    </tr>\n",
       "    <tr>\n",
       "      <th>22</th>\n",
       "      <td>Sellers are targeting this bank, but Citi says...</td>\n",
       "      <td>3 Hours Ago</td>\n",
       "      <td>https://www.cnbc.com/2023/03/14/sellers-are-ta...</td>\n",
       "    </tr>\n",
       "    <tr>\n",
       "      <th>23</th>\n",
       "      <td>Harvard career expert: The No. 1 'desirable sk...</td>\n",
       "      <td>4 Hours Ago</td>\n",
       "      <td>https://www.cnbc.com/2023/03/14/harvard-career...</td>\n",
       "    </tr>\n",
       "    <tr>\n",
       "      <th>24</th>\n",
       "      <td>Zuckerberg's additional jobs cuts at Meta will...</td>\n",
       "      <td>4 Hours Ago</td>\n",
       "      <td>https://www.cnbc.com/2023/03/14/meta-ceo-mark-...</td>\n",
       "    </tr>\n",
       "    <tr>\n",
       "      <th>25</th>\n",
       "      <td>Wells Fargo sees this regional bank gaining de...</td>\n",
       "      <td>4 Hours Ago</td>\n",
       "      <td>https://www.cnbc.com/2023/03/14/wells-fargo-se...</td>\n",
       "    </tr>\n",
       "    <tr>\n",
       "      <th>26</th>\n",
       "      <td>Credit card debt is the No. 1 dating deal brea...</td>\n",
       "      <td>4 Hours Ago</td>\n",
       "      <td>https://www.cnbc.com/2023/03/14/credit-card-de...</td>\n",
       "    </tr>\n",
       "    <tr>\n",
       "      <th>27</th>\n",
       "      <td>These are the top 10 cities where the 'super-r...</td>\n",
       "      <td>4 Hours Ago</td>\n",
       "      <td>https://www.cnbc.com/2023/03/14/top-10-cities-...</td>\n",
       "    </tr>\n",
       "    <tr>\n",
       "      <th>28</th>\n",
       "      <td>Novo Nordisk to slash U.S. insulin prices by u...</td>\n",
       "      <td>4 Hours Ago</td>\n",
       "      <td>https://www.cnbc.com/2023/03/14/novo-nordisk-t...</td>\n",
       "    </tr>\n",
       "    <tr>\n",
       "      <th>29</th>\n",
       "      <td>SEC and Justice Department are investigating S...</td>\n",
       "      <td>4 Hours Ago</td>\n",
       "      <td>https://www.cnbc.com/2023/03/14/sec-and-justic...</td>\n",
       "    </tr>\n",
       "  </tbody>\n",
       "</table>\n",
       "</div>"
      ],
      "text/plain": [
       "                                             Headline         Time  \\\n",
       "0   FDA staff: Pfizer's Paxlovid appears effective...   19 Min Ago   \n",
       "1   Watch live: Biden announces new plans to curb ...   23 Min Ago   \n",
       "2   Here’s how we navigated three sessions of SVB-...   37 Min Ago   \n",
       "3   There's still time to make a spousal IRA contr...   44 Min Ago   \n",
       "4   Stocks are bouncing but market will soon face ...   1 Hour Ago   \n",
       "5   Ohio sues Norfolk Southern over East Palestine...   1 Hour Ago   \n",
       "6   Apple reportedly delaying some employee bonuse...   1 Hour Ago   \n",
       "7   Morgan Stanley is testing an OpenAI-powered ch...   1 Hour Ago   \n",
       "8   Russian jet downs U.S. Reaper drone over Black...   1 Hour Ago   \n",
       "9   George Santos files 2024 candidacy statement —...  2 Hours Ago   \n",
       "10  OpenAI announces GPT-4, claims it can beat 90%...  2 Hours Ago   \n",
       "11  SVB's new CEO urges clients to 'help us rebuil...  2 Hours Ago   \n",
       "12  Schwab CEO says firm is seeing significant inf...  2 Hours Ago   \n",
       "13  Texas judge asked attorneys to keep news of he...  2 Hours Ago   \n",
       "14  AMC plunges as investors approve reverse stock...  2 Hours Ago   \n",
       "15  As yields fall, some investors are flocking to...  2 Hours Ago   \n",
       "16  The wage gap gets worse for women in their 30s...  2 Hours Ago   \n",
       "17  Stocks making the biggest moves midday: BuzzFe...  3 Hours Ago   \n",
       "18  Op-ed: Silicon Valley Bank collapse will hurt ...  3 Hours Ago   \n",
       "19  Hedge fund Citadel takes a 5% stake in Western...  3 Hours Ago   \n",
       "20  Tyson Foods to close two chicken plants, lay o...  3 Hours Ago   \n",
       "21  Cramer says Meta is 'rapidly becoming my favor...  3 Hours Ago   \n",
       "22  Sellers are targeting this bank, but Citi says...  3 Hours Ago   \n",
       "23  Harvard career expert: The No. 1 'desirable sk...  4 Hours Ago   \n",
       "24  Zuckerberg's additional jobs cuts at Meta will...  4 Hours Ago   \n",
       "25  Wells Fargo sees this regional bank gaining de...  4 Hours Ago   \n",
       "26  Credit card debt is the No. 1 dating deal brea...  4 Hours Ago   \n",
       "27  These are the top 10 cities where the 'super-r...  4 Hours Ago   \n",
       "28  Novo Nordisk to slash U.S. insulin prices by u...  4 Hours Ago   \n",
       "29  SEC and Justice Department are investigating S...  4 Hours Ago   \n",
       "\n",
       "                                            News link  \n",
       "0   https://www.cnbc.com/2023/03/14/fda-staff-repo...  \n",
       "1   https://www.cnbc.com/2023/03/14/watch-live-bid...  \n",
       "2   https://www.cnbc.com/2023/03/14/heres-how-we-n...  \n",
       "3   https://www.cnbc.com/2023/03/14/what-to-know-a...  \n",
       "4   https://www.cnbc.com/2023/03/14/stocks-are-bou...  \n",
       "5   https://www.cnbc.com/2023/03/14/ohio-sues-norf...  \n",
       "6   https://www.cnbc.com/2023/03/14/apple-delaying...  \n",
       "7   https://www.cnbc.com/2023/03/14/morgan-stanley...  \n",
       "8   https://www.cnbc.com/2023/03/14/russian-jet-do...  \n",
       "9   https://www.cnbc.com/2023/03/14/george-santos-...  \n",
       "10  https://www.cnbc.com/2023/03/14/openai-announc...  \n",
       "11  https://www.cnbc.com/2023/03/14/svbs-new-ceo-u...  \n",
       "12  https://www.cnbc.com/2023/03/14/charles-schwab...  \n",
       "13  https://www.cnbc.com/2023/03/14/abortion-pill-...  \n",
       "14  https://www.cnbc.com/2023/03/14/amc-investors-...  \n",
       "15  https://www.cnbc.com/2023/03/14/as-yields-fall...  \n",
       "16  https://www.cnbc.com/2023/03/14/the-wage-gap-g...  \n",
       "17  https://www.cnbc.com/2023/03/14/stocks-making-...  \n",
       "18  https://www.cnbc.com/2023/03/14/op-ed-svb-resc...  \n",
       "19  https://www.cnbc.com/2023/03/14/ken-griffins-h...  \n",
       "20  https://www.cnbc.com/2023/03/14/tyson-foods-la...  \n",
       "21  https://www.cnbc.com/2023/03/14/club-meeting-r...  \n",
       "22  https://www.cnbc.com/2023/03/14/sellers-are-ta...  \n",
       "23  https://www.cnbc.com/2023/03/14/harvard-career...  \n",
       "24  https://www.cnbc.com/2023/03/14/meta-ceo-mark-...  \n",
       "25  https://www.cnbc.com/2023/03/14/wells-fargo-se...  \n",
       "26  https://www.cnbc.com/2023/03/14/credit-card-de...  \n",
       "27  https://www.cnbc.com/2023/03/14/top-10-cities-...  \n",
       "28  https://www.cnbc.com/2023/03/14/novo-nordisk-t...  \n",
       "29  https://www.cnbc.com/2023/03/14/sec-and-justic...  "
      ]
     },
     "execution_count": 214,
     "metadata": {},
     "output_type": "execute_result"
    }
   ],
   "source": [
    "df_news=pd.DataFrame({'Headline': headlines,\n",
    "                 'Time':time,\n",
    "               \"News link\": url})\n",
    "df_news"
   ]
  },
  {
   "cell_type": "markdown",
   "id": "511f273b",
   "metadata": {},
   "source": [
    "<div style=\"background-color: cyan;text-align: center;color: cyan \"> -- </div>"
   ]
  },
  {
   "cell_type": "markdown",
   "id": "f08d75fb",
   "metadata": {},
   "source": [
    "### <font color='deeppink'> 8) Write a python program to scrape the details of most downloaded articles from AI in last 90 days.https://www.journals.elsevier.com/artificial-intelligence/most-downloaded-articles</font>\n",
    "#### <font color='red'>Scrape below mentioned details and make data frame</font>\n",
    "#### <font color='red'>i) Paper Title</font>\n",
    "#### <font color='red'>ii) Authors</font>\n",
    "#### <font color='red'>iii) Published Date</font>\n",
    "#### <font color='red'>iv) Paper URL</font>"
   ]
  },
  {
   "cell_type": "code",
   "execution_count": 215,
   "id": "21cacfc8",
   "metadata": {},
   "outputs": [
    {
     "name": "stdout",
     "output_type": "stream",
     "text": [
      "<Response [200]>\n"
     ]
    }
   ],
   "source": [
    "page= requests.get('https://www.journals.elsevier.com/artificial-intelligence/most-downloaded-articles')\n",
    "print(page)\n",
    "soup= bfs(page.content)"
   ]
  },
  {
   "cell_type": "code",
   "execution_count": 216,
   "id": "eba54db2",
   "metadata": {},
   "outputs": [
    {
     "name": "stdout",
     "output_type": "stream",
     "text": [
      "25\n"
     ]
    }
   ],
   "source": [
    "titles=[]\n",
    "for i in soup.find_all(\"h2\",class_='sc-1qrq3sd-1 gRGSUS sc-1nmom32-0 sc-1nmom32-1 btcbYu goSKRg'):\n",
    "    titles.append(i.text)\n",
    "print(len(titles))\n",
    "#titles"
   ]
  },
  {
   "cell_type": "code",
   "execution_count": 217,
   "id": "f4c681c0",
   "metadata": {},
   "outputs": [
    {
     "name": "stdout",
     "output_type": "stream",
     "text": [
      "25\n"
     ]
    }
   ],
   "source": [
    "\n",
    "authour=[]\n",
    "for i in soup.find_all(\"span\",class_='sc-1w3fpd7-0 dnCnAO'):\n",
    "    authour.append(i.text)\n",
    "print(len(authour))\n",
    "#authour"
   ]
  },
  {
   "cell_type": "code",
   "execution_count": 218,
   "id": "ae2854d3",
   "metadata": {},
   "outputs": [
    {
     "name": "stdout",
     "output_type": "stream",
     "text": [
      "25\n"
     ]
    }
   ],
   "source": [
    "date=[]\n",
    "for i in soup.find_all(\"span\",class_='sc-1thf9ly-2 dvggWt'):\n",
    "    date.append(i.text)\n",
    "print(len(date))\n",
    "#date"
   ]
  },
  {
   "cell_type": "code",
   "execution_count": 219,
   "id": "682761df",
   "metadata": {},
   "outputs": [
    {
     "name": "stdout",
     "output_type": "stream",
     "text": [
      "25\n"
     ]
    }
   ],
   "source": [
    "url=[]\n",
    "for i in soup.find_all(\"a\", class_=\"sc-5smygv-0 fIXTHm\"):\n",
    "    url.append(i.get('href'))\n",
    "print(len(url))\n",
    "#url\n"
   ]
  },
  {
   "cell_type": "code",
   "execution_count": 220,
   "id": "51bb54f4",
   "metadata": {
    "scrolled": true
   },
   "outputs": [
    {
     "data": {
      "text/html": [
       "<div>\n",
       "<style scoped>\n",
       "    .dataframe tbody tr th:only-of-type {\n",
       "        vertical-align: middle;\n",
       "    }\n",
       "\n",
       "    .dataframe tbody tr th {\n",
       "        vertical-align: top;\n",
       "    }\n",
       "\n",
       "    .dataframe thead th {\n",
       "        text-align: right;\n",
       "    }\n",
       "</style>\n",
       "<table border=\"1\" class=\"dataframe\">\n",
       "  <thead>\n",
       "    <tr style=\"text-align: right;\">\n",
       "      <th></th>\n",
       "      <th>Paper Title</th>\n",
       "      <th>Authors</th>\n",
       "      <th>Published Date</th>\n",
       "      <th>Paper URL</th>\n",
       "    </tr>\n",
       "  </thead>\n",
       "  <tbody>\n",
       "    <tr>\n",
       "      <th>0</th>\n",
       "      <td>Reward is enough</td>\n",
       "      <td>Silver, David, Singh, Satinder, Precup, Doina,...</td>\n",
       "      <td>October 2021</td>\n",
       "      <td>https://www.sciencedirect.com/science/article/...</td>\n",
       "    </tr>\n",
       "    <tr>\n",
       "      <th>1</th>\n",
       "      <td>Making sense of raw input</td>\n",
       "      <td>Evans, Richard, Bošnjak, Matko and 5 more</td>\n",
       "      <td>October 2021</td>\n",
       "      <td>https://www.sciencedirect.com/science/article/...</td>\n",
       "    </tr>\n",
       "    <tr>\n",
       "      <th>2</th>\n",
       "      <td>Law and logic: A review from an argumentation ...</td>\n",
       "      <td>Prakken, Henry, Sartor, Giovanni</td>\n",
       "      <td>October 2015</td>\n",
       "      <td>https://www.sciencedirect.com/science/article/...</td>\n",
       "    </tr>\n",
       "    <tr>\n",
       "      <th>3</th>\n",
       "      <td>Creativity and artificial intelligence</td>\n",
       "      <td>Boden, Margaret A.</td>\n",
       "      <td>August 1998</td>\n",
       "      <td>https://www.sciencedirect.com/science/article/...</td>\n",
       "    </tr>\n",
       "    <tr>\n",
       "      <th>4</th>\n",
       "      <td>Artificial cognition for social human–robot in...</td>\n",
       "      <td>Lemaignan, Séverin, Warnier, Mathieu and 3 more</td>\n",
       "      <td>June 2017</td>\n",
       "      <td>https://www.sciencedirect.com/science/article/...</td>\n",
       "    </tr>\n",
       "    <tr>\n",
       "      <th>5</th>\n",
       "      <td>Explanation in artificial intelligence: Insigh...</td>\n",
       "      <td>Miller, Tim</td>\n",
       "      <td>February 2019</td>\n",
       "      <td>https://www.sciencedirect.com/science/article/...</td>\n",
       "    </tr>\n",
       "    <tr>\n",
       "      <th>6</th>\n",
       "      <td>Making sense of sensory input</td>\n",
       "      <td>Evans, Richard, Hernández-Orallo, José and 3 more</td>\n",
       "      <td>April 2021</td>\n",
       "      <td>https://www.sciencedirect.com/science/article/...</td>\n",
       "    </tr>\n",
       "    <tr>\n",
       "      <th>7</th>\n",
       "      <td>Conflict-based search for optimal multi-agent ...</td>\n",
       "      <td>Sharon, Guni, Stern, Roni, Felner, Ariel, Stur...</td>\n",
       "      <td>February 2015</td>\n",
       "      <td>https://www.sciencedirect.com/science/article/...</td>\n",
       "    </tr>\n",
       "    <tr>\n",
       "      <th>8</th>\n",
       "      <td>Between MDPs and semi-MDPs: A framework for te...</td>\n",
       "      <td>Sutton, Richard S., Precup, Doina, Singh, Sati...</td>\n",
       "      <td>August 1999</td>\n",
       "      <td>https://www.sciencedirect.com/science/article/...</td>\n",
       "    </tr>\n",
       "    <tr>\n",
       "      <th>9</th>\n",
       "      <td>The Hanabi challenge: A new frontier for AI re...</td>\n",
       "      <td>Bard, Nolan, Foerster, Jakob N. and 13 more</td>\n",
       "      <td>March 2020</td>\n",
       "      <td>https://www.sciencedirect.com/science/article/...</td>\n",
       "    </tr>\n",
       "    <tr>\n",
       "      <th>10</th>\n",
       "      <td>Evaluating XAI: A comparison of rule-based and...</td>\n",
       "      <td>van der Waa, Jasper, Nieuwburg, Elisabeth, Cre...</td>\n",
       "      <td>February 2021</td>\n",
       "      <td>https://www.sciencedirect.com/science/article/...</td>\n",
       "    </tr>\n",
       "    <tr>\n",
       "      <th>11</th>\n",
       "      <td>Argumentation in artificial intelligence</td>\n",
       "      <td>Bench-Capon, T.J.M., Dunne, Paul E.</td>\n",
       "      <td>October 2007</td>\n",
       "      <td>https://www.sciencedirect.com/science/article/...</td>\n",
       "    </tr>\n",
       "    <tr>\n",
       "      <th>12</th>\n",
       "      <td>Algorithms for computing strategies in two-pla...</td>\n",
       "      <td>Bošanský, Branislav, Lisý, Viliam and 3 more</td>\n",
       "      <td>August 2016</td>\n",
       "      <td>https://www.sciencedirect.com/science/article/...</td>\n",
       "    </tr>\n",
       "    <tr>\n",
       "      <th>13</th>\n",
       "      <td>Multiple object tracking: A literature review</td>\n",
       "      <td>Luo, Wenhan, Xing, Junliang and 4 more</td>\n",
       "      <td>April 2021</td>\n",
       "      <td>https://www.sciencedirect.com/science/article/...</td>\n",
       "    </tr>\n",
       "    <tr>\n",
       "      <th>14</th>\n",
       "      <td>Selection of relevant features and examples in...</td>\n",
       "      <td>Blum, Avrim L., Langley, Pat</td>\n",
       "      <td>December 1997</td>\n",
       "      <td>https://www.sciencedirect.com/science/article/...</td>\n",
       "    </tr>\n",
       "    <tr>\n",
       "      <th>15</th>\n",
       "      <td>A survey of inverse reinforcement learning: Ch...</td>\n",
       "      <td>Arora, Saurabh, Doshi, Prashant</td>\n",
       "      <td>August 2021</td>\n",
       "      <td>https://www.sciencedirect.com/science/article/...</td>\n",
       "    </tr>\n",
       "    <tr>\n",
       "      <th>16</th>\n",
       "      <td>Explaining individual predictions when feature...</td>\n",
       "      <td>Aas, Kjersti, Jullum, Martin, Løland, Anders</td>\n",
       "      <td>September 2021</td>\n",
       "      <td>https://www.sciencedirect.com/science/article/...</td>\n",
       "    </tr>\n",
       "    <tr>\n",
       "      <th>17</th>\n",
       "      <td>A review of possible effects of cognitive bias...</td>\n",
       "      <td>Kliegr, Tomáš, Bahník, Štěpán, Fürnkranz, Joha...</td>\n",
       "      <td>June 2021</td>\n",
       "      <td>https://www.sciencedirect.com/science/article/...</td>\n",
       "    </tr>\n",
       "    <tr>\n",
       "      <th>18</th>\n",
       "      <td>Integrating social power into the decision-mak...</td>\n",
       "      <td>Pereira, Gonçalo, Prada, Rui, Santos, Pedro A.</td>\n",
       "      <td>December 2016</td>\n",
       "      <td>https://www.sciencedirect.com/science/article/...</td>\n",
       "    </tr>\n",
       "    <tr>\n",
       "      <th>19</th>\n",
       "      <td>“That's (not) the output I expected!” On the r...</td>\n",
       "      <td>Riveiro, Maria, Thill, Serge</td>\n",
       "      <td>September 2021</td>\n",
       "      <td>https://www.sciencedirect.com/science/article/...</td>\n",
       "    </tr>\n",
       "    <tr>\n",
       "      <th>20</th>\n",
       "      <td>Explaining black-box classifiers using post-ho...</td>\n",
       "      <td>Kenny, Eoin M., Ford, Courtney, Quinn, Molly, ...</td>\n",
       "      <td>May 2021</td>\n",
       "      <td>https://www.sciencedirect.com/science/article/...</td>\n",
       "    </tr>\n",
       "    <tr>\n",
       "      <th>21</th>\n",
       "      <td>Algorithm runtime prediction: Methods &amp; evalua...</td>\n",
       "      <td>Hutter, Frank, Xu, Lin, Hoos, Holger H., Leyto...</td>\n",
       "      <td>January 2014</td>\n",
       "      <td>https://www.sciencedirect.com/science/article/...</td>\n",
       "    </tr>\n",
       "    <tr>\n",
       "      <th>22</th>\n",
       "      <td>Wrappers for feature subset selection</td>\n",
       "      <td>Kohavi, Ron, John, George H.</td>\n",
       "      <td>December 1997</td>\n",
       "      <td>https://www.sciencedirect.com/science/article/...</td>\n",
       "    </tr>\n",
       "    <tr>\n",
       "      <th>23</th>\n",
       "      <td>Commonsense visual sensemaking for autonomous ...</td>\n",
       "      <td>Suchan, Jakob, Bhatt, Mehul, Varadarajan, Srik...</td>\n",
       "      <td>October 2021</td>\n",
       "      <td>https://www.sciencedirect.com/science/article/...</td>\n",
       "    </tr>\n",
       "    <tr>\n",
       "      <th>24</th>\n",
       "      <td>Quantum computation, quantum theory and AI</td>\n",
       "      <td>Ying, Mingsheng</td>\n",
       "      <td>February 2010</td>\n",
       "      <td>https://www.sciencedirect.com/science/article/...</td>\n",
       "    </tr>\n",
       "  </tbody>\n",
       "</table>\n",
       "</div>"
      ],
      "text/plain": [
       "                                          Paper Title  \\\n",
       "0                                    Reward is enough   \n",
       "1                           Making sense of raw input   \n",
       "2   Law and logic: A review from an argumentation ...   \n",
       "3              Creativity and artificial intelligence   \n",
       "4   Artificial cognition for social human–robot in...   \n",
       "5   Explanation in artificial intelligence: Insigh...   \n",
       "6                       Making sense of sensory input   \n",
       "7   Conflict-based search for optimal multi-agent ...   \n",
       "8   Between MDPs and semi-MDPs: A framework for te...   \n",
       "9   The Hanabi challenge: A new frontier for AI re...   \n",
       "10  Evaluating XAI: A comparison of rule-based and...   \n",
       "11           Argumentation in artificial intelligence   \n",
       "12  Algorithms for computing strategies in two-pla...   \n",
       "13      Multiple object tracking: A literature review   \n",
       "14  Selection of relevant features and examples in...   \n",
       "15  A survey of inverse reinforcement learning: Ch...   \n",
       "16  Explaining individual predictions when feature...   \n",
       "17  A review of possible effects of cognitive bias...   \n",
       "18  Integrating social power into the decision-mak...   \n",
       "19  “That's (not) the output I expected!” On the r...   \n",
       "20  Explaining black-box classifiers using post-ho...   \n",
       "21  Algorithm runtime prediction: Methods & evalua...   \n",
       "22              Wrappers for feature subset selection   \n",
       "23  Commonsense visual sensemaking for autonomous ...   \n",
       "24         Quantum computation, quantum theory and AI   \n",
       "\n",
       "                                              Authors  Published Date  \\\n",
       "0   Silver, David, Singh, Satinder, Precup, Doina,...    October 2021   \n",
       "1           Evans, Richard, Bošnjak, Matko and 5 more    October 2021   \n",
       "2                   Prakken, Henry, Sartor, Giovanni     October 2015   \n",
       "3                                 Boden, Margaret A.      August 1998   \n",
       "4     Lemaignan, Séverin, Warnier, Mathieu and 3 more       June 2017   \n",
       "5                                        Miller, Tim    February 2019   \n",
       "6   Evans, Richard, Hernández-Orallo, José and 3 more      April 2021   \n",
       "7   Sharon, Guni, Stern, Roni, Felner, Ariel, Stur...   February 2015   \n",
       "8   Sutton, Richard S., Precup, Doina, Singh, Sati...     August 1999   \n",
       "9         Bard, Nolan, Foerster, Jakob N. and 13 more      March 2020   \n",
       "10  van der Waa, Jasper, Nieuwburg, Elisabeth, Cre...   February 2021   \n",
       "11               Bench-Capon, T.J.M., Dunne, Paul E.     October 2007   \n",
       "12       Bošanský, Branislav, Lisý, Viliam and 3 more     August 2016   \n",
       "13             Luo, Wenhan, Xing, Junliang and 4 more      April 2021   \n",
       "14                      Blum, Avrim L., Langley, Pat    December 1997   \n",
       "15                   Arora, Saurabh, Doshi, Prashant      August 2021   \n",
       "16      Aas, Kjersti, Jullum, Martin, Løland, Anders   September 2021   \n",
       "17  Kliegr, Tomáš, Bahník, Štěpán, Fürnkranz, Joha...       June 2021   \n",
       "18    Pereira, Gonçalo, Prada, Rui, Santos, Pedro A.    December 2016   \n",
       "19                      Riveiro, Maria, Thill, Serge   September 2021   \n",
       "20  Kenny, Eoin M., Ford, Courtney, Quinn, Molly, ...        May 2021   \n",
       "21  Hutter, Frank, Xu, Lin, Hoos, Holger H., Leyto...    January 2014   \n",
       "22                      Kohavi, Ron, John, George H.    December 1997   \n",
       "23  Suchan, Jakob, Bhatt, Mehul, Varadarajan, Srik...    October 2021   \n",
       "24                                   Ying, Mingsheng    February 2010   \n",
       "\n",
       "                                            Paper URL  \n",
       "0   https://www.sciencedirect.com/science/article/...  \n",
       "1   https://www.sciencedirect.com/science/article/...  \n",
       "2   https://www.sciencedirect.com/science/article/...  \n",
       "3   https://www.sciencedirect.com/science/article/...  \n",
       "4   https://www.sciencedirect.com/science/article/...  \n",
       "5   https://www.sciencedirect.com/science/article/...  \n",
       "6   https://www.sciencedirect.com/science/article/...  \n",
       "7   https://www.sciencedirect.com/science/article/...  \n",
       "8   https://www.sciencedirect.com/science/article/...  \n",
       "9   https://www.sciencedirect.com/science/article/...  \n",
       "10  https://www.sciencedirect.com/science/article/...  \n",
       "11  https://www.sciencedirect.com/science/article/...  \n",
       "12  https://www.sciencedirect.com/science/article/...  \n",
       "13  https://www.sciencedirect.com/science/article/...  \n",
       "14  https://www.sciencedirect.com/science/article/...  \n",
       "15  https://www.sciencedirect.com/science/article/...  \n",
       "16  https://www.sciencedirect.com/science/article/...  \n",
       "17  https://www.sciencedirect.com/science/article/...  \n",
       "18  https://www.sciencedirect.com/science/article/...  \n",
       "19  https://www.sciencedirect.com/science/article/...  \n",
       "20  https://www.sciencedirect.com/science/article/...  \n",
       "21  https://www.sciencedirect.com/science/article/...  \n",
       "22  https://www.sciencedirect.com/science/article/...  \n",
       "23  https://www.sciencedirect.com/science/article/...  \n",
       "24  https://www.sciencedirect.com/science/article/...  "
      ]
     },
     "execution_count": 220,
     "metadata": {},
     "output_type": "execute_result"
    }
   ],
   "source": [
    "df=pd.DataFrame({'Paper Title': titles,\n",
    "                 'Authors':authour,\n",
    "               'Published Date': date,\n",
    "               \"Paper URL\": url})\n",
    "df"
   ]
  },
  {
   "cell_type": "markdown",
   "id": "e21103e2",
   "metadata": {},
   "source": [
    "<div style=\"background-color: cyan;text-align: center;color: cyan \"> -- </div>"
   ]
  },
  {
   "cell_type": "markdown",
   "id": "56ae34c4",
   "metadata": {},
   "source": [
    "### <font color='deeppink'> 9) Write a python program to scrape mentioned details from dineout.co.in and make data frame</font> \n",
    "#### <font color='red'>i) Restaurant name</font>\n",
    "#### <font color='red'>ii) Cuisine</font>\n",
    "#### <font color='red'>iii) Location</font>\n",
    "#### <font color='red'>iv) Ratings</font>\n",
    "#### <font color='red'>v) Image URL </font>"
   ]
  },
  {
   "cell_type": "code",
   "execution_count": 221,
   "id": "e7fcdaa6",
   "metadata": {},
   "outputs": [
    {
     "name": "stdout",
     "output_type": "stream",
     "text": [
      "<Response [200]>\n"
     ]
    }
   ],
   "source": [
    "page= requests.get('https://www.dineout.co.in/delhi-restaurants/buffet-special')\n",
    "print(page)\n",
    "soup= bfs(page.content)"
   ]
  },
  {
   "cell_type": "code",
   "execution_count": 222,
   "id": "473c075b",
   "metadata": {
    "scrolled": true
   },
   "outputs": [
    {
     "data": {
      "text/plain": [
       "['Castle Barbeque',\n",
       " 'Jungle Jamboree',\n",
       " 'Cafe Knosh',\n",
       " 'Castle Barbeque',\n",
       " 'The Barbeque Company',\n",
       " 'India Grill',\n",
       " 'Delhi Barbeque',\n",
       " 'The Monarch - Bar Be Que Village',\n",
       " 'Indian Grill Room']"
      ]
     },
     "execution_count": 222,
     "metadata": {},
     "output_type": "execute_result"
    }
   ],
   "source": [
    "titles=[]\n",
    "for i in soup.find_all(\"a\",class_='restnt-name ellipsis'):\n",
    "    titles.append(i.text)\n",
    "titles"
   ]
  },
  {
   "cell_type": "code",
   "execution_count": 223,
   "id": "9cadd89a",
   "metadata": {},
   "outputs": [
    {
     "data": {
      "text/plain": [
       "[' Chinese, North Indian',\n",
       " ' North Indian, Asian, Italian',\n",
       " ' Italian, Continental',\n",
       " ' Chinese, North Indian',\n",
       " ' North Indian, Chinese',\n",
       " ' North Indian, Italian',\n",
       " ' North Indian',\n",
       " ' North Indian',\n",
       " ' North Indian, Mughlai']"
      ]
     },
     "execution_count": 223,
     "metadata": {},
     "output_type": "execute_result"
    }
   ],
   "source": [
    "cuisine=[]\n",
    "for i in soup.find_all(\"span\", class_=\"double-line-ellipsis\"):\n",
    "    cuisine.append(i.text.split('|')[1])\n",
    "cuisine"
   ]
  },
  {
   "cell_type": "code",
   "execution_count": 224,
   "id": "0db8d961",
   "metadata": {
    "scrolled": true
   },
   "outputs": [
    {
     "data": {
      "text/plain": [
       "['Connaught Place, Central Delhi',\n",
       " '3CS Mall,Lajpat Nagar - 3, South Delhi',\n",
       " 'The Leela Ambience Convention Hotel,Shahdara, East Delhi',\n",
       " 'Pacific Mall,Tagore Garden, West Delhi',\n",
       " 'Gardens Galleria,Sector 38A, Noida',\n",
       " 'Hilton Garden Inn,Saket, South Delhi',\n",
       " 'Taurus Sarovar Portico,Mahipalpur, South Delhi',\n",
       " 'Indirapuram Habitat Centre,Indirapuram, Ghaziabad',\n",
       " 'Suncity Business Tower,Golf Course Road, Gurgaon']"
      ]
     },
     "execution_count": 224,
     "metadata": {},
     "output_type": "execute_result"
    }
   ],
   "source": [
    "location=[]\n",
    "for i in soup.find_all(\"div\",class_='restnt-loc ellipsis'):\n",
    "    location.append(i.text)\n",
    "location"
   ]
  },
  {
   "cell_type": "code",
   "execution_count": 225,
   "id": "8bf2162d",
   "metadata": {},
   "outputs": [
    {
     "data": {
      "text/plain": [
       "['4.1', '3.9', '4.3', '3.9', '3.9', '3.9', '3.7', '3.8', '4.3']"
      ]
     },
     "execution_count": 225,
     "metadata": {},
     "output_type": "execute_result"
    }
   ],
   "source": [
    "rating=[]\n",
    "for i in soup.find_all(\"div\",class_='restnt-rating rating-4'):\n",
    "    rating.append(i.text)\n",
    "rating"
   ]
  },
  {
   "cell_type": "code",
   "execution_count": 226,
   "id": "fc1b8f50",
   "metadata": {},
   "outputs": [
    {
     "data": {
      "text/plain": [
       "['https://im1.dineout.co.in/images/uploads/restaurant/sharpen/8/k/b/p86792-16062953735fbe1f4d3fb7e.jpg?tr=tr:n-medium',\n",
       " 'https://im1.dineout.co.in/images/uploads/restaurant/sharpen/5/p/m/p59633-166088382462ff137009010.jpg?tr=tr:n-medium',\n",
       " 'https://im1.dineout.co.in/images/uploads/restaurant/sharpen/4/p/m/p406-15438184745c04ccea491bc.jpg?tr=tr:n-medium',\n",
       " 'https://im1.dineout.co.in/images/uploads/restaurant/sharpen/3/j/o/p38113-15959192065f1fcb666130c.jpg?tr=tr:n-medium',\n",
       " 'https://im1.dineout.co.in/images/uploads/restaurant/sharpen/7/p/k/p79307-16051787755fad1597f2bf9.jpg?tr=tr:n-medium',\n",
       " 'https://im1.dineout.co.in/images/uploads/restaurant/sharpen/2/v/t/p2687-1482477169585cce712b90f.jpg?tr=tr:n-medium',\n",
       " 'https://im1.dineout.co.in/images/uploads/restaurant/sharpen/5/d/i/p52501-1661855212630de5eceb6d2.jpg?tr=tr:n-medium',\n",
       " 'https://im1.dineout.co.in/images/uploads/restaurant/sharpen/3/n/o/p34822-15599107305cfa594a13c24.jpg?tr=tr:n-medium',\n",
       " 'https://im1.dineout.co.in/images/uploads/restaurant/sharpen/5/y/f/p549-165000147262590640c0afc.jpg?tr=tr:n-medium']"
      ]
     },
     "execution_count": 226,
     "metadata": {},
     "output_type": "execute_result"
    }
   ],
   "source": [
    "image=[]\n",
    "for i in soup.find_all(\"img\", class_=\"no-img\"):\n",
    "    image.append(i.get('data-src'))\n",
    "image"
   ]
  },
  {
   "cell_type": "code",
   "execution_count": 227,
   "id": "f7c80967",
   "metadata": {},
   "outputs": [
    {
     "data": {
      "text/html": [
       "<div>\n",
       "<style scoped>\n",
       "    .dataframe tbody tr th:only-of-type {\n",
       "        vertical-align: middle;\n",
       "    }\n",
       "\n",
       "    .dataframe tbody tr th {\n",
       "        vertical-align: top;\n",
       "    }\n",
       "\n",
       "    .dataframe thead th {\n",
       "        text-align: right;\n",
       "    }\n",
       "</style>\n",
       "<table border=\"1\" class=\"dataframe\">\n",
       "  <thead>\n",
       "    <tr style=\"text-align: right;\">\n",
       "      <th></th>\n",
       "      <th>Name</th>\n",
       "      <th>Cuisines</th>\n",
       "      <th>Location</th>\n",
       "      <th>Rating</th>\n",
       "      <th>Image URL</th>\n",
       "    </tr>\n",
       "  </thead>\n",
       "  <tbody>\n",
       "    <tr>\n",
       "      <th>0</th>\n",
       "      <td>Castle Barbeque</td>\n",
       "      <td>Chinese, North Indian</td>\n",
       "      <td>Connaught Place, Central Delhi</td>\n",
       "      <td>4.1</td>\n",
       "      <td>https://im1.dineout.co.in/images/uploads/resta...</td>\n",
       "    </tr>\n",
       "    <tr>\n",
       "      <th>1</th>\n",
       "      <td>Jungle Jamboree</td>\n",
       "      <td>North Indian, Asian, Italian</td>\n",
       "      <td>3CS Mall,Lajpat Nagar - 3, South Delhi</td>\n",
       "      <td>3.9</td>\n",
       "      <td>https://im1.dineout.co.in/images/uploads/resta...</td>\n",
       "    </tr>\n",
       "    <tr>\n",
       "      <th>2</th>\n",
       "      <td>Cafe Knosh</td>\n",
       "      <td>Italian, Continental</td>\n",
       "      <td>The Leela Ambience Convention Hotel,Shahdara, ...</td>\n",
       "      <td>4.3</td>\n",
       "      <td>https://im1.dineout.co.in/images/uploads/resta...</td>\n",
       "    </tr>\n",
       "    <tr>\n",
       "      <th>3</th>\n",
       "      <td>Castle Barbeque</td>\n",
       "      <td>Chinese, North Indian</td>\n",
       "      <td>Pacific Mall,Tagore Garden, West Delhi</td>\n",
       "      <td>3.9</td>\n",
       "      <td>https://im1.dineout.co.in/images/uploads/resta...</td>\n",
       "    </tr>\n",
       "    <tr>\n",
       "      <th>4</th>\n",
       "      <td>The Barbeque Company</td>\n",
       "      <td>North Indian, Chinese</td>\n",
       "      <td>Gardens Galleria,Sector 38A, Noida</td>\n",
       "      <td>3.9</td>\n",
       "      <td>https://im1.dineout.co.in/images/uploads/resta...</td>\n",
       "    </tr>\n",
       "    <tr>\n",
       "      <th>5</th>\n",
       "      <td>India Grill</td>\n",
       "      <td>North Indian, Italian</td>\n",
       "      <td>Hilton Garden Inn,Saket, South Delhi</td>\n",
       "      <td>3.9</td>\n",
       "      <td>https://im1.dineout.co.in/images/uploads/resta...</td>\n",
       "    </tr>\n",
       "    <tr>\n",
       "      <th>6</th>\n",
       "      <td>Delhi Barbeque</td>\n",
       "      <td>North Indian</td>\n",
       "      <td>Taurus Sarovar Portico,Mahipalpur, South Delhi</td>\n",
       "      <td>3.7</td>\n",
       "      <td>https://im1.dineout.co.in/images/uploads/resta...</td>\n",
       "    </tr>\n",
       "    <tr>\n",
       "      <th>7</th>\n",
       "      <td>The Monarch - Bar Be Que Village</td>\n",
       "      <td>North Indian</td>\n",
       "      <td>Indirapuram Habitat Centre,Indirapuram, Ghaziabad</td>\n",
       "      <td>3.8</td>\n",
       "      <td>https://im1.dineout.co.in/images/uploads/resta...</td>\n",
       "    </tr>\n",
       "    <tr>\n",
       "      <th>8</th>\n",
       "      <td>Indian Grill Room</td>\n",
       "      <td>North Indian, Mughlai</td>\n",
       "      <td>Suncity Business Tower,Golf Course Road, Gurgaon</td>\n",
       "      <td>4.3</td>\n",
       "      <td>https://im1.dineout.co.in/images/uploads/resta...</td>\n",
       "    </tr>\n",
       "  </tbody>\n",
       "</table>\n",
       "</div>"
      ],
      "text/plain": [
       "                               Name                       Cuisines  \\\n",
       "0                   Castle Barbeque          Chinese, North Indian   \n",
       "1                   Jungle Jamboree   North Indian, Asian, Italian   \n",
       "2                        Cafe Knosh           Italian, Continental   \n",
       "3                   Castle Barbeque          Chinese, North Indian   \n",
       "4              The Barbeque Company          North Indian, Chinese   \n",
       "5                       India Grill          North Indian, Italian   \n",
       "6                    Delhi Barbeque                   North Indian   \n",
       "7  The Monarch - Bar Be Que Village                   North Indian   \n",
       "8                 Indian Grill Room          North Indian, Mughlai   \n",
       "\n",
       "                                            Location Rating  \\\n",
       "0                     Connaught Place, Central Delhi    4.1   \n",
       "1             3CS Mall,Lajpat Nagar - 3, South Delhi    3.9   \n",
       "2  The Leela Ambience Convention Hotel,Shahdara, ...    4.3   \n",
       "3             Pacific Mall,Tagore Garden, West Delhi    3.9   \n",
       "4                 Gardens Galleria,Sector 38A, Noida    3.9   \n",
       "5               Hilton Garden Inn,Saket, South Delhi    3.9   \n",
       "6     Taurus Sarovar Portico,Mahipalpur, South Delhi    3.7   \n",
       "7  Indirapuram Habitat Centre,Indirapuram, Ghaziabad    3.8   \n",
       "8   Suncity Business Tower,Golf Course Road, Gurgaon    4.3   \n",
       "\n",
       "                                           Image URL  \n",
       "0  https://im1.dineout.co.in/images/uploads/resta...  \n",
       "1  https://im1.dineout.co.in/images/uploads/resta...  \n",
       "2  https://im1.dineout.co.in/images/uploads/resta...  \n",
       "3  https://im1.dineout.co.in/images/uploads/resta...  \n",
       "4  https://im1.dineout.co.in/images/uploads/resta...  \n",
       "5  https://im1.dineout.co.in/images/uploads/resta...  \n",
       "6  https://im1.dineout.co.in/images/uploads/resta...  \n",
       "7  https://im1.dineout.co.in/images/uploads/resta...  \n",
       "8  https://im1.dineout.co.in/images/uploads/resta...  "
      ]
     },
     "execution_count": 227,
     "metadata": {},
     "output_type": "execute_result"
    }
   ],
   "source": [
    "df=pd.DataFrame({'Name': titles,\n",
    "                 'Cuisines':cuisine,\n",
    "               'Location': location,\n",
    "               'Rating': rating,\n",
    "               \"Image URL\": image})\n",
    "df"
   ]
  },
  {
   "cell_type": "markdown",
   "id": "16666ecb",
   "metadata": {},
   "source": [
    "<div style=\"background-color: cyan;text-align: center;color: blue \"> THE END </div>"
   ]
  }
 ],
 "metadata": {
  "kernelspec": {
   "display_name": "Python 3 (ipykernel)",
   "language": "python",
   "name": "python3"
  },
  "language_info": {
   "codemirror_mode": {
    "name": "ipython",
    "version": 3
   },
   "file_extension": ".py",
   "mimetype": "text/x-python",
   "name": "python",
   "nbconvert_exporter": "python",
   "pygments_lexer": "ipython3",
   "version": "3.10.4"
  }
 },
 "nbformat": 4,
 "nbformat_minor": 5
}
